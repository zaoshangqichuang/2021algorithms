{
 "cells": [
  {
   "cell_type": "code",
   "execution_count": 3,
   "metadata": {},
   "outputs": [],
   "source": [
    "import numpy as np\n",
    "import time\n",
    "import random"
   ]
  },
  {
   "cell_type": "markdown",
   "metadata": {},
   "source": [
    "# 第十四章 动态规划"
   ]
  },
  {
   "cell_type": "markdown",
   "metadata": {},
   "source": [
    "将大问题分成小问题后，会出现相互重叠的部分，这是用递归就会很复杂，因此考虑用动态规划进行运算"
   ]
  },
  {
   "cell_type": "markdown",
   "metadata": {},
   "source": [
    "## Q88：爬楼梯的最少成本"
   ]
  },
  {
   "cell_type": "code",
   "execution_count": 2,
   "metadata": {},
   "outputs": [],
   "source": [
    "l0 = [1,100,1,1,100,1]"
   ]
  },
  {
   "cell_type": "markdown",
   "metadata": {},
   "source": [
    "### 用递归的方法解决(回溯法)"
   ]
  },
  {
   "cell_type": "code",
   "execution_count": 19,
   "metadata": {},
   "outputs": [],
   "source": [
    "def cal_min_cost(l,i=0,cost0=0):\n",
    "    #print(i,cost0,min_cost)\n",
    "    if i >= len(l)-2:\n",
    "        return l[i]\n",
    "    elif i < len(l)-2:\n",
    "        cost0 = l[i]\n",
    "        f_i1 = cal_min_cost(l,i+1)\n",
    "        f_i2 = cal_min_cost(l,i+2)\n",
    "        return cost0+min(f_i1,f_i2)"
   ]
  },
  {
   "cell_type": "code",
   "execution_count": 20,
   "metadata": {},
   "outputs": [
    {
     "data": {
      "text/plain": [
       "4"
      ]
     },
     "execution_count": 20,
     "metadata": {},
     "output_type": "execute_result"
    }
   ],
   "source": [
    "cal_min_cost([0]+l0)"
   ]
  },
  {
   "cell_type": "markdown",
   "metadata": {},
   "source": [
    "### 用缓存的递归方法解决（用dp存储每一步的解）"
   ]
  },
  {
   "cell_type": "code",
   "execution_count": 29,
   "metadata": {},
   "outputs": [
    {
     "data": {
      "text/plain": [
       "4"
      ]
     },
     "execution_count": 29,
     "metadata": {},
     "output_type": "execute_result"
    }
   ],
   "source": [
    "def cal_min_cost(l):\n",
    "    l = l+[0]\n",
    "    dp = [None for i in range(len(l))]\n",
    "    dp[0] = l[0]\n",
    "    dp[1] = l[1]\n",
    "    for i in range(2,len(l)):\n",
    "        dp[i] = min(dp[i-1],dp[i-2])+l[i]\n",
    "    return dp[-1]\n",
    "cal_min_cost(l0)"
   ]
  },
  {
   "cell_type": "markdown",
   "metadata": {},
   "source": [
    "### 用缓存的递归方法解决（用dp存储每一步的解,且只保留上一步和上上步的dp）"
   ]
  },
  {
   "cell_type": "code",
   "execution_count": 30,
   "metadata": {},
   "outputs": [
    {
     "data": {
      "text/plain": [
       "4"
      ]
     },
     "execution_count": 30,
     "metadata": {},
     "output_type": "execute_result"
    }
   ],
   "source": [
    "def cal_min_cost(l):\n",
    "    l = l+[0]\n",
    "    dp = [None for i in range(len(l))]\n",
    "    dp[0] = l[0]\n",
    "    dp[1] = l[1]\n",
    "    for i in range(2,len(l)):\n",
    "        dp[i%2] = min(dp[0],dp[1])+l[i]\n",
    "    return dp[i%2]\n",
    "cal_min_cost(l0)"
   ]
  },
  {
   "cell_type": "markdown",
   "metadata": {},
   "source": [
    "## 单序列问题"
   ]
  },
  {
   "cell_type": "markdown",
   "metadata": {},
   "source": [
    "### Q89:房屋被盗"
   ]
  },
  {
   "cell_type": "code",
   "execution_count": 32,
   "metadata": {},
   "outputs": [
    {
     "data": {
      "text/plain": [
       "9"
      ]
     },
     "execution_count": 32,
     "metadata": {},
     "output_type": "execute_result"
    }
   ],
   "source": [
    "def theft(l):\n",
    "    dp = [None for i in range(2)]\n",
    "    dp[0] = l[0]\n",
    "    dp[1] = max(l[0],l[1])\n",
    "    for i in range(2,len(l)):\n",
    "        dp[i%2] = max(dp[(i-1)%2],dp[i%2]+l[i])\n",
    "    return dp[i%2]\n",
    "l = [2,3,4,5,3]\n",
    "theft(l)"
   ]
  },
  {
   "cell_type": "markdown",
   "metadata": {},
   "source": [
    "**用两个状态转移方程去求解**"
   ]
  },
  {
   "cell_type": "code",
   "execution_count": 33,
   "metadata": {},
   "outputs": [
    {
     "data": {
      "text/plain": [
       "9"
      ]
     },
     "execution_count": 33,
     "metadata": {},
     "output_type": "execute_result"
    }
   ],
   "source": [
    "def theft(l):\n",
    "    #未进入房屋偷盗\n",
    "    f = [None for i in range(2)]\n",
    "    #进入房屋偷盗\n",
    "    g = [None for i in range(2)]\n",
    "    f[0] = 0\n",
    "    g[0] = l[0]\n",
    "    f[1] = g[0]\n",
    "    g[1] = l[1]\n",
    "    for i in range(2,len(l)):\n",
    "        g[i%2] = g[i%2]+l[i]\n",
    "        f[i%2] = f[(i-1)%2]\n",
    "    return max(g[i%2],f[i%2])\n",
    "l = [2,3,4,5,3]\n",
    "theft(l)"
   ]
  },
  {
   "cell_type": "markdown",
   "metadata": {},
   "source": [
    "### Q90:环形房屋偷盗"
   ]
  },
  {
   "cell_type": "code",
   "execution_count": 34,
   "metadata": {},
   "outputs": [
    {
     "data": {
      "text/plain": [
       "8"
      ]
     },
     "execution_count": 34,
     "metadata": {},
     "output_type": "execute_result"
    }
   ],
   "source": [
    "max(theft(l[:-1]),theft(l[1:]))"
   ]
  },
  {
   "cell_type": "markdown",
   "metadata": {},
   "source": [
    "### Q91:粉刷房子"
   ]
  },
  {
   "cell_type": "code",
   "execution_count": 36,
   "metadata": {},
   "outputs": [
    {
     "data": {
      "text/plain": [
       "10"
      ]
     },
     "execution_count": 36,
     "metadata": {},
     "output_type": "execute_result"
    }
   ],
   "source": [
    "#n 房子的个数\n",
    "#k color的个数\n",
    "def print_house(l):\n",
    "    dp1 = [None for i in range(2)]\n",
    "    dp2 = [None for i in range(2)]\n",
    "    dp3 = [None for i in range(2)]\n",
    "    dp1[1],dp2[1],dp3[1] = l[0][0],l[0][1],l[0][2]\n",
    "    dp1[0],dp2[0],dp3[0] = min(dp2[1],dp3[1]),min(dp1[1],dp3[1]),min(dp1[1],dp2[1])\n",
    "    for i in range(1,len(l)):\n",
    "        dp1[1] = dp1[0]+l[i][0]\n",
    "        dp2[1] = dp2[0]+l[i][1]\n",
    "        dp3[1] = dp3[0]+l[i][2]\n",
    "        dp1[0],dp2[0],dp3[0] = min(dp2[1],dp3[1]),min(dp1[1],dp3[1]),min(dp1[1],dp2[1])\n",
    "    return min(dp1[1],dp2[1],dp3[1])\n",
    "house = [[17,2,16],[15,14,5],[13,3,1]]\n",
    "print_house(house)"
   ]
  },
  {
   "cell_type": "markdown",
   "metadata": {},
   "source": [
    "### Q92:翻转字符"
   ]
  },
  {
   "cell_type": "code",
   "execution_count": 42,
   "metadata": {
    "scrolled": true
   },
   "outputs": [
    {
     "data": {
      "text/plain": [
       "1"
      ]
     },
     "execution_count": 42,
     "metadata": {},
     "output_type": "execute_result"
    }
   ],
   "source": [
    "s0 = '00110'\n",
    "def fanzhuan(s0):\n",
    "    dp = [None,None]\n",
    "    if s0[0] == '0':\n",
    "        dp[0] = 0\n",
    "        dp[1] = 1\n",
    "    else:\n",
    "        dp[1] = 0\n",
    "        dp[0] = 1\n",
    "    for i in range(1,len(s0)):       \n",
    "        if s0[i] == '0':\n",
    "            dp[0] = dp[0]\n",
    "            dp[1] = min(dp[0]+1,dp[1]+1)          \n",
    "        else:\n",
    "            dp[1] = min(dp[0],dp[1])\n",
    "            dp[0] = dp[0]+1\n",
    "    return min(dp[0],dp[1])\n",
    "fanzhuan(s0)          "
   ]
  },
  {
   "cell_type": "markdown",
   "metadata": {},
   "source": [
    "### Q93:最长的斐波那契数列"
   ]
  },
  {
   "cell_type": "code",
   "execution_count": 10,
   "metadata": {},
   "outputs": [
    {
     "data": {
      "text/plain": [
       "5"
      ]
     },
     "execution_count": 10,
     "metadata": {},
     "output_type": "execute_result"
    }
   ],
   "source": [
    "l = [1,2,3,4,5,6,7,8]\n",
    "def cal_max_num(l):\n",
    "    dp = np.zeros(shape=(len(l),len(l)),dtype=int)\n",
    "    A = {}\n",
    "    for i in range(len(l)):\n",
    "        A[l[i]] = i\n",
    "    maxp = 0\n",
    "    for i in range(1,len(l)):\n",
    "        for j in range(i):\n",
    "            k = l[i]-l[j]\n",
    "            if A.get(k,-1) >= 0 and A[k] < j:\n",
    "                dp[i][j] = dp[j][A[k]] + 1\n",
    "            else:\n",
    "                dp[i][j] = 2\n",
    "            maxp = max(maxp,dp[i][j])\n",
    "            #print(i,j,dp[i][j])\n",
    "    return maxp\n",
    "cal_max_num(l)"
   ]
  },
  {
   "cell_type": "markdown",
   "metadata": {},
   "source": [
    "### Q94:最少回文分割"
   ]
  },
  {
   "cell_type": "code",
   "execution_count": 13,
   "metadata": {},
   "outputs": [
    {
     "data": {
      "text/plain": [
       "1"
      ]
     },
     "execution_count": 13,
     "metadata": {},
     "output_type": "execute_result"
    }
   ],
   "source": [
    "def is_hui_wen(s,ind1,ind2):\n",
    "    p1 = ind1\n",
    "    p2 = ind2\n",
    "    flag = 0\n",
    "    while p1 <= p2:\n",
    "        if s[p1]!= s[p2]:\n",
    "            flag = 1\n",
    "            break\n",
    "        else:\n",
    "            p1 += 1\n",
    "            p2 -= 1\n",
    "    if flag == 0:\n",
    "        return True\n",
    "    else:\n",
    "        return False\n",
    "def min_huiwen_split(s):\n",
    "    dp = [i for i in range(len(s))]\n",
    "    for i in range(len(s)):\n",
    "        for j in range(i):\n",
    "            if is_hui_wen(s,j,i):\n",
    "                if j == 0:\n",
    "                    dp[i] = 0\n",
    "                else:\n",
    "                    dp[i] = min(dp[i],dp[j-1]+1)\n",
    "    return dp[-1]\n",
    "min_huiwen_split('aaba')"
   ]
  },
  {
   "cell_type": "markdown",
   "metadata": {},
   "source": [
    "## 双序列问题"
   ]
  },
  {
   "cell_type": "markdown",
   "metadata": {},
   "source": [
    "### Q95：最长公共子序列"
   ]
  },
  {
   "cell_type": "code",
   "execution_count": 16,
   "metadata": {},
   "outputs": [
    {
     "data": {
      "text/plain": [
       "3"
      ]
     },
     "execution_count": 16,
     "metadata": {},
     "output_type": "execute_result"
    }
   ],
   "source": [
    "def max_mutil_s(s1,s2):\n",
    "    len1 = len(s1)\n",
    "    len2 = len(s2)\n",
    "    dp = np.zeros(shape=(len1,len2),dtype=int)\n",
    "    for i in range(len1):\n",
    "        for j in range(len2):\n",
    "            if s1[i] == s2[j]:\n",
    "                if i > 0 and j > 0:\n",
    "                    dp[i][j] = dp[i-1][j-1]+1\n",
    "                else:\n",
    "                    dp[i][j] = 1\n",
    "            else:\n",
    "                if i > 0 and j > 0:\n",
    "                    dp[i][j] = max(dp[i][j-1],dp[i-1][j])\n",
    "                else:\n",
    "                    dp[i][j] = 0\n",
    "    return dp[-1][-1]\n",
    "                \n",
    "max_mutil_s('abcde','badfe')"
   ]
  },
  {
   "cell_type": "markdown",
   "metadata": {},
   "source": [
    "### Q96:字符串交织"
   ]
  },
  {
   "cell_type": "code",
   "execution_count": 41,
   "metadata": {},
   "outputs": [
    {
     "name": "stdout",
     "output_type": "stream",
     "text": [
      "[[0. 0. 0. 0. 0.]\n",
      " [1. 1. 1. 1. 1.]\n",
      " [1. 1. 1. 1. 1.]\n",
      " [1. 1. 1. 1. 1.]\n",
      " [1. 1. 1. 1. 1.]]\n",
      "[[0. 1. 1. 1. 1.]\n",
      " [1. 2. 2. 2. 2.]\n",
      " [1. 2. 2. 2. 2.]\n",
      " [1. 2. 2. 2. 2.]\n",
      " [1. 2. 2. 2. 2.]]\n",
      "[[0. 1. 1. 1. 1.]\n",
      " [1. 2. 2. 2. 2.]\n",
      " [2. 3. 3. 3. 3.]\n",
      " [2. 3. 3. 3. 3.]\n",
      " [2. 3. 3. 3. 3.]]\n",
      "[[0. 1. 2. 2. 2.]\n",
      " [1. 2. 3. 3. 3.]\n",
      " [2. 3. 4. 4. 4.]\n",
      " [2. 3. 4. 4. 4.]\n",
      " [2. 3. 4. 4. 4.]]\n",
      "[[0. 1. 2. 2. 2.]\n",
      " [1. 2. 3. 3. 3.]\n",
      " [2. 3. 4. 4. 4.]\n",
      " [3. 4. 5. 5. 5.]\n",
      " [3. 4. 5. 5. 5.]]\n",
      "[[0. 1. 2. 3. 3.]\n",
      " [1. 2. 3. 4. 4.]\n",
      " [2. 3. 4. 5. 5.]\n",
      " [3. 4. 5. 6. 6.]\n",
      " [3. 4. 5. 6. 6.]]\n",
      "[[0. 1. 2. 3. 4.]\n",
      " [1. 2. 3. 4. 5.]\n",
      " [2. 3. 4. 5. 6.]\n",
      " [3. 4. 5. 6. 7.]\n",
      " [3. 4. 5. 6. 7.]]\n",
      "[[0. 1. 2. 3. 4.]\n",
      " [1. 2. 3. 4. 5.]\n",
      " [2. 3. 4. 5. 6.]\n",
      " [3. 4. 5. 6. 7.]\n",
      " [4. 5. 6. 7. 8.]]\n"
     ]
    },
    {
     "data": {
      "text/plain": [
       "True"
      ]
     },
     "execution_count": 41,
     "metadata": {},
     "output_type": "execute_result"
    }
   ],
   "source": [
    "def is_jiaozhi(s0,s1,s2):\n",
    "    len0 = len(s0)\n",
    "    len1 = len(s1)\n",
    "    len2 = len(s2)\n",
    "    dp = np.zeros(shape=(len0+1,len1+1,len2+1))\n",
    "    flag = 0\n",
    "    s1 = ' '+s1\n",
    "    s2 = ' '+s2\n",
    "    for i in range(len0):\n",
    "        for j in range(len1+1):\n",
    "            for k in range(len2+1):\n",
    "                if s0[i] == s1[j]:\n",
    "                    dp[i+1][j][k] = dp[i][j-1][k]+1\n",
    "                if s0[i] == s2[k]:\n",
    "                    dp[i+1][j][k] = dp[i][j][k-1]+1\n",
    "                if s0[i] != s1[j] and s0[i] != s2[k]: \n",
    "                    if j > 0 and k > 0:\n",
    "                        dp[i+1][j][k] = max(dp[i][j][k],dp[i+1][j-1][k],dp[i+1][j][k-1])\n",
    "                    elif j > 0 and k == 0:\n",
    "                        dp[i+1][j][k] = max(dp[i][j][k],dp[i+1][j-1][k])\n",
    "                    elif k > 0 and j == 0:\n",
    "                        dp[i+1][j][k] = max(dp[i][j][k],dp[i+1][j][k-1])\n",
    "        print(dp[i+1])       \n",
    "        if dp[i+1][-1][-1] < i+1:\n",
    "            flag = 1\n",
    "            break\n",
    "    if flag == 1:\n",
    "        return False\n",
    "    else:\n",
    "        return True\n",
    "is_jiaozhi('cgdkemnf','cdef','gkmn')   "
   ]
  },
  {
   "cell_type": "markdown",
   "metadata": {},
   "source": [
    "### Q97：子序列的数目"
   ]
  },
  {
   "cell_type": "code",
   "execution_count": 43,
   "metadata": {},
   "outputs": [
    {
     "data": {
      "text/plain": [
       "3"
      ]
     },
     "execution_count": 43,
     "metadata": {},
     "output_type": "execute_result"
    }
   ],
   "source": [
    "def have_xulie_num(s,t):\n",
    "    len_s = len(s)\n",
    "    len_t = len(t)\n",
    "    dp = np.zeros(shape=(len_s+1,len_t+1),dtype=int)\n",
    "    dp[0][0] = 1\n",
    "    for i in range(1,len_s+1):\n",
    "        dp[i][0] = 1\n",
    "        for j in range(1,min(i+1,len_t+1)):\n",
    "            if s[i-1] == t[j-1]:\n",
    "                dp[i][j] = dp[i-1][j-1]+dp[i-1][j]\n",
    "            else:\n",
    "                dp[i][j] = dp[i-1][j]\n",
    "    return dp[-1][-1]\n",
    "have_xulie_num('appplep','apple')      "
   ]
  },
  {
   "cell_type": "markdown",
   "metadata": {},
   "source": [
    "## 矩阵问题"
   ]
  },
  {
   "cell_type": "markdown",
   "metadata": {},
   "source": [
    "### Q98:路径的数目"
   ]
  },
  {
   "cell_type": "code",
   "execution_count": 46,
   "metadata": {},
   "outputs": [
    {
     "data": {
      "text/plain": [
       "6"
      ]
     },
     "execution_count": 46,
     "metadata": {},
     "output_type": "execute_result"
    }
   ],
   "source": [
    "def cal_road_num(m,n):\n",
    "    if m==1 or n==1:\n",
    "        return 1\n",
    "    elif m > 1 and n > 1:\n",
    "        return cal_road_num(m-1,n)+cal_road_num(m,n-1)\n",
    "cal_road_num(3,3)"
   ]
  },
  {
   "cell_type": "markdown",
   "metadata": {},
   "source": [
    "### Q99:最小路径之和"
   ]
  },
  {
   "cell_type": "code",
   "execution_count": 56,
   "metadata": {},
   "outputs": [
    {
     "data": {
      "text/plain": [
       "8"
      ]
     },
     "execution_count": 56,
     "metadata": {},
     "output_type": "execute_result"
    }
   ],
   "source": [
    "def f0(a,m,n):\n",
    "    if m==1 and n > 1:\n",
    "        return a[m-1][n-1]+f0(a,m,n-1)\n",
    "    elif n==1 and m>1:\n",
    "        return a[m-1][n-1]+f0(a,m-1,n)\n",
    "    elif m==1 and n==1:\n",
    "        return a[m-1][n-1]\n",
    "    else:\n",
    "        return min(f0(a,m-1,n),f0(a,m,n-1))+a[m-1][n-1]\n",
    "f0([[1,3,1],[2,5,2],[3,4,1]],3,3)"
   ]
  },
  {
   "cell_type": "markdown",
   "metadata": {},
   "source": [
    "## 背包问题"
   ]
  },
  {
   "cell_type": "markdown",
   "metadata": {},
   "source": [
    "### Q101:分割等和子集"
   ]
  },
  {
   "cell_type": "code",
   "execution_count": 66,
   "metadata": {},
   "outputs": [
    {
     "name": "stdout",
     "output_type": "stream",
     "text": [
      "0 4 [{0: True, 4: False}, {0: True}, {0: True}, {0: True}]\n",
      "0 1 [{0: True, 4: False, 1: False}, {0: True, 4: False}, {0: True}, {0: True}]\n",
      "1 4 [{0: True, 4: False, 1: False}, {0: True, 4: False}, {0: True}, {0: True}]\n",
      "1 0 [{0: True, 4: False, 1: False}, {0: True, 4: False}, {0: True, 4: False}, {0: True}]\n",
      "2 4 [{0: True, 4: False, 1: False}, {0: True, 4: False}, {0: True, 4: True}, {0: True}]\n",
      "3 4 [{0: True, 4: False, 1: False}, {0: True, 4: False}, {0: True, 4: True}, {0: True, 4: True}]\n"
     ]
    },
    {
     "data": {
      "text/plain": [
       "True"
      ]
     },
     "execution_count": 66,
     "metadata": {},
     "output_type": "execute_result"
    }
   ],
   "source": [
    "def canPatition(l):\n",
    "    sum0 = 0\n",
    "    for i in l:\n",
    "        sum0 += i\n",
    "    if sum0%2 == 0:\n",
    "        dp = [{0:True} for i in range(len(l)+1)]\n",
    "        return subsetSum(l,ind=len(l),target=sum0//2,dp=dp)\n",
    "def subsetSum(l,ind,target,dp):\n",
    "    if ind == 0 and target > 0:\n",
    "        dp[ind][target] = False\n",
    "        print(ind,target,dp)\n",
    "        return dp[ind][target]\n",
    "    elif target == 0:\n",
    "        print(ind,target,dp)\n",
    "        return dp[ind][target]\n",
    "    else:\n",
    "        dp[ind][target] = subsetSum(l,ind-1,target,dp)\n",
    "        if dp[ind][target] == False and target-l[ind-1] >= 0:\n",
    "            dp[ind][target] = subsetSum(l,ind-1,target-l[ind-1],dp)\n",
    "        print(ind,target,dp)\n",
    "        return dp[ind][target]\n",
    "canPatition([3,4,1])     "
   ]
  },
  {
   "cell_type": "markdown",
   "metadata": {},
   "source": [
    "### Q102:加减的目标值"
   ]
  },
  {
   "cell_type": "code",
   "execution_count": 67,
   "metadata": {},
   "outputs": [
    {
     "name": "stdout",
     "output_type": "stream",
     "text": [
      "0 4 [{0: True, 4: False}, {0: True}, {0: True}, {0: True}]\n",
      "0 2 [{0: True, 4: False, 2: False}, {0: True, 4: False}, {0: True}, {0: True}]\n",
      "1 4 [{0: True, 4: False, 2: False}, {0: True, 4: False}, {0: True}, {0: True}]\n",
      "0 2 [{0: True, 4: False, 2: False}, {0: True, 4: False}, {0: True, 4: False}, {0: True}]\n",
      "0 0 [{0: True, 4: False, 2: False}, {0: True, 4: False, 2: False}, {0: True, 4: False}, {0: True}]\n",
      "1 2 [{0: True, 4: False, 2: False}, {0: True, 4: False, 2: True}, {0: True, 4: False}, {0: True}]\n",
      "2 4 [{0: True, 4: False, 2: False}, {0: True, 4: False, 2: True}, {0: True, 4: True}, {0: True}]\n",
      "3 4 [{0: True, 4: False, 2: False}, {0: True, 4: False, 2: True}, {0: True, 4: True}, {0: True, 4: True}]\n"
     ]
    },
    {
     "data": {
      "text/plain": [
       "True"
      ]
     },
     "execution_count": 67,
     "metadata": {},
     "output_type": "execute_result"
    }
   ],
   "source": [
    "def canPartition1(l,target):\n",
    "    sum0 = 0\n",
    "    for i in l:\n",
    "        sum0 += i\n",
    "    if (sum0+target)%2 == 0:\n",
    "        dp = [{0:True} for i in range(len(l)+1)]\n",
    "        return subsetSum(l,ind=len(l),target=(sum0+target)//2,dp=dp)\n",
    "    else:\n",
    "        return False\n",
    "canPartition1([2,2,2],2)"
   ]
  },
  {
   "cell_type": "markdown",
   "metadata": {},
   "source": [
    "### Q103:最少的硬币（无限背包问题）"
   ]
  },
  {
   "cell_type": "code",
   "execution_count": 5,
   "metadata": {},
   "outputs": [
    {
     "data": {
      "text/plain": [
       "3"
      ]
     },
     "execution_count": 5,
     "metadata": {},
     "output_type": "execute_result"
    }
   ],
   "source": [
    "def least_num(coins,target):\n",
    "    ind = len(coins)\n",
    "    dp = {}\n",
    "    dp[0] = 0\n",
    "    for i in range(1,target+1):#不能用硬币输出该面值硬币\n",
    "        dp[i] = i+1\n",
    "    for i in range(len(coins)):\n",
    "        for j in range(target,0,-1):\n",
    "            k = 0\n",
    "            while j-k*coins[i] >= 0:\n",
    "                #print(j,k,coins,i,dp)\n",
    "                dp[j] = min(dp[j],dp[j-k*coins[i]]+k)\n",
    "                k += 1\n",
    "            #print(i,j,dp)\n",
    "    if dp[target] > target:\n",
    "        return None\n",
    "    else:\n",
    "        return dp[target]\n",
    "least_num([1,3,9,10],15)"
   ]
  },
  {
   "cell_type": "markdown",
   "metadata": {},
   "source": [
    "### Q104:排列的数目"
   ]
  },
  {
   "cell_type": "code",
   "execution_count": 12,
   "metadata": {},
   "outputs": [
    {
     "name": "stdout",
     "output_type": "stream",
     "text": [
      "{0: 1, 1: 0, 2: 0, 3: 0} 1 1\n",
      "{0: 1, 1: 1, 2: 0, 3: 0} 2 1\n",
      "{0: 1, 1: 1, 2: 1, 3: 0} 2 2\n",
      "{0: 1, 1: 1, 2: 2, 3: 0} 3 1\n",
      "{0: 1, 1: 1, 2: 2, 3: 2} 3 2\n",
      "{0: 1, 1: 1, 2: 2, 3: 3} 3 3\n"
     ]
    },
    {
     "data": {
      "text/plain": [
       "4"
      ]
     },
     "execution_count": 12,
     "metadata": {},
     "output_type": "execute_result"
    }
   ],
   "source": [
    "def least_num(coins,target):\n",
    "    ind = len(coins)\n",
    "    dp = {}\n",
    "    dp[0] = 1\n",
    "    for i in range(1,target+1):\n",
    "        dp[i] = 0\n",
    "    for i in range(1,target+1):\n",
    "        for coin in coins:\n",
    "            if i >= coin:\n",
    "                print(dp,i,coin)\n",
    "                dp[i] += dp[i-coin]\n",
    "    return dp[target]\n",
    "least_num([1,2,3],3)"
   ]
  },
  {
   "cell_type": "code",
   "execution_count": null,
   "metadata": {},
   "outputs": [],
   "source": []
  }
 ],
 "metadata": {
  "kernelspec": {
   "display_name": "Python 3",
   "language": "python",
   "name": "python3"
  },
  "language_info": {
   "codemirror_mode": {
    "name": "ipython",
    "version": 3
   },
   "file_extension": ".py",
   "mimetype": "text/x-python",
   "name": "python",
   "nbconvert_exporter": "python",
   "pygments_lexer": "ipython3",
   "version": "3.7.0"
  },
  "toc": {
   "base_numbering": 1,
   "nav_menu": {},
   "number_sections": false,
   "sideBar": true,
   "skip_h1_title": false,
   "title_cell": "Table of Contents",
   "title_sidebar": "Contents",
   "toc_cell": false,
   "toc_position": {},
   "toc_section_display": true,
   "toc_window_display": true
  }
 },
 "nbformat": 4,
 "nbformat_minor": 2
}
