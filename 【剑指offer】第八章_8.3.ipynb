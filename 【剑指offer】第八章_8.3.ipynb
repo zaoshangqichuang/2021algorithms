{
 "cells": [
  {
   "cell_type": "code",
   "execution_count": 1,
   "id": "74c13ee5",
   "metadata": {},
   "outputs": [],
   "source": [
    "import numpy as np\n",
    "import random\n",
    "import time"
   ]
  },
  {
   "cell_type": "markdown",
   "id": "7d942669",
   "metadata": {},
   "source": [
    "# 第八章 二叉树\n",
    "## 8.2 二叉搜索树  \n",
    "**左子树节点<根节点<=右子树节点**"
   ]
  },
  {
   "cell_type": "code",
   "execution_count": 29,
   "id": "50ac135d",
   "metadata": {},
   "outputs": [],
   "source": [
    "#队列，便于广度优先遍历\n",
    "class treequeue(object):\n",
    "    def __init__(self):\n",
    "        self.l = []\n",
    "    def is_not_empty(self):\n",
    "        if len(self.l)>0:\n",
    "            return True\n",
    "        else:\n",
    "            return False\n",
    "    def enqueue(self,val):\n",
    "        self.l.append(val)\n",
    "    def dequeue(self):\n",
    "        if self.is_not_empty():\n",
    "            x = self.l.pop(0)\n",
    "        return x\n",
    "#二叉树\n",
    "class bfs(object):\n",
    "    def __init__(self,root=None):\n",
    "        self.root = root\n",
    "        self.left = None\n",
    "        self.right = None\n",
    "    def bfs_travel(self):\n",
    "        q = treequeue()\n",
    "        q.enqueue(self)\n",
    "        cur = 1\n",
    "        next = 0\n",
    "        while q.is_not_empty():\n",
    "            x = q.dequeue()\n",
    "            print(x.root,end=' ')\n",
    "            cur -= 1\n",
    "            if x.left is not None:\n",
    "                q.enqueue(x.left)\n",
    "                next += 1\n",
    "            if x.right is not None:\n",
    "                q.enqueue(x.right)\n",
    "                next += 1\n",
    "            if cur == 0:\n",
    "                print(\"\\n\")\n",
    "                cur,next = next,cur\n",
    "    #查找下一个节点\n",
    "    def in_order_search(self,cur):\n",
    "        if self.left is not None:\n",
    "            self.left.in_order_search(cur)\n",
    "        print(self.root)\n",
    "        if self.root > cur:\n",
    "            return self\n",
    "        else:\n",
    "            if self.right is not None:\n",
    "                self.right.in_order_search(cur)\n",
    "        \n",
    "        \n",
    "        \n",
    "#从字符中构建二叉树\n",
    "def tree_from_s(cur):\n",
    "    if cur == '#':\n",
    "        return None\n",
    "    else:\n",
    "        return bfs(int(cur))\n",
    "#反序列化\n",
    "def deserialize(s0,i=0):\n",
    "    while len(s0)>0:\n",
    "        cur = s0[i]\n",
    "        tree = tree_from_s(cur)\n",
    "        i += 1\n",
    "        if tree is not None and len(s0)>0:\n",
    "            i,tree.left = deserialize(s0,i)\n",
    "            i,tree.right = deserialize(s0,i)\n",
    "        return i,tree\n",
    "            "
   ]
  },
  {
   "cell_type": "code",
   "execution_count": 30,
   "id": "4b57968c",
   "metadata": {},
   "outputs": [],
   "source": [
    "s0='4,2,1,#,#,3,#,#,5,#,6,#,#'"
   ]
  },
  {
   "cell_type": "code",
   "execution_count": 31,
   "id": "9f8bcc0c",
   "metadata": {},
   "outputs": [],
   "source": [
    "_,tree = deserialize(list(s0.split(',')))"
   ]
  },
  {
   "cell_type": "code",
   "execution_count": 32,
   "id": "2ef408e4",
   "metadata": {},
   "outputs": [
    {
     "name": "stdout",
     "output_type": "stream",
     "text": [
      "4 \n",
      "\n",
      "2 5 \n",
      "\n",
      "1 3 6 \n",
      "\n"
     ]
    }
   ],
   "source": [
    "tree.bfs_travel()"
   ]
  },
  {
   "cell_type": "code",
   "execution_count": 34,
   "id": "1f1239d7",
   "metadata": {},
   "outputs": [
    {
     "name": "stdout",
     "output_type": "stream",
     "text": [
      "1\n",
      "2\n",
      "3\n",
      "4\n"
     ]
    },
    {
     "data": {
      "text/plain": [
       "<__main__.bfs at 0x283d6a92ac0>"
      ]
     },
     "execution_count": 34,
     "metadata": {},
     "output_type": "execute_result"
    }
   ],
   "source": [
    "tree.in_order_search(3)"
   ]
  },
  {
   "cell_type": "markdown",
   "id": "50405201",
   "metadata": {},
   "source": [
    "### Q55:二叉搜索树迭代器：用一个O(h)的栈实现"
   ]
  },
  {
   "cell_type": "code",
   "execution_count": 87,
   "id": "9b372c9e",
   "metadata": {},
   "outputs": [],
   "source": [
    "#栈，方便进行中序遍历\n",
    "class stacknode(object):\n",
    "    def __init__(self,val=None):\n",
    "        self.val = val\n",
    "        self.next = None\n",
    "class treestack(object):\n",
    "    def __init__(self):\n",
    "        self.dummy = stacknode()\n",
    "        self.l = [self.dummy]\n",
    "    def is_empty(self):\n",
    "        if self.l[0].next == None:\n",
    "            return True\n",
    "        else:\n",
    "            return False\n",
    "    def push(self,val):\n",
    "        newnode = stacknode(val)\n",
    "        oldnode = self.l[0]\n",
    "        newnode.next = oldnode\n",
    "        self.l.pop(0)\n",
    "        self.l.append(newnode)\n",
    "    def pop(self):\n",
    "        if self.is_empty():\n",
    "            return \n",
    "        else:\n",
    "            popnode = self.l.pop(0)\n",
    "            self.l.append(popnode.next)\n",
    "            return popnode.val\n",
    "class BSTIterator(object):\n",
    "    def __init__(self,tree):\n",
    "        self.tree = tree\n",
    "        self.stack = treestack()\n",
    "        #self.stack.push(self.tree)\n",
    "        self.cur = self.tree\n",
    "        self.flag = 1\n",
    "    def next(self):\n",
    "        while self.cur is not None :\n",
    "            self.stack.push(self.cur)\n",
    "            self.cur = self.cur.left\n",
    "        self.cur = self.stack.pop()\n",
    "        x = self.cur\n",
    "        self.cur = self.cur.right\n",
    "        print(x.root)\n",
    "        return x"
   ]
  },
  {
   "cell_type": "code",
   "execution_count": 88,
   "id": "c8c09f39",
   "metadata": {},
   "outputs": [
    {
     "name": "stdout",
     "output_type": "stream",
     "text": [
      "1\n",
      "2\n",
      "3\n",
      "4\n",
      "5\n",
      "6\n"
     ]
    }
   ],
   "source": [
    "t = BSTIterator(tree)\n",
    "for i in range(6):\n",
    "    t.next()\n"
   ]
  },
  {
   "cell_type": "code",
   "execution_count": 84,
   "id": "fd711c46",
   "metadata": {},
   "outputs": [
    {
     "data": {
      "text/plain": [
       "4"
      ]
     },
     "execution_count": 84,
     "metadata": {},
     "output_type": "execute_result"
    }
   ],
   "source": [
    "i"
   ]
  },
  {
   "cell_type": "markdown",
   "id": "cdf230ce",
   "metadata": {},
   "source": [
    "### 是否存在两个值的和为k的两个节点  \n",
    "#### 构建一个反向二叉树搜索的迭代器"
   ]
  },
  {
   "cell_type": "code",
   "execution_count": 103,
   "id": "3ecf64c2",
   "metadata": {},
   "outputs": [],
   "source": [
    "class BSTIterator(object):\n",
    "    def __init__(self,tree):\n",
    "        self.tree = tree\n",
    "        self.stack = treestack()\n",
    "        #self.stack.push(self.tree)\n",
    "        self.cur1 = self.tree\n",
    "        self.cur2 = self.tree\n",
    "        self.flag = 1\n",
    "    def next1(self):\n",
    "        while self.cur1 is not None :\n",
    "            self.stack.push(self.cur1)\n",
    "            self.cur1 = self.cur1.left\n",
    "        self.cur1 = self.stack.pop()\n",
    "        x = self.cur1\n",
    "        self.cur1 = self.cur1.right\n",
    "        #print(x.root,end=' ')\n",
    "        return x\n",
    "    def next2(self):\n",
    "        while self.cur2 is not None :\n",
    "            self.stack.push(self.cur2)\n",
    "            self.cur2 = self.cur2.right\n",
    "        self.cur2 = self.stack.pop()\n",
    "        x = self.cur2\n",
    "        self.cur2 = self.cur2.left\n",
    "        #print(x.root,end=' ')\n",
    "        return x"
   ]
  },
  {
   "cell_type": "code",
   "execution_count": 106,
   "id": "ec11186e",
   "metadata": {},
   "outputs": [
    {
     "name": "stdout",
     "output_type": "stream",
     "text": [
      "8 \n",
      "\n",
      "6 10 \n",
      "\n",
      "5 7 9 11 \n",
      "\n"
     ]
    }
   ],
   "source": [
    "s1='8,6,5,#,#,7,#,#,10,9,#,#,11,#,#'\n",
    "_,tree1 = deserialize(list(s1.split(',')))\n",
    "tree1.bfs_travel()"
   ]
  },
  {
   "cell_type": "code",
   "execution_count": 107,
   "id": "6c3e5961",
   "metadata": {},
   "outputs": [
    {
     "name": "stdout",
     "output_type": "stream",
     "text": [
      "\n",
      "\n"
     ]
    }
   ],
   "source": [
    "t = BSTIterator(tree1)\n",
    "for i in range(6):\n",
    "    t.next1()\n",
    "print('\\n')\n",
    "for i in range(6):\n",
    "    t.next2()"
   ]
  },
  {
   "cell_type": "code",
   "execution_count": 113,
   "id": "71254483",
   "metadata": {},
   "outputs": [],
   "source": [
    "def exist_sum(tree1,sum):\n",
    "    t = BSTIterator(tree1)\n",
    "    p1 = t.next1()\n",
    "    p2 = t.next2()\n",
    "    flag = 0\n",
    "    while p1.root < p2.root:\n",
    "        if p1.root + p2.root < sum:\n",
    "            p1 = t.next1()\n",
    "        elif p1.root + p2.root > sum:\n",
    "            p2 = t.next2()\n",
    "        else:\n",
    "            flag = 1\n",
    "            print('存在！')\n",
    "            print(p1.root,p2.root)\n",
    "            break\n",
    "    if flag == 0:\n",
    "        print('不存在')\n",
    "        return False\n",
    "    else:\n",
    "        return True"
   ]
  },
  {
   "cell_type": "code",
   "execution_count": 114,
   "id": "049286fa",
   "metadata": {},
   "outputs": [
    {
     "name": "stdout",
     "output_type": "stream",
     "text": [
      "不存在\n"
     ]
    },
    {
     "data": {
      "text/plain": [
       "False"
      ]
     },
     "execution_count": 114,
     "metadata": {},
     "output_type": "execute_result"
    }
   ],
   "source": [
    "exist_sum(tree1,22)"
   ]
  },
  {
   "cell_type": "code",
   "execution_count": null,
   "id": "fabf5336",
   "metadata": {},
   "outputs": [],
   "source": []
  }
 ],
 "metadata": {
  "kernelspec": {
   "display_name": "Python 3 (ipykernel)",
   "language": "python",
   "name": "python3"
  },
  "language_info": {
   "codemirror_mode": {
    "name": "ipython",
    "version": 3
   },
   "file_extension": ".py",
   "mimetype": "text/x-python",
   "name": "python",
   "nbconvert_exporter": "python",
   "pygments_lexer": "ipython3",
   "version": "3.9.7"
  }
 },
 "nbformat": 4,
 "nbformat_minor": 5
}
