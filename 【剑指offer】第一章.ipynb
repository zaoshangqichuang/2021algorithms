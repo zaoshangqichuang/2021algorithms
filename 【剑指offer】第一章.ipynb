{
 "cells": [
  {
   "cell_type": "markdown",
   "id": "5b7a8d33",
   "metadata": {},
   "source": [
    "# 第一章整数  \n",
    "## Q5:无重叠字母的单词长度的最大乘积"
   ]
  },
  {
   "cell_type": "code",
   "execution_count": 1,
   "id": "0ddb31ba",
   "metadata": {},
   "outputs": [],
   "source": [
    "import time\n",
    "import numpy as np"
   ]
  },
  {
   "cell_type": "code",
   "execution_count": 24,
   "id": "fe734145",
   "metadata": {},
   "outputs": [],
   "source": [
    "#测试用例,随机生成1000个words\n",
    "#words = ['abcw','foo','bar','fxyz','abcdef']\n",
    "words = []\n",
    "for i in range(1000):\n",
    "    s = ''\n",
    "    s_len = np.random.randint(5,10,1)[0]\n",
    "    for j in range(s_len):\n",
    "        s += chr(np.random.randint(97,122,1)[0])\n",
    "    words.append(s)"
   ]
  },
  {
   "cell_type": "code",
   "execution_count": 25,
   "id": "955850e6",
   "metadata": {},
   "outputs": [
    {
     "name": "stderr",
     "output_type": "stream",
     "text": [
      "C:\\Users\\admin\\AppData\\Local\\Temp/ipykernel_103724/3241028912.py:6: DeprecationWarning: `np.bool` is a deprecated alias for the builtin `bool`. To silence this warning, use `bool` by itself. Doing this will not modify any behavior and is safe. If you specifically wanted the numpy scalar type, use `np.bool_` here.\n",
      "Deprecated in NumPy 1.20; for more details and guidance: https://numpy.org/devdocs/release/1.20.0-notes.html#deprecations\n",
      "  words_dict.append(np.zeros(shape=(1,26),dtype=np.bool))\n"
     ]
    },
    {
     "name": "stdout",
     "output_type": "stream",
     "text": [
      "81\n",
      "Time used: 2516.546300 ms\n"
     ]
    }
   ],
   "source": [
    "## 自建哈希表测试\n",
    "start = time.perf_counter()\n",
    "words_dict = []\n",
    "n = len(words)\n",
    "for word in words:\n",
    "    words_dict.append(np.zeros(shape=(1,26),dtype=np.bool))\n",
    "    for alpha in word:\n",
    "        words_dict[-1][0,ord(alpha)-ord('a')]=True\n",
    "\n",
    "max_m = 0\n",
    "for i in range(n-1):\n",
    "    for j in range(i+1,n):\n",
    "        flag = 0\n",
    "        for k in range(26):\n",
    "            if words_dict[i][0,k] & words_dict[j][0,k]:\n",
    "                flag = 1\n",
    "                break\n",
    "        if flag == 0:\n",
    "            max_m = max(len(words[i])*len(words[j]),max_m)\n",
    "print(max_m)       \n",
    "elapsed = time.perf_counter() - start\n",
    "print('Time used:','%.6f ms'%(1000*elapsed))"
   ]
  },
  {
   "cell_type": "code",
   "execution_count": 26,
   "id": "115e5af4",
   "metadata": {},
   "outputs": [
    {
     "name": "stdout",
     "output_type": "stream",
     "text": [
      "81\n",
      "Time used: 132.474900 ms\n"
     ]
    }
   ],
   "source": [
    "start = time.perf_counter()\n",
    "words_dict = []\n",
    "n = len(words)\n",
    "for word in words:\n",
    "    words_dict.append(0b0)\n",
    "    for alpha in word:\n",
    "        words_dict[-1] |= 1 << ord(alpha)-ord('a')\n",
    "        #最右侧表示为a\n",
    "max_m = 0\n",
    "for i in range(n-1):\n",
    "    for j in range(i+1,n):\n",
    "        if words_dict[i] & words_dict[j] == 0:\n",
    "            max_m = max(len(words[i])*len(words[j]),max_m)\n",
    "print(max_m)       \n",
    "elapsed = time.perf_counter() - start\n",
    "print('Time used:','%.6f ms'%(1000*elapsed))"
   ]
  },
  {
   "cell_type": "code",
   "execution_count": null,
   "id": "59729848",
   "metadata": {},
   "outputs": [],
   "source": []
  }
 ],
 "metadata": {
  "kernelspec": {
   "display_name": "Python 3 (ipykernel)",
   "language": "python",
   "name": "python3"
  },
  "language_info": {
   "codemirror_mode": {
    "name": "ipython",
    "version": 3
   },
   "file_extension": ".py",
   "mimetype": "text/x-python",
   "name": "python",
   "nbconvert_exporter": "python",
   "pygments_lexer": "ipython3",
   "version": "3.9.7"
  }
 },
 "nbformat": 4,
 "nbformat_minor": 5
}
