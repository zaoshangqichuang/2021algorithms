{
 "cells": [
  {
   "cell_type": "markdown",
   "metadata": {},
   "source": [
    "# 第六章 栈"
   ]
  },
  {
   "cell_type": "code",
   "execution_count": 4,
   "metadata": {},
   "outputs": [],
   "source": [
    "import numpy as np\n",
    "import random\n",
    "import time"
   ]
  },
  {
   "cell_type": "markdown",
   "metadata": {},
   "source": [
    "## 栈的基本形式"
   ]
  },
  {
   "cell_type": "code",
   "execution_count": 2,
   "metadata": {},
   "outputs": [],
   "source": [
    "class ListNode(object):\n",
    "    def __init__(self,item,node=None):\n",
    "        self.val = item\n",
    "        self.next = node\n",
    "class Stack(object):\n",
    "    def __init__(self):\n",
    "        self.dummy = ListNode(0)\n",
    "        self.l = [self.dummy]\n",
    "    def push(self,value):\n",
    "        newnode = ListNode(value)\n",
    "        oldnode = self.l[0]\n",
    "        newnode.next = oldnode\n",
    "        self.l.append(newnode)\n",
    "        self.l.pop(0)\n",
    "    def pop(self):\n",
    "        upnode = self.l[0]\n",
    "        print(upnode.val)\n",
    "        if upnode.next != None:\n",
    "            self.l.append(upnode.next)\n",
    "            self.l.pop(0)\n",
    "        else:\n",
    "            print(\"空栈！\")"
   ]
  },
  {
   "cell_type": "code",
   "execution_count": 6,
   "metadata": {},
   "outputs": [
    {
     "name": "stdout",
     "output_type": "stream",
     "text": [
      "10\n",
      "9\n",
      "8\n",
      "7\n",
      "6\n",
      "5\n",
      "4\n",
      "3\n",
      "2\n",
      "1\n"
     ]
    }
   ],
   "source": [
    "s = Stack()\n",
    "for i in range(1,11):\n",
    "    s.push(i)\n",
    "for i in range(1,11):\n",
    "    s.pop()"
   ]
  },
  {
   "cell_type": "markdown",
   "metadata": {},
   "source": [
    "## Q37 小行星碰撞问题"
   ]
  },
  {
   "cell_type": "code",
   "execution_count": 8,
   "metadata": {},
   "outputs": [
    {
     "name": "stdout",
     "output_type": "stream",
     "text": [
      "[4, 5, -6, 4, 8, -5]\n"
     ]
    }
   ],
   "source": [
    "#测试用例\n",
    "l0 = []\n",
    "for i in range(10):\n",
    "    l0.append(np.random.randint(1,61,1)[0]*(2*np.random.randint(0,2,1)[0]-1))\n",
    "l0 = [4,5,-6,4,8,-5]\n",
    "print(l0)"
   ]
  },
  {
   "cell_type": "code",
   "execution_count": 9,
   "metadata": {},
   "outputs": [],
   "source": [
    "class ListNode(object):\n",
    "    def __init__(self,item,node=None):\n",
    "        self.val = item\n",
    "        self.next = node\n",
    "class CollisionStack(object):\n",
    "    def __init__(self):\n",
    "        self.dummy = ListNode(0)\n",
    "        self.l = [self.dummy]\n",
    "    def have_same_sign(self,old,new):\n",
    "        if old.val > 0 and new.val > 0:\n",
    "            return True\n",
    "        elif old.val < 0 and new.val < 0:\n",
    "            return True\n",
    "        elif old.val < 0 and new.val > 0:\n",
    "            return True\n",
    "        else:\n",
    "            return False\n",
    "    def new_is_bigger(self,old,new):\n",
    "        if abs(new.val) > abs(old.val):\n",
    "            return True\n",
    "        else:\n",
    "            return False\n",
    "    def new_equal_old(self,old,new):\n",
    "        if abs(new.val) == abs(old.val):\n",
    "            return True\n",
    "        else:\n",
    "            return False\n",
    "    def push(self,value):\n",
    "        oldnode = self.l[0]\n",
    "        newnode = ListNode(value)\n",
    "        while oldnode.next != None:\n",
    "            if self.have_same_sign(oldnode,newnode):\n",
    "                #不会碰撞，入栈\n",
    "                newnode.next = oldnode\n",
    "                self.l.append(newnode)\n",
    "                self.l.pop(0)\n",
    "                break\n",
    "            else:\n",
    "                #新行星体积大，删除栈顶，继续取栈顶比较\n",
    "                if self.new_is_bigger(oldnode,newnode):\n",
    "                    self.pop()\n",
    "                    oldnode = oldnode.next\n",
    "                elif self.new_equal_old(oldnode,newnode):\n",
    "                    #删除栈顶，终止循环\n",
    "                    self.pop()\n",
    "                    break\n",
    "                else:\n",
    "                    #新行星体积小，终止循环\n",
    "                    break\n",
    "        if oldnode.next == None:\n",
    "             newnode.next = oldnode\n",
    "             self.l.append(newnode)\n",
    "             self.l.pop(0)\n",
    "    def pop(self):\n",
    "        upnode = self.l[0]\n",
    "        print('取出栈顶',upnode.val)\n",
    "        if upnode.next != None:\n",
    "            self.l.append(upnode.next)\n",
    "            self.l.pop(0)\n",
    "        else:\n",
    "            print(\"空栈！\")\n",
    "    def travel(self):\n",
    "        cur = self.l[0]\n",
    "        while cur.next != None:\n",
    "            print(cur.val,end=' ')\n",
    "            cur = cur.next\n",
    "            "
   ]
  },
  {
   "cell_type": "code",
   "execution_count": 10,
   "metadata": {},
   "outputs": [
    {
     "name": "stdout",
     "output_type": "stream",
     "text": [
      "push: 4\n",
      "此时栈顶为 4\n",
      "push: 5\n",
      "此时栈顶为 5\n",
      "push: -6\n",
      "取出栈顶 5\n",
      "取出栈顶 4\n",
      "此时栈顶为 -6\n",
      "push: 4\n",
      "此时栈顶为 4\n",
      "push: 8\n",
      "此时栈顶为 8\n",
      "push: -5\n",
      "此时栈顶为 8\n",
      "剩余的行星为 8 4 -6 "
     ]
    }
   ],
   "source": [
    "s = CollisionStack()\n",
    "for item in l0:\n",
    "    print('push:',item)\n",
    "    s.push(item)\n",
    "    print('此时栈顶为',s.l[0].val)\n",
    "print('剩余的行星为',end=' ')\n",
    "s.travel()"
   ]
  },
  {
   "cell_type": "markdown",
   "metadata": {},
   "source": [
    "## Q38：每日温度"
   ]
  },
  {
   "cell_type": "code",
   "execution_count": 22,
   "metadata": {},
   "outputs": [],
   "source": [
    "class ListNode(object):\n",
    "    def __init__(self,item,node=None):\n",
    "        self.val = item\n",
    "        self.next = node\n",
    "class TempratureStack(object):\n",
    "    def __init__(self,temprature):\n",
    "        self.dummy = ListNode(0)\n",
    "        self.l = [self.dummy]\n",
    "        self.temprature = temprature\n",
    "        self.days = np.zeros(len(self.temprature),dtype=int)\n",
    "    def push(self,value):\n",
    "        #value代表下标\n",
    "        oldnode = self.l[0]\n",
    "        newnode = ListNode(value)\n",
    "        while oldnode.next != None:\n",
    "            if temprature[newnode.val] > temprature[oldnode.val]:\n",
    "                    #删除栈顶，继续比较下一个栈顶，更新等待天数\n",
    "                    self.days[oldnode.val] = newnode.val - oldnode.val\n",
    "                    self.pop()\n",
    "                    oldnode = oldnode.next\n",
    "            else:\n",
    "                #入栈\n",
    "                newnode.next = oldnode\n",
    "                self.l.append(newnode)\n",
    "                self.l.pop(0)\n",
    "                break\n",
    "        if oldnode.next == None:\n",
    "             newnode.next = oldnode\n",
    "             self.l.append(newnode)\n",
    "             self.l.pop(0)\n",
    "    def pop(self):\n",
    "        upnode = self.l[0]\n",
    "        print('取出栈顶',upnode.val)\n",
    "        if upnode.next != None:\n",
    "            self.l.append(upnode.next)\n",
    "            self.l.pop(0)\n",
    "        else:\n",
    "            print(\"空栈！\")\n",
    "    def travel(self):\n",
    "        cur = self.l[0]\n",
    "        while cur.next != None:\n",
    "            print(cur.val,end=' ')\n",
    "            cur = cur.next"
   ]
  },
  {
   "cell_type": "code",
   "execution_count": 23,
   "metadata": {},
   "outputs": [],
   "source": [
    "temprature = [35,31,33,36,34]\n",
    "s = TempratureStack(temprature)"
   ]
  },
  {
   "cell_type": "code",
   "execution_count": 24,
   "metadata": {},
   "outputs": [
    {
     "name": "stdout",
     "output_type": "stream",
     "text": [
      "第0天温度为35\n",
      "等待天数： [0 0 0 0 0]\n",
      "第1天温度为31\n",
      "等待天数： [0 0 0 0 0]\n",
      "第2天温度为33\n",
      "取出栈顶 1\n",
      "等待天数： [0 1 0 0 0]\n",
      "第3天温度为36\n",
      "取出栈顶 2\n",
      "取出栈顶 0\n",
      "等待天数： [3 1 1 0 0]\n",
      "第4天温度为34\n",
      "等待天数： [3 1 1 0 0]\n"
     ]
    }
   ],
   "source": [
    "for i in range(len(temprature)):\n",
    "    print('第{0}天温度为{1}'.format(i,temprature[i]))\n",
    "    s.push(i)\n",
    "    print('等待天数：',s.days)"
   ]
  },
  {
   "cell_type": "markdown",
   "metadata": {},
   "source": [
    "## Q39: 直方图的最大矩形面积"
   ]
  },
  {
   "cell_type": "code",
   "execution_count": 25,
   "metadata": {},
   "outputs": [],
   "source": [
    "#测试用例\n",
    "l1 =[3,2,5,4,6,1,4,2]"
   ]
  },
  {
   "cell_type": "markdown",
   "metadata": {},
   "source": [
    "### 蛮力法"
   ]
  },
  {
   "cell_type": "code",
   "execution_count": 31,
   "metadata": {},
   "outputs": [
    {
     "name": "stdout",
     "output_type": "stream",
     "text": [
      "12\n",
      "耗时0.4495s\n"
     ]
    }
   ],
   "source": [
    "start = time.perf_counter()\n",
    "def max_s(ind1,ind2):\n",
    "    return (ind2-ind1+1)*min(l1[ind1:ind2+1])\n",
    "max_s_v = 0\n",
    "for ind1 in range(len(l1)-1):\n",
    "    for ind2 in range(ind1,len(l1)):\n",
    "        max_s_v = max(max_s_v,max_s(ind1,ind2))\n",
    "print(max_s_v)\n",
    "print('耗时'+'%.4fs'%(1000*(time.perf_counter()-start)))"
   ]
  },
  {
   "cell_type": "markdown",
   "metadata": {},
   "source": [
    "### 分治法:找到最低点"
   ]
  },
  {
   "cell_type": "code",
   "execution_count": 36,
   "metadata": {},
   "outputs": [],
   "source": [
    "def max_s(l):\n",
    "    if len(l)== 1:\n",
    "        return l[0]\n",
    "    elif len(l)== 2:\n",
    "        return 2*min(l)\n",
    "    else:\n",
    "        min_ind = np.argmin(l)\n",
    "        left_max = max_s(l[:min_ind])\n",
    "        right_max = max_s(l[min_ind+1:])\n",
    "        max0 = len(l)*l[min_ind]\n",
    "        return max(left_max,right_max,max0)\n",
    "    "
   ]
  },
  {
   "cell_type": "code",
   "execution_count": 37,
   "metadata": {},
   "outputs": [
    {
     "name": "stdout",
     "output_type": "stream",
     "text": [
      "12\n",
      "耗时0.3062s\n"
     ]
    }
   ],
   "source": [
    "start = time.perf_counter()\n",
    "max_s_v = max_s(l1)\n",
    "print(max_s_v)\n",
    "print('耗时'+'%.4fs'%(1000*(time.perf_counter()-start)))"
   ]
  },
  {
   "cell_type": "markdown",
   "metadata": {},
   "source": [
    "### 单调栈"
   ]
  },
  {
   "cell_type": "code",
   "execution_count": 13,
   "metadata": {},
   "outputs": [],
   "source": [
    "class ListNode(object):\n",
    "    def __init__(self,item,node=None):\n",
    "        self.val = item\n",
    "        self.next = node\n",
    "class SquareStack(object):\n",
    "    def __init__(self,areas):\n",
    "        self.dummy = ListNode(-1)\n",
    "        self.l = [self.dummy]\n",
    "        self.areas = areas\n",
    "        self.max_s = 0\n",
    "    def push(self,value):\n",
    "        newnode = ListNode(value)\n",
    "        oldnode = self.l[0]\n",
    "        while oldnode.next != None:\n",
    "            #新节点大于老节点，直接入栈\n",
    "            if self.areas[newnode.val] >= self.areas[oldnode.val]:\n",
    "                newnode.next = oldnode\n",
    "                self.l.append(newnode)\n",
    "                self.l.pop(0)\n",
    "                break\n",
    "            #新节点小于老节点，老节点出栈且计算面积\n",
    "            else:\n",
    "                height = self.areas[oldnode.val]\n",
    "                width = newnode.val-oldnode.next.val-1\n",
    "                self.max_s = max(self.max_s,height*width)\n",
    "                self.pop()\n",
    "                oldnode = oldnode.next\n",
    "        if oldnode.next == None:\n",
    "            newnode.next = oldnode\n",
    "            self.l.append(newnode)\n",
    "            self.l.pop(0)\n",
    "    def pop(self):\n",
    "        upnode = self.l[0]\n",
    "        print('pop:',self.areas[upnode.val])\n",
    "        if upnode.next != None:\n",
    "            self.l.append(upnode.next)\n",
    "            self.l.pop(0)\n",
    "        else:\n",
    "            print(\"空栈！\")"
   ]
  },
  {
   "cell_type": "code",
   "execution_count": 18,
   "metadata": {},
   "outputs": [
    {
     "name": "stdout",
     "output_type": "stream",
     "text": [
      "第0步push:3\n",
      "最大面积 0\n",
      "第1步push:2\n",
      "pop: 3\n",
      "最大面积 3\n",
      "第2步push:5\n",
      "最大面积 3\n",
      "第3步push:4\n",
      "pop: 5\n",
      "最大面积 5\n",
      "第4步push:6\n",
      "最大面积 5\n",
      "第5步push:1\n",
      "pop: 6\n",
      "pop: 4\n",
      "pop: 2\n",
      "最大面积 12\n",
      "第6步push:4\n",
      "最大面积 12\n",
      "第7步push:2\n",
      "pop: 4\n",
      "最大面积 12\n",
      "第8步push:0\n",
      "pop: 2\n",
      "pop: 1\n",
      "最大面积 12\n"
     ]
    }
   ],
   "source": [
    "areas = [3,2,5,4,6,1,4,2]+[0]\n",
    "s = SquareStack(areas)\n",
    "for i in range(len(areas)):\n",
    "    print('第{0}步push:{1}'.format(i,areas[i]))\n",
    "    s.push(i)\n",
    "    print('最大面积',s.max_s)"
   ]
  },
  {
   "cell_type": "markdown",
   "metadata": {},
   "source": [
    "## Q40:矩阵中的最大矩形  \n",
    "以每行为坐标基底，当成直方图计算矩形"
   ]
  }
 ],
 "metadata": {
  "kernelspec": {
   "display_name": "Python 3 (ipykernel)",
   "language": "python",
   "name": "python3"
  },
  "language_info": {
   "codemirror_mode": {
    "name": "ipython",
    "version": 3
   },
   "file_extension": ".py",
   "mimetype": "text/x-python",
   "name": "python",
   "nbconvert_exporter": "python",
   "pygments_lexer": "ipython3",
   "version": "3.9.7"
  },
  "toc": {
   "base_numbering": 1,
   "nav_menu": {},
   "number_sections": true,
   "sideBar": true,
   "skip_h1_title": false,
   "title_cell": "Table of Contents",
   "title_sidebar": "Contents",
   "toc_cell": false,
   "toc_position": {},
   "toc_section_display": true,
   "toc_window_display": true
  }
 },
 "nbformat": 4,
 "nbformat_minor": 2
}
