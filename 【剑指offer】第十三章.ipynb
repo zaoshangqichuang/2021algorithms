{
 "cells": [
  {
   "cell_type": "code",
   "execution_count": 1,
   "id": "948091e0",
   "metadata": {},
   "outputs": [],
   "source": [
    "import numpy as np\n",
    "import pandas as pd\n",
    "import time\n",
    "import random"
   ]
  },
  {
   "cell_type": "markdown",
   "id": "8a7a3b01",
   "metadata": {},
   "source": [
    "### Q79:所有子集"
   ]
  },
  {
   "cell_type": "code",
   "execution_count": 32,
   "id": "85b6df95",
   "metadata": {},
   "outputs": [],
   "source": [
    "def find_subset(l):\n",
    "    if l == []:\n",
    "        return [[]]\n",
    "    else:\n",
    "        x = l.pop(-1)\n",
    "        subsets = find_subset(l)\n",
    "        subsets0 = subsets.copy()\n",
    "        for sc in subsets:\n",
    "            subsets0 += [sc+[x]]\n",
    "        return subsets0"
   ]
  },
  {
   "cell_type": "code",
   "execution_count": 56,
   "id": "1cad16e4",
   "metadata": {},
   "outputs": [
    {
     "name": "stdout",
     "output_type": "stream",
     "text": [
      "[[], [1], [2], [1, 2], [3], [1, 3], [2, 3], [1, 2, 3], [4], [1, 4], [2, 4], [1, 2, 4], [3, 4], [1, 3, 4], [2, 3, 4], [1, 2, 3, 4], [5], [1, 5], [2, 5], [1, 2, 5], [3, 5], [1, 3, 5], [2, 3, 5], [1, 2, 3, 5], [4, 5], [1, 4, 5], [2, 4, 5], [1, 2, 4, 5], [3, 4, 5], [1, 3, 4, 5], [2, 3, 4, 5], [1, 2, 3, 4, 5], [6], [1, 6], [2, 6], [1, 2, 6], [3, 6], [1, 3, 6], [2, 3, 6], [1, 2, 3, 6], [4, 6], [1, 4, 6], [2, 4, 6], [1, 2, 4, 6], [3, 4, 6], [1, 3, 4, 6], [2, 3, 4, 6], [1, 2, 3, 4, 6], [5, 6], [1, 5, 6], [2, 5, 6], [1, 2, 5, 6], [3, 5, 6], [1, 3, 5, 6], [2, 3, 5, 6], [1, 2, 3, 5, 6], [4, 5, 6], [1, 4, 5, 6], [2, 4, 5, 6], [1, 2, 4, 5, 6], [3, 4, 5, 6], [1, 3, 4, 5, 6], [2, 3, 4, 5, 6], [1, 2, 3, 4, 5, 6]]\n",
      "花费0.1871s\n"
     ]
    }
   ],
   "source": [
    "start = time.perf_counter()\n",
    "print(find_subset([1,2,3,4,5,6]))\n",
    "print('花费'+'%.4fs'%((time.perf_counter()-start)*1000))"
   ]
  },
  {
   "cell_type": "markdown",
   "id": "5d9658e9",
   "metadata": {},
   "source": [
    "#### 标准做法"
   ]
  },
  {
   "cell_type": "code",
   "execution_count": 58,
   "id": "d19543de",
   "metadata": {},
   "outputs": [],
   "source": [
    "def find_subsets0(nums,ind=0,subsets=[[]],result=[]):\n",
    "    if ind == len(nums):\n",
    "        result += subsets\n",
    "    elif ind < len(nums):\n",
    "        #不执行操作\n",
    "        find_subsets0(nums,ind=ind+1,subsets=subsets,result=result)\n",
    "        x = nums[ind]\n",
    "        subsets = [sc+[x] for sc in subsets]\n",
    "        find_subsets0(nums,ind=ind+1,subsets=subsets,result=result)\n",
    "    return result"
   ]
  },
  {
   "cell_type": "code",
   "execution_count": 59,
   "id": "aa5df644",
   "metadata": {},
   "outputs": [
    {
     "name": "stdout",
     "output_type": "stream",
     "text": [
      "[[], [6], [5], [5, 6], [4], [4, 6], [4, 5], [4, 5, 6], [3], [3, 6], [3, 5], [3, 5, 6], [3, 4], [3, 4, 6], [3, 4, 5], [3, 4, 5, 6], [2], [2, 6], [2, 5], [2, 5, 6], [2, 4], [2, 4, 6], [2, 4, 5], [2, 4, 5, 6], [2, 3], [2, 3, 6], [2, 3, 5], [2, 3, 5, 6], [2, 3, 4], [2, 3, 4, 6], [2, 3, 4, 5], [2, 3, 4, 5, 6], [1], [1, 6], [1, 5], [1, 5, 6], [1, 4], [1, 4, 6], [1, 4, 5], [1, 4, 5, 6], [1, 3], [1, 3, 6], [1, 3, 5], [1, 3, 5, 6], [1, 3, 4], [1, 3, 4, 6], [1, 3, 4, 5], [1, 3, 4, 5, 6], [1, 2], [1, 2, 6], [1, 2, 5], [1, 2, 5, 6], [1, 2, 4], [1, 2, 4, 6], [1, 2, 4, 5], [1, 2, 4, 5, 6], [1, 2, 3], [1, 2, 3, 6], [1, 2, 3, 5], [1, 2, 3, 5, 6], [1, 2, 3, 4], [1, 2, 3, 4, 6], [1, 2, 3, 4, 5], [1, 2, 3, 4, 5, 6]]\n",
      "花费0.2249s\n"
     ]
    }
   ],
   "source": [
    "start = time.perf_counter()\n",
    "print(find_subsets0([1,2,3,4,5,6]))\n",
    "print('花费'+'%.4fs'%((time.perf_counter()-start)*1000))"
   ]
  },
  {
   "cell_type": "markdown",
   "id": "77df045f",
   "metadata": {},
   "source": [
    "### Q80:包含k个元素的组合"
   ]
  },
  {
   "cell_type": "code",
   "execution_count": 62,
   "id": "0bb80a8f",
   "metadata": {},
   "outputs": [
    {
     "data": {
      "text/plain": [
       "[1, 2, 3, 4, 5, 6, 7, 8, 9, 10]"
      ]
     },
     "execution_count": 62,
     "metadata": {},
     "output_type": "execute_result"
    }
   ],
   "source": [
    "n = 10\n",
    "k = 3\n",
    "l = list(range(1,n+1))\n",
    "l"
   ]
  },
  {
   "cell_type": "code",
   "execution_count": 64,
   "id": "670fd8ce",
   "metadata": {},
   "outputs": [
    {
     "data": {
      "text/plain": [
       "[[8, 9, 10],\n",
       " [7, 9, 10],\n",
       " [7, 8, 10],\n",
       " [7, 8, 9],\n",
       " [6, 9, 10],\n",
       " [6, 8, 10],\n",
       " [6, 8, 9],\n",
       " [6, 7, 10],\n",
       " [6, 7, 9],\n",
       " [6, 7, 8],\n",
       " [5, 9, 10],\n",
       " [5, 8, 10],\n",
       " [5, 8, 9],\n",
       " [5, 7, 10],\n",
       " [5, 7, 9],\n",
       " [5, 7, 8],\n",
       " [5, 6, 10],\n",
       " [5, 6, 9],\n",
       " [5, 6, 8],\n",
       " [5, 6, 7],\n",
       " [4, 9, 10],\n",
       " [4, 8, 10],\n",
       " [4, 8, 9],\n",
       " [4, 7, 10],\n",
       " [4, 7, 9],\n",
       " [4, 7, 8],\n",
       " [4, 6, 10],\n",
       " [4, 6, 9],\n",
       " [4, 6, 8],\n",
       " [4, 6, 7],\n",
       " [4, 5, 10],\n",
       " [4, 5, 9],\n",
       " [4, 5, 8],\n",
       " [4, 5, 7],\n",
       " [4, 5, 6],\n",
       " [3, 9, 10],\n",
       " [3, 8, 10],\n",
       " [3, 8, 9],\n",
       " [3, 7, 10],\n",
       " [3, 7, 9],\n",
       " [3, 7, 8],\n",
       " [3, 6, 10],\n",
       " [3, 6, 9],\n",
       " [3, 6, 8],\n",
       " [3, 6, 7],\n",
       " [3, 5, 10],\n",
       " [3, 5, 9],\n",
       " [3, 5, 8],\n",
       " [3, 5, 7],\n",
       " [3, 5, 6],\n",
       " [3, 4, 10],\n",
       " [3, 4, 9],\n",
       " [3, 4, 8],\n",
       " [3, 4, 7],\n",
       " [3, 4, 6],\n",
       " [3, 4, 5],\n",
       " [2, 9, 10],\n",
       " [2, 8, 10],\n",
       " [2, 8, 9],\n",
       " [2, 7, 10],\n",
       " [2, 7, 9],\n",
       " [2, 7, 8],\n",
       " [2, 6, 10],\n",
       " [2, 6, 9],\n",
       " [2, 6, 8],\n",
       " [2, 6, 7],\n",
       " [2, 5, 10],\n",
       " [2, 5, 9],\n",
       " [2, 5, 8],\n",
       " [2, 5, 7],\n",
       " [2, 5, 6],\n",
       " [2, 4, 10],\n",
       " [2, 4, 9],\n",
       " [2, 4, 8],\n",
       " [2, 4, 7],\n",
       " [2, 4, 6],\n",
       " [2, 4, 5],\n",
       " [2, 3, 10],\n",
       " [2, 3, 9],\n",
       " [2, 3, 8],\n",
       " [2, 3, 7],\n",
       " [2, 3, 6],\n",
       " [2, 3, 5],\n",
       " [2, 3, 4],\n",
       " [1, 9, 10],\n",
       " [1, 8, 10],\n",
       " [1, 8, 9],\n",
       " [1, 7, 10],\n",
       " [1, 7, 9],\n",
       " [1, 7, 8],\n",
       " [1, 6, 10],\n",
       " [1, 6, 9],\n",
       " [1, 6, 8],\n",
       " [1, 6, 7],\n",
       " [1, 5, 10],\n",
       " [1, 5, 9],\n",
       " [1, 5, 8],\n",
       " [1, 5, 7],\n",
       " [1, 5, 6],\n",
       " [1, 4, 10],\n",
       " [1, 4, 9],\n",
       " [1, 4, 8],\n",
       " [1, 4, 7],\n",
       " [1, 4, 6],\n",
       " [1, 4, 5],\n",
       " [1, 3, 10],\n",
       " [1, 3, 9],\n",
       " [1, 3, 8],\n",
       " [1, 3, 7],\n",
       " [1, 3, 6],\n",
       " [1, 3, 5],\n",
       " [1, 3, 4],\n",
       " [1, 2, 10],\n",
       " [1, 2, 9],\n",
       " [1, 2, 8],\n",
       " [1, 2, 7],\n",
       " [1, 2, 6],\n",
       " [1, 2, 5],\n",
       " [1, 2, 4],\n",
       " [1, 2, 3]]"
      ]
     },
     "execution_count": 64,
     "metadata": {},
     "output_type": "execute_result"
    }
   ],
   "source": [
    "def find_k_subsets(nums,k,k0=0,ind=0,subsets=[[]],result=[]):\n",
    "    if k0 == k:\n",
    "        result += subsets\n",
    "    elif ind < len(nums):\n",
    "        if k0 < k:\n",
    "            find_k_subsets(nums,k,k0=k0,ind=ind+1,subsets=subsets,result=result) \n",
    "            x = nums[ind]\n",
    "            subsets = [sc+[x] for sc in subsets]\n",
    "            k0 += 1\n",
    "            find_k_subsets(nums,k,k0=k0,ind=ind+1,subsets=subsets,result=result)\n",
    "    return result\n",
    "find_k_subsets(l,k=3)"
   ]
  },
  {
   "cell_type": "markdown",
   "id": "5202b0c1",
   "metadata": {},
   "source": [
    "### Q81:允许重复选择元素的组合"
   ]
  },
  {
   "cell_type": "code",
   "execution_count": 91,
   "id": "062d3d28",
   "metadata": {},
   "outputs": [],
   "source": [
    "l = [2,3,5]\n",
    "k = 8\n",
    "def find_sum_k(l,k,ind=0,subsets={0:[[]]},result=[]):\n",
    "    print(ind,subsets)\n",
    "    if subsets.get(k,None) is not None:\n",
    "        result += subsets[k]\n",
    "        del subsets[k]\n",
    "    if ind < len(l):\n",
    "        subsets0 = subsets.copy()\n",
    "        x = l[ind]\n",
    "        for key in subsets.keys():\n",
    "            if k - key - x >= 0:\n",
    "                cs = (k-key)//x\n",
    "                for i in range(1,cs+1):\n",
    "                    subsets0[key+x*i] = [sc+[x]*i for sc in subsets[key]]\n",
    "        find_sum_k(l,k,ind=ind+1,subsets=subsets0,result=result)   \n",
    "    return result"
   ]
  },
  {
   "cell_type": "code",
   "execution_count": 92,
   "id": "33aaae07",
   "metadata": {},
   "outputs": [
    {
     "name": "stdout",
     "output_type": "stream",
     "text": [
      "0 {0: [[]]}\n",
      "1 {0: [[]], 2: [[2]], 4: [[2, 2]], 6: [[2, 2, 2]], 8: [[2, 2, 2, 2]]}\n",
      "2 {0: [[]], 2: [[2]], 4: [[2, 2]], 6: [[3, 3]], 3: [[3]], 5: [[2, 3]], 8: [[2, 3, 3]], 7: [[2, 2, 3]]}\n",
      "3 {0: [[]], 2: [[2]], 4: [[2, 2]], 6: [[3, 3]], 3: [[3]], 5: [[5]], 7: [[2, 5]], 8: [[3, 5]]}\n"
     ]
    },
    {
     "data": {
      "text/plain": [
       "[[2, 2, 2, 2], [2, 3, 3], [3, 5]]"
      ]
     },
     "execution_count": 92,
     "metadata": {},
     "output_type": "execute_result"
    }
   ],
   "source": [
    "find_sum_k(l,k,ind=0,subsets={0:[[]]},result=[])"
   ]
  },
  {
   "cell_type": "markdown",
   "id": "da06ba97",
   "metadata": {},
   "source": [
    "### 标准化做法"
   ]
  },
  {
   "cell_type": "code",
   "execution_count": 100,
   "id": "22b7557e",
   "metadata": {},
   "outputs": [
    {
     "data": {
      "text/plain": [
       "[[4, 4], [3, 5], [2, 3, 3], [2, 2, 4], [2, 2, 2, 2]]"
      ]
     },
     "execution_count": 100,
     "metadata": {},
     "output_type": "execute_result"
    }
   ],
   "source": [
    "l = [2,3,5,4]\n",
    "k = 8\n",
    "def find_sum_k(l,k,ind=0,subsets=[[]],result=[]):\n",
    "    #print(ind,k,subsets)\n",
    "    if k == 0:\n",
    "        result += subsets \n",
    "    if ind < len(l) and k > 0:\n",
    "        find_sum_k(l,k,ind=ind+1,subsets=subsets,result=result)\n",
    "        x = l[ind]\n",
    "        if x <= k:\n",
    "            subsets = [sc+[x] for sc in subsets]\n",
    "            find_sum_k(l,k-x,ind=ind,subsets=subsets,result=result)\n",
    "    return result\n",
    "find_sum_k(l,k)"
   ]
  },
  {
   "cell_type": "markdown",
   "id": "23c92b31",
   "metadata": {},
   "source": [
    "### Q82:包含重复元素集合的组合\n",
    "**输入排序数组，方便跳过重复的元素**"
   ]
  },
  {
   "cell_type": "code",
   "execution_count": 127,
   "id": "2e370625",
   "metadata": {},
   "outputs": [
    {
     "data": {
      "text/plain": [
       "[[2, 3, 3], [2, 2, 4]]"
      ]
     },
     "execution_count": 127,
     "metadata": {},
     "output_type": "execute_result"
    }
   ],
   "source": [
    "def quchong_zuhe(l,k,ind=0,subsets=[[]],result=[]):\n",
    "    if k == 0:\n",
    "        result += subsets\n",
    "    if ind < len(l) and k > 0:\n",
    "        ind0 = ind\n",
    "        x = l[ind]\n",
    "        while ind+1 < len(l) and l[ind+1] == l[ind]:\n",
    "            ind = ind+1\n",
    "        quchong_zuhe(l,k,ind=ind+1,subsets=subsets,result=result)\n",
    "        if k - x >= 0:\n",
    "            subsets = [sc+[x] for sc in subsets]\n",
    "            quchong_zuhe(l,k-x,ind=ind0+1,subsets=subsets,result=result)\n",
    "    return result\n",
    "quchong_zuhe(l=[2,2,2,3,3,4],k=8)"
   ]
  },
  {
   "cell_type": "markdown",
   "id": "e31ba3d0",
   "metadata": {},
   "source": [
    "### Q83:没有重复元素集合的全排列（排列和顺序相关）"
   ]
  },
  {
   "cell_type": "code",
   "execution_count": 147,
   "id": "2f1767bc",
   "metadata": {},
   "outputs": [
    {
     "data": {
      "text/plain": [
       "[[1, 2, 3, 4],\n",
       " [1, 2, 4, 3],\n",
       " [1, 3, 2, 4],\n",
       " [1, 3, 4, 2],\n",
       " [1, 4, 3, 2],\n",
       " [1, 4, 2, 3],\n",
       " [2, 1, 3, 4],\n",
       " [2, 1, 4, 3],\n",
       " [2, 3, 1, 4],\n",
       " [2, 3, 4, 1],\n",
       " [2, 4, 3, 1],\n",
       " [2, 4, 1, 3],\n",
       " [3, 2, 1, 4],\n",
       " [3, 2, 4, 1],\n",
       " [3, 1, 2, 4],\n",
       " [3, 1, 4, 2],\n",
       " [3, 4, 1, 2],\n",
       " [3, 4, 2, 1],\n",
       " [4, 2, 3, 1],\n",
       " [4, 2, 1, 3],\n",
       " [4, 3, 2, 1],\n",
       " [4, 3, 1, 2],\n",
       " [4, 1, 3, 2],\n",
       " [4, 1, 2, 3]]"
      ]
     },
     "execution_count": 147,
     "metadata": {},
     "output_type": "execute_result"
    }
   ],
   "source": [
    "def swap(l,ind1,ind2):\n",
    "    l[ind1],l[ind2]=l[ind2],l[ind1]\n",
    "    return l\n",
    "def all_combination(l,ind=0,nums=[]):\n",
    "    if ind == len(l):\n",
    "        nums += [l.copy()]\n",
    "    for i in range(ind,len(l)):\n",
    "        l = swap(l,ind,i)\n",
    "        all_combination(l,ind=ind+1,nums=nums)\n",
    "        l = swap(l,ind,i)\n",
    "    return nums\n",
    "        \n",
    "all_combination(l=[1,2,3,4],ind=0,nums=[])   "
   ]
  },
  {
   "cell_type": "markdown",
   "id": "40a509d5",
   "metadata": {},
   "source": [
    "### Q84:包含重复元素的全排列"
   ]
  },
  {
   "cell_type": "code",
   "execution_count": 145,
   "id": "be7c499a",
   "metadata": {},
   "outputs": [],
   "source": [
    "def swap(l,ind1,ind2):\n",
    "    l[ind1],l[ind2]=l[ind2],l[ind1]\n",
    "    return l\n",
    "def all_combination(l,ind=0,nums=[]):\n",
    "    if ind == len(l):\n",
    "        nums += [l.copy()]\n",
    "    for i in range(ind,len(l)):\n",
    "        if i!=ind and l[i]==l[ind]:\n",
    "            continue\n",
    "        else:\n",
    "            l = swap(l,ind,i)\n",
    "            all_combination(l,ind=ind+1,nums=nums)\n",
    "            l = swap(l,i,ind)\n",
    "    return nums"
   ]
  },
  {
   "cell_type": "code",
   "execution_count": 146,
   "id": "4c4a80e6",
   "metadata": {},
   "outputs": [
    {
     "data": {
      "text/plain": [
       "[[1, 1, 2], [1, 2, 1], [2, 1, 1]]"
      ]
     },
     "execution_count": 146,
     "metadata": {},
     "output_type": "execute_result"
    }
   ],
   "source": [
    "all_combination(l=[1,1,2],ind=0,nums=[])"
   ]
  },
  {
   "cell_type": "markdown",
   "id": "c22b054d",
   "metadata": {},
   "source": [
    "### Q85:生成匹配的括号"
   ]
  },
  {
   "cell_type": "code",
   "execution_count": 149,
   "id": "0209c9c1",
   "metadata": {},
   "outputs": [
    {
     "data": {
      "text/plain": [
       "['(((())))',\n",
       " '((()()))',\n",
       " '((())())',\n",
       " '((()))()',\n",
       " '(()(()))',\n",
       " '(()()())',\n",
       " '(()())()',\n",
       " '(())(())',\n",
       " '(())()()',\n",
       " '()((()))',\n",
       " '()(()())',\n",
       " '()(())()',\n",
       " '()()(())',\n",
       " '()()()()']"
      ]
     },
     "execution_count": 149,
     "metadata": {},
     "output_type": "execute_result"
    }
   ],
   "source": [
    "def gen_helper(n,k1=0,k2=0,s='',s_list=[]):\n",
    "    if k1 == n and k2 == n:\n",
    "        s_list += [s]\n",
    "    elif k2 <= k1 and k1 <= n:\n",
    "        s0 = s\n",
    "        if k1 + 1 <= n:\n",
    "            s += '('\n",
    "            gen_helper(n,k1=k1+1,k2=k2,s=s,s_list=s_list)\n",
    "        if k2 + 1 <= k1: \n",
    "            s0 += ')'\n",
    "            gen_helper(n,k1=k1,k2=k2+1,s=s0,s_list=s_list)\n",
    "    return s_list\n",
    "gen_helper(4)      "
   ]
  },
  {
   "cell_type": "markdown",
   "id": "ab34735d",
   "metadata": {},
   "source": [
    "### Q86：分割回文字符串"
   ]
  },
  {
   "cell_type": "code",
   "execution_count": 164,
   "id": "bb7301ea",
   "metadata": {},
   "outputs": [
    {
     "data": {
      "text/plain": [
       "[3, 0]"
      ]
     },
     "execution_count": 164,
     "metadata": {},
     "output_type": "execute_result"
    }
   ],
   "source": [
    "def huiwen(s,ind):\n",
    "    re = []\n",
    "    for p2 in range(len(s)-1,-1,-1):\n",
    "        p1 = ind\n",
    "        ind2 = p2\n",
    "        flag = 0\n",
    "        while p2 >= p1:\n",
    "            if s[p1] == s[p2]:\n",
    "                p2 -= 1\n",
    "                p1 += 1\n",
    "                flag = 1\n",
    "            else:\n",
    "                flag = 0\n",
    "                break\n",
    "        if flag==1:\n",
    "            re += [ind2]\n",
    "    return re\n",
    "            \n",
    "        \n",
    "huiwen('googl',0)\n",
    "    \n",
    "    "
   ]
  },
  {
   "cell_type": "code",
   "execution_count": 182,
   "id": "cdd8d1d8",
   "metadata": {},
   "outputs": [],
   "source": [
    "def split_huiwen(s,ind=0,strs=[[]],result=[]):\n",
    "    #print(ind,strs,result)\n",
    "    if ind == len(s):\n",
    "        result += strs\n",
    "    elif ind < len(s):\n",
    "        re = huiwen(s,ind)\n",
    "        strs0 = []\n",
    "        for ind2 in re:\n",
    "            strs0 = [sc+[s[ind:ind2+1]] for sc in strs]\n",
    "            if ind2+1 <= len(s):\n",
    "                split_huiwen(s,ind=ind2+1,strs=strs0,result=result)\n",
    "    return result"
   ]
  },
  {
   "cell_type": "code",
   "execution_count": 183,
   "id": "1766c21d",
   "metadata": {},
   "outputs": [
    {
     "data": {
      "text/plain": [
       "[['goog', 'l', 'e'],\n",
       " ['g', 'oo', 'g', 'l', 'e'],\n",
       " ['g', 'o', 'o', 'g', 'l', 'e']]"
      ]
     },
     "execution_count": 183,
     "metadata": {},
     "output_type": "execute_result"
    }
   ],
   "source": [
    "split_huiwen('google')"
   ]
  },
  {
   "cell_type": "markdown",
   "id": "336c9ab5",
   "metadata": {},
   "source": [
    "### Q87:恢复IP地址"
   ]
  },
  {
   "cell_type": "code",
   "execution_count": 188,
   "id": "ffd1f55e",
   "metadata": {},
   "outputs": [],
   "source": [
    "def helper_ip(s,ind=0,k=4,strs=[''],result=[]):\n",
    "    if k == 0 and ind == len(s):\n",
    "        result += strs\n",
    "    elif ind < len(s) and k > 0:\n",
    "        x = s[ind]\n",
    "        strs0 = [(s+'.'+x).strip('.') for s in strs]\n",
    "        helper_ip(s,ind=ind+1,k=k-1,strs=strs0,result=result)\n",
    "        if s[ind]!= '0':\n",
    "            for ind2 in range(ind+1,ind+3):\n",
    "                if ind2 < len(s):\n",
    "                    x = s[ind:ind2+1]\n",
    "                    if int(x)> 0 and int(x)<=255:\n",
    "                        strs0 = [(s+'.'+x).strip('.') for s in strs]\n",
    "                        helper_ip(s,ind=ind2+1,k=k-1,strs=strs0,result=result)\n",
    "    return result              "
   ]
  },
  {
   "cell_type": "code",
   "execution_count": 189,
   "id": "91d45a8a",
   "metadata": {},
   "outputs": [
    {
     "data": {
      "text/plain": [
       "['10.20.30.40', '10.203.0.40', '102.0.30.40']"
      ]
     },
     "execution_count": 189,
     "metadata": {},
     "output_type": "execute_result"
    }
   ],
   "source": [
    "helper_ip('10203040')"
   ]
  },
  {
   "cell_type": "code",
   "execution_count": null,
   "id": "142d3d0b",
   "metadata": {},
   "outputs": [],
   "source": []
  }
 ],
 "metadata": {
  "kernelspec": {
   "display_name": "Python 3 (ipykernel)",
   "language": "python",
   "name": "python3"
  },
  "language_info": {
   "codemirror_mode": {
    "name": "ipython",
    "version": 3
   },
   "file_extension": ".py",
   "mimetype": "text/x-python",
   "name": "python",
   "nbconvert_exporter": "python",
   "pygments_lexer": "ipython3",
   "version": "3.9.7"
  }
 },
 "nbformat": 4,
 "nbformat_minor": 5
}
