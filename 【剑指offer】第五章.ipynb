{
 "cells": [
  {
   "cell_type": "markdown",
   "id": "f16af184",
   "metadata": {},
   "source": [
    "# 第五章 哈希表"
   ]
  },
  {
   "cell_type": "code",
   "execution_count": 1,
   "id": "371ac33c",
   "metadata": {},
   "outputs": [],
   "source": [
    "import numpy as np\n",
    "import time"
   ]
  },
  {
   "cell_type": "markdown",
   "id": "d638bf2a",
   "metadata": {},
   "source": [
    "哈希存储解决冲突的方法：\n",
    "线性探测法：如果位置i被占用，则探测$i+1$、$i+2$  \n",
    "二次探测法：如果位置i被占用，则探测 $i+1^2$、$i-1^2$、$i+2^2$、$i-2^2$  \n",
    "二度哈希：有n个哈希函数，一个发生冲突时，就使用另一个"
   ]
  },
  {
   "cell_type": "markdown",
   "id": "1bb1dc6e",
   "metadata": {},
   "source": [
    "## 拉链法"
   ]
  },
  {
   "cell_type": "markdown",
   "id": "bb565d26",
   "metadata": {},
   "source": [
    "### 定义有哨兵节点的链表"
   ]
  },
  {
   "cell_type": "code",
   "execution_count": 15,
   "id": "f61812ba",
   "metadata": {},
   "outputs": [],
   "source": [
    "class ListNode(object):\n",
    "    def __init__(self,val=0,next=None):\n",
    "        self.val = val\n",
    "        self.next = next\n",
    "#链表结构\n",
    "class LinkedList(object):\n",
    "    def __init__(self,Node=None):\n",
    "        #哨兵节点\n",
    "        dummy = ListNode(0)\n",
    "        self.head = dummy\n",
    "        self.head.next = Node\n",
    "    def is_empty(self):\n",
    "        return self.head.next == None\n",
    "    def length(self):\n",
    "        if self.is_empty():\n",
    "            return 0\n",
    "        else:\n",
    "            cur = self.head.next\n",
    "            cnt = 0\n",
    "            while cur != None:\n",
    "                cnt += 1\n",
    "                cur = cur.next\n",
    "            return cnt\n",
    "    #遍历节点\n",
    "    def travel(self):\n",
    "        cur = self.head.next\n",
    "        while cur != None:\n",
    "            print(cur.val,end=' ')\n",
    "            cur = cur.next\n",
    "    #插入头结点\n",
    "    def add(self,item):\n",
    "        node = ListNode(item)\n",
    "        if self.is_empty():\n",
    "            self.head.next = node\n",
    "        else:\n",
    "            node.next = self.head.next\n",
    "            self.head.next = node\n",
    "            \n",
    "    def append(self,item): \n",
    "        node = ListNode(item)\n",
    "        cur = self.head\n",
    "        while cur.next != None:\n",
    "            cur = cur.next\n",
    "        cur.next = node\n",
    "    def insert(self,pos,item):\n",
    "        if pos == 0:\n",
    "            self.add(item)\n",
    "        else:\n",
    "            cur = self.head.next\n",
    "            count = 0\n",
    "            while count < pos-1:\n",
    "                cur = cur.next\n",
    "                count += 1\n",
    "            node = ListNode(item)\n",
    "            node.next = cur.next\n",
    "            cur.next = node\n",
    "    def remove(self,item):\n",
    "        if self.is_empty():\n",
    "            return \n",
    "        #当对应的元素为头结点时\n",
    "        else:\n",
    "            cur = self.head.next\n",
    "            pre = self.head\n",
    "            while cur.next != None:\n",
    "                if cur.val == item:\n",
    "                    pre.next = cur.next\n",
    "                    break\n",
    "                else:\n",
    "                    pre = cur\n",
    "                    cur = cur.next\n",
    "            if cur.next == None:\n",
    "                if cur.val == item:\n",
    "                    pre.next = None\n",
    "    def is_exist(self,item):\n",
    "        if self.is_empty():\n",
    "            return False\n",
    "        else:\n",
    "            flag = 0\n",
    "            cur = self.head\n",
    "            while cur.next != None:\n",
    "                cur = cur.next\n",
    "                if cur.val == item:\n",
    "                    flag = 1\n",
    "                    break\n",
    "            if flag == 0:\n",
    "                if cur.val == item:\n",
    "                    return True\n",
    "                else:\n",
    "                    return False\n",
    "            else:\n",
    "                return True     \n"
   ]
  },
  {
   "cell_type": "code",
   "execution_count": 16,
   "id": "52125b63",
   "metadata": {},
   "outputs": [
    {
     "name": "stdout",
     "output_type": "stream",
     "text": [
      "1 2 3 4 5 6 7 8 9 10 11 12 13 14 15 16 17 18 19 20 21 22 23 24 25 26 27 28 29 30 31 32 33 34 35 36 37 38 39 40 41 42 43 44 45 46 47 48 49 50 "
     ]
    },
    {
     "data": {
      "text/plain": [
       "True"
      ]
     },
     "execution_count": 16,
     "metadata": {},
     "output_type": "execute_result"
    }
   ],
   "source": [
    "l = LinkedList()\n",
    "for i in range(1,51):\n",
    "    l.append(i)\n",
    "l.travel()\n",
    "l.is_exist(44)"
   ]
  },
  {
   "cell_type": "code",
   "execution_count": 20,
   "id": "32b8584c",
   "metadata": {},
   "outputs": [],
   "source": [
    "class HashTable(object):\n",
    "    def __init__(self,size=101):\n",
    "        self.size = size\n",
    "        self.T = [LinkedList() for i in range(size)]\n",
    "    def __repr__(self):\n",
    "        return ','.join((map(str,self.T)))\n",
    "    def h(self,data):\n",
    "        return data % self.size\n",
    "    def is_exist(self,data):\n",
    "        pst = self.h(data)\n",
    "        return self.T[pst].is_exist(data)\n",
    "    def insert(self,data):\n",
    "        pst = self.h(data)\n",
    "        if self.is_exist(data):\n",
    "            return 'Insert Duplicated'\n",
    "        else:\n",
    "            self.T[pst].append(data)"
   ]
  },
  {
   "cell_type": "code",
   "execution_count": 26,
   "id": "5d4de8d1",
   "metadata": {},
   "outputs": [],
   "source": [
    "hashtab = HashTable()\n",
    "for i in range(10000):\n",
    "    hashtab.insert(i)\n",
    "linklist = LinkedList()\n",
    "for i in range(10000):\n",
    "    linklist.append(i)"
   ]
  },
  {
   "cell_type": "code",
   "execution_count": 27,
   "id": "38f9eb0d",
   "metadata": {},
   "outputs": [
    {
     "name": "stdout",
     "output_type": "stream",
     "text": [
      "花费0.0895ms\n"
     ]
    }
   ],
   "source": [
    "start = time.perf_counter()\n",
    "hashtab.is_exist(7819)\n",
    "print(\"花费\"+\"%.4fms\"%(1000*(time.perf_counter()-start)))"
   ]
  },
  {
   "cell_type": "code",
   "execution_count": 28,
   "id": "65be5432",
   "metadata": {},
   "outputs": [
    {
     "name": "stdout",
     "output_type": "stream",
     "text": [
      "花费1.1938ms\n"
     ]
    }
   ],
   "source": [
    "start = time.perf_counter()\n",
    "linklist.is_exist(7819)\n",
    "print(\"花费\"+\"%.4fms\"%(1000*(time.perf_counter()-start)))"
   ]
  },
  {
   "cell_type": "code",
   "execution_count": 38,
   "id": "6892722c",
   "metadata": {},
   "outputs": [],
   "source": [
    "class HashTable(object):\n",
    "    def __init__(self,size=101):\n",
    "        self.size = size\n",
    "        self.T = [LinkedList() for i in range(size)]\n",
    "    def __repr__(self):\n",
    "        return ','.join((map(str,self.T)))\n",
    "    def __getitem__(self, item):\n",
    "        if isinstance(item, int):\n",
    "            # 通过下标得到对象\n",
    "            return self.T[item].travel()\n",
    "        elif isinstance(item, str):\n",
    "            # 通过名字得到对象\n",
    "            pst = self.h(item)\n",
    "            return self.T[pst].travel()\n",
    "        else:\n",
    "            # 给定的key类型错误\n",
    "            raise TypeError('你输入的key类型错误!')\n",
    "        \n",
    "    def h(self,data):\n",
    "        return ord(data) % self.size\n",
    "    def is_exist(self,data):\n",
    "        pst = self.h(data)\n",
    "        return self.T[pst].is_exist(data)\n",
    "    def insert(self,data):\n",
    "        pst = self.h(data)\n",
    "        if self.is_exist(data):\n",
    "            return 'Insert Duplicated'\n",
    "        else:\n",
    "            self.T[pst].append(data)"
   ]
  },
  {
   "cell_type": "code",
   "execution_count": 39,
   "id": "60348524",
   "metadata": {},
   "outputs": [],
   "source": [
    "wordhash = HashTable()\n",
    "s1 = 'abcd'\n",
    "for s in s1:\n",
    "    wordhash.insert(s)"
   ]
  },
  {
   "cell_type": "markdown",
   "id": "699abfcc",
   "metadata": {},
   "source": [
    "### Q32:有效的变位词  \n",
    "给定两个字符串s和t，请判断它们是不是一组变位词。\n",
    "在一组变位词中，它们中的字符及每个字符出现的次数都相同，但\n",
    "字符的顺序不能相同。例如，\"anagram\"和\"nagaram\"就是一组变位词。"
   ]
  },
  {
   "cell_type": "code",
   "execution_count": 42,
   "id": "3835627e",
   "metadata": {},
   "outputs": [],
   "source": [
    "def is_twc(s1,s2):\n",
    "    flag = 0\n",
    "    dict1 = {}\n",
    "    for s in s1:\n",
    "        dict1[s] = dict1.get(s,0)+1\n",
    "    for s in s2:\n",
    "        if dict1.get(s,-111) == -111:\n",
    "            break\n",
    "            flag = 1\n",
    "        else:\n",
    "            dict1[s] = dict1[s]-1\n",
    "    if flag == 1:\n",
    "        return False\n",
    "    else:\n",
    "        for v in dict1.values():\n",
    "            if v != 0:\n",
    "                flag = 1\n",
    "                break\n",
    "        if flag == 0:\n",
    "            return True\n",
    "        else:\n",
    "            return False"
   ]
  },
  {
   "cell_type": "code",
   "execution_count": 43,
   "id": "abae73bd",
   "metadata": {},
   "outputs": [
    {
     "data": {
      "text/plain": [
       "True"
      ]
     },
     "execution_count": 43,
     "metadata": {},
     "output_type": "execute_result"
    }
   ],
   "source": [
    "is_twc(s1,s2)"
   ]
  },
  {
   "cell_type": "code",
   "execution_count": 45,
   "id": "3c198bbc",
   "metadata": {},
   "outputs": [
    {
     "data": {
      "text/plain": [
       "True"
      ]
     },
     "execution_count": 45,
     "metadata": {},
     "output_type": "execute_result"
    }
   ],
   "source": [
    "is_twc('abvcfg','acbvfg')"
   ]
  }
 ],
 "metadata": {
  "kernelspec": {
   "display_name": "Python 3 (ipykernel)",
   "language": "python",
   "name": "python3"
  },
  "language_info": {
   "codemirror_mode": {
    "name": "ipython",
    "version": 3
   },
   "file_extension": ".py",
   "mimetype": "text/x-python",
   "name": "python",
   "nbconvert_exporter": "python",
   "pygments_lexer": "ipython3",
   "version": "3.9.7"
  }
 },
 "nbformat": 4,
 "nbformat_minor": 5
}
