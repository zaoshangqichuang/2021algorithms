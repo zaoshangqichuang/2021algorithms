{
 "cells": [
  {
   "cell_type": "markdown",
   "id": "10d11baf",
   "metadata": {},
   "source": [
    "# 第七章 队列"
   ]
  },
  {
   "cell_type": "code",
   "execution_count": 122,
   "id": "995adfd0",
   "metadata": {},
   "outputs": [],
   "source": [
    "import numpy as np\n",
    "import time\n",
    "import random"
   ]
  },
  {
   "cell_type": "code",
   "execution_count": 5,
   "id": "327223da",
   "metadata": {},
   "outputs": [],
   "source": [
    "class ListNode(object):\n",
    "    def __init__(self,item):\n",
    "        self.val = item\n",
    "        self.next = None\n",
    "class queue(object):\n",
    "    def __init__(self):\n",
    "        self.l = []\n",
    "    def __len__(self):\n",
    "        return len(self.l)\n",
    "    def enqueue(self,item):\n",
    "        #入队\n",
    "        newnode = ListNode(item)\n",
    "        if len(self.l) == 0:\n",
    "            self.l.append(newnode)\n",
    "        else:\n",
    "            oldnode = self.l[-1]\n",
    "            oldnode.next = newnode\n",
    "            self.l.append(newnode)\n",
    "    def dequeue(self):\n",
    "        #出队\n",
    "        print(self.l[0].val)\n",
    "        self.l.pop(0)\n",
    "        "
   ]
  },
  {
   "cell_type": "code",
   "execution_count": 6,
   "id": "fe592db9",
   "metadata": {},
   "outputs": [
    {
     "name": "stdout",
     "output_type": "stream",
     "text": [
      "0\n",
      "1\n",
      "2\n",
      "3\n",
      "4\n",
      "5\n",
      "6\n",
      "7\n",
      "8\n",
      "9\n"
     ]
    }
   ],
   "source": [
    "q = queue()\n",
    "for i in range(100):\n",
    "    q.enqueue(i)\n",
    "for i in range(10):\n",
    "    q.dequeue()"
   ]
  },
  {
   "cell_type": "markdown",
   "id": "9f052b2f",
   "metadata": {},
   "source": [
    "## 二叉树的广度优先搜索"
   ]
  },
  {
   "cell_type": "markdown",
   "id": "05e185fc",
   "metadata": {},
   "source": [
    "### 递归的二叉树结构"
   ]
  },
  {
   "cell_type": "code",
   "execution_count": 42,
   "id": "9527ba54",
   "metadata": {},
   "outputs": [],
   "source": [
    "class bfs(object):\n",
    "    def __init__(self,item):\n",
    "        self.root = item\n",
    "        self.left = None\n",
    "        self.right = None\n",
    "    def right_child(self,item):\n",
    "        self.right = bfs(item)\n",
    "    def left_child(self,item):\n",
    "        self.left = bfs(item)\n",
    "nodes = {}\n",
    "nodes[8]={'left':6,'right':10}\n",
    "nodes[6]={'left':5,'right':7}\n",
    "nodes[10]={'left':9,'right':11}\n",
    "nodes[5]={'left':None,'right':None}\n",
    "nodes[7]={'left':None,'right':None}\n",
    "nodes[9]={'left':None,'right':None}\n",
    "nodes[11]={'left':None,'right':None}\n",
    "def addtreenode(nodes,root):\n",
    "    if nodes[root]['left']==None and nodes[root]['right']==None:\n",
    "        #叶子节点\n",
    "        tree = bfs(root)\n",
    "    elif nodes[root]['left']==None:\n",
    "        tree = bfs(root)\n",
    "        tree.right = addtreenode(nodes,nodes[root]['right'])\n",
    "    elif nodes[root]['right']==None:\n",
    "        tree = bfs(root)\n",
    "        tree.left = addtreenode(nodes,nodes[root]['left'])\n",
    "    else:\n",
    "        tree = bfs(root)\n",
    "        tree.right = addtreenode(nodes,nodes[root]['right'])\n",
    "        tree.left = addtreenode(nodes,nodes[root]['left'])\n",
    "    return tree\n",
    "tree =addtreenode(nodes,8)          "
   ]
  },
  {
   "cell_type": "markdown",
   "id": "7512fd73",
   "metadata": {},
   "source": [
    "### 用队列实现广度优先遍历"
   ]
  },
  {
   "cell_type": "code",
   "execution_count": 39,
   "id": "72e0ce1f",
   "metadata": {},
   "outputs": [],
   "source": [
    "class treequeue(object):\n",
    "    def __init__(self):\n",
    "        self.l = []\n",
    "    def __len__(self):\n",
    "        return len(self.l)\n",
    "    def is_not_empty(self):\n",
    "        if len(self.l)==0:\n",
    "            return False\n",
    "        else:\n",
    "            return True\n",
    "    def enqueue(self,item):\n",
    "        #入队\n",
    "        newnode = item\n",
    "        if len(self.l) == 0:\n",
    "            self.l.append(newnode)\n",
    "        else:\n",
    "            oldnode = self.l[-1]\n",
    "            oldnode.next = newnode\n",
    "            self.l.append(newnode)\n",
    "    def dequeue(self):\n",
    "        #出队\n",
    "        print(self.l[0].root)\n",
    "        self.l.pop(0)"
   ]
  },
  {
   "cell_type": "code",
   "execution_count": 40,
   "id": "2dca783d",
   "metadata": {},
   "outputs": [
    {
     "name": "stdout",
     "output_type": "stream",
     "text": [
      "8\n",
      "6\n",
      "10\n",
      "5\n",
      "7\n",
      "9\n",
      "11\n"
     ]
    }
   ],
   "source": [
    "q = treequeue()\n",
    "q.enqueue(tree)\n",
    "while q.is_not_empty():\n",
    "    tree = q.l[0]\n",
    "    left = tree.left\n",
    "    right = tree.right\n",
    "    if left is not None:\n",
    "        q.enqueue(left)\n",
    "    if right is not None:\n",
    "        q.enqueue(right)\n",
    "    q.dequeue()"
   ]
  },
  {
   "cell_type": "markdown",
   "id": "52a293ee",
   "metadata": {},
   "source": [
    "### 为二叉树添加新的节点"
   ]
  },
  {
   "cell_type": "code",
   "execution_count": 109,
   "id": "e69f6b1c",
   "metadata": {},
   "outputs": [],
   "source": [
    "class bfs(object):\n",
    "    def __init__(self,item):\n",
    "        self.root = item\n",
    "        self.left = None\n",
    "        self.right = None\n",
    "class treequeue(object):\n",
    "    def __init__(self):\n",
    "        self.l = []\n",
    "    def __len__(self):\n",
    "        return len(self.l)\n",
    "    def is_not_empty(self):\n",
    "        if len(self.l)==0:\n",
    "            return False\n",
    "        else:\n",
    "            return True\n",
    "    def enqueue(self,item):\n",
    "        #入队\n",
    "        newnode = item\n",
    "      \n",
    "        self.l.append(newnode)\n",
    "\n",
    "    def dequeue(self):\n",
    "        #出队\n",
    "        node = self.l[0].root\n",
    "        self.l.pop(0)\n",
    "        return \n",
    "class CBTInserter(object):\n",
    "    def __init__(self,tree=None):\n",
    "        self.tree = tree\n",
    "        self.queue = treequeue()\n",
    "        if tree != None:\n",
    "            self.queue.enqueue(self.tree)\n",
    "    def insert(self,item):\n",
    "        if self.queue.is_not_empty():\n",
    "            while self.queue.is_not_empty():\n",
    "                tree = self.queue.l[0]\n",
    "                left = tree.left\n",
    "                right = tree.right\n",
    "                if left is not None and right is not None:\n",
    "                    #左子树和右子树都不为空，循环下一个节点\n",
    "                    continue\n",
    "                elif left is None:\n",
    "                    #左子树为空，填充，保持该节点在队列\n",
    "                    tree.left = bfs(item)\n",
    "                    self.queue.enqueue(tree.left)\n",
    "                    break\n",
    "                elif right is None:\n",
    "                    #右子树为空，填充，移除该节点\n",
    "                    tree.right = bfs(item)\n",
    "                    self.queue.enqueue(tree.right)\n",
    "                    self.queue.dequeue()\n",
    "                    break\n",
    "        else:\n",
    "            self.tree = bfs(item)\n",
    "            self.queue.enqueue(self.tree)"
   ]
  },
  {
   "cell_type": "code",
   "execution_count": 110,
   "id": "ee965d80",
   "metadata": {},
   "outputs": [],
   "source": [
    "insertor = CBTInserter()"
   ]
  },
  {
   "cell_type": "code",
   "execution_count": 111,
   "id": "908ae100",
   "metadata": {},
   "outputs": [],
   "source": [
    "for i in range(1,101):\n",
    "    insertor.insert(i)"
   ]
  },
  {
   "cell_type": "code",
   "execution_count": 112,
   "id": "e24650f7",
   "metadata": {},
   "outputs": [],
   "source": [
    "class treequeue(object):\n",
    "    def __init__(self):\n",
    "        self.l = []\n",
    "    def __len__(self):\n",
    "        return len(self.l)\n",
    "    def is_not_empty(self):\n",
    "        if len(self.l)==0:\n",
    "            return False\n",
    "        else:\n",
    "            return True\n",
    "    def enqueue(self,item):\n",
    "        #入队\n",
    "        newnode = item\n",
    "      \n",
    "        self.l.append(newnode)\n",
    "\n",
    "    def dequeue(self):\n",
    "        #出队\n",
    "        node = self.l[0].root\n",
    "        self.l.pop(0)\n",
    "        print(node)\n",
    "        return "
   ]
  },
  {
   "cell_type": "code",
   "execution_count": 113,
   "id": "956ee557",
   "metadata": {},
   "outputs": [
    {
     "name": "stdout",
     "output_type": "stream",
     "text": [
      "1\n",
      "2\n",
      "3\n",
      "4\n",
      "5\n",
      "6\n",
      "7\n",
      "8\n",
      "9\n",
      "10\n",
      "11\n",
      "12\n",
      "13\n",
      "14\n",
      "15\n",
      "16\n",
      "17\n",
      "18\n",
      "19\n",
      "20\n",
      "21\n",
      "22\n",
      "23\n",
      "24\n",
      "25\n",
      "26\n",
      "27\n",
      "28\n",
      "29\n",
      "30\n",
      "31\n",
      "32\n",
      "33\n",
      "34\n",
      "35\n",
      "36\n",
      "37\n",
      "38\n",
      "39\n",
      "40\n",
      "41\n",
      "42\n",
      "43\n",
      "44\n",
      "45\n",
      "46\n",
      "47\n",
      "48\n",
      "49\n",
      "50\n",
      "51\n",
      "52\n",
      "53\n",
      "54\n",
      "55\n",
      "56\n",
      "57\n",
      "58\n",
      "59\n",
      "60\n",
      "61\n",
      "62\n",
      "63\n",
      "64\n",
      "65\n",
      "66\n",
      "67\n",
      "68\n",
      "69\n",
      "70\n",
      "71\n",
      "72\n",
      "73\n",
      "74\n",
      "75\n",
      "76\n",
      "77\n",
      "78\n",
      "79\n",
      "80\n",
      "81\n",
      "82\n",
      "83\n",
      "84\n",
      "85\n",
      "86\n",
      "87\n",
      "88\n",
      "89\n",
      "90\n",
      "91\n",
      "92\n",
      "93\n",
      "94\n",
      "95\n",
      "96\n",
      "97\n",
      "98\n",
      "99\n",
      "100\n"
     ]
    }
   ],
   "source": [
    "tree = insertor.tree\n",
    "q = treequeue()\n",
    "q.enqueue(tree)\n",
    "while q.is_not_empty():\n",
    "    tree = q.l[0]\n",
    "    left = tree.left\n",
    "    right = tree.right\n",
    "    if left is not None:\n",
    "        q.enqueue(left)\n",
    "    if right is not None:\n",
    "        q.enqueue(right)\n",
    "    q.dequeue()"
   ]
  },
  {
   "cell_type": "markdown",
   "id": "b7f7fdbc",
   "metadata": {},
   "source": [
    "## 二叉树每层的最大值"
   ]
  },
  {
   "cell_type": "markdown",
   "id": "b10d82c6",
   "metadata": {},
   "source": [
    "### 单个队列的广度优先搜索\n",
    "**用两个变量去标记当前层和下一层**"
   ]
  },
  {
   "cell_type": "code",
   "execution_count": 117,
   "id": "3b69433d",
   "metadata": {},
   "outputs": [],
   "source": [
    "class treequeue(object):\n",
    "    def __init__(self):\n",
    "        self.l = []\n",
    "    def __len__(self):\n",
    "        return len(self.l)\n",
    "    def is_not_empty(self):\n",
    "        if len(self.l)==0:\n",
    "            return False\n",
    "        else:\n",
    "            return True\n",
    "    def enqueue(self,item):\n",
    "        #入队\n",
    "        newnode = item     \n",
    "        self.l.append(newnode)\n",
    "    def dequeue(self):\n",
    "        #出队\n",
    "        node = self.l[0].root\n",
    "        self.l.pop(0)\n",
    "        print(node,end=' ')\n",
    "        return "
   ]
  },
  {
   "cell_type": "code",
   "execution_count": 124,
   "id": "89fb3e1c",
   "metadata": {},
   "outputs": [
    {
     "name": "stdout",
     "output_type": "stream",
     "text": [
      "1 第1层最大值 1\n",
      "2 3 第2层最大值 3\n",
      "4 5 6 7 第3层最大值 7\n",
      "8 9 10 11 12 13 14 15 第4层最大值 15\n",
      "16 17 18 19 20 21 22 23 24 25 26 27 28 29 30 31 第5层最大值 31\n",
      "32 33 34 35 36 37 38 39 40 41 42 43 44 45 46 47 48 49 50 51 52 53 54 55 56 57 58 59 60 61 62 63 第6层最大值 63\n",
      "64 65 66 67 68 69 70 71 72 73 74 75 76 77 78 79 80 81 82 83 84 85 86 87 88 89 90 91 92 93 94 95 96 97 98 99 100 第7层最大值 100\n",
      "花费了4.5858ms\n"
     ]
    }
   ],
   "source": [
    "start = time.perf_counter()\n",
    "tree = insertor.tree\n",
    "q = treequeue()\n",
    "q.enqueue(tree)\n",
    "current = 1\n",
    "next = 0\n",
    "max_p = 0\n",
    "k = 0\n",
    "while q.is_not_empty():\n",
    "    tree = q.l[0]\n",
    "    left = tree.left\n",
    "    right = tree.right\n",
    "    if left is not None:\n",
    "        q.enqueue(left)\n",
    "        next += 1\n",
    "    if right is not None:\n",
    "        q.enqueue(right)\n",
    "        next += 1\n",
    "    q.dequeue()\n",
    "    current -= 1\n",
    "    max_p = max(max_p,tree.root)\n",
    "    if current == 0:\n",
    "        k += 1\n",
    "        print('第'+str(k)+'层最大值',max_p)\n",
    "        max_p = 0\n",
    "        current = next\n",
    "        next = 0  \n",
    "print('花费了'+'%.4fms'%((time.perf_counter()-start)*1000))"
   ]
  },
  {
   "cell_type": "markdown",
   "id": "1c795ca5",
   "metadata": {},
   "source": [
    "### 两个队列的广度优先搜索"
   ]
  },
  {
   "cell_type": "code",
   "execution_count": 125,
   "id": "a7dcd0f5",
   "metadata": {},
   "outputs": [
    {
     "name": "stdout",
     "output_type": "stream",
     "text": [
      "1 第1层最大值 1\n",
      "2 3 第2层最大值 3\n",
      "4 5 6 7 第3层最大值 7\n",
      "8 9 10 11 12 13 14 15 第4层最大值 15\n",
      "16 17 18 19 20 21 22 23 24 25 26 27 28 29 30 31 第5层最大值 31\n",
      "32 33 34 35 36 37 38 39 40 41 42 43 44 45 46 47 48 49 50 51 52 53 54 55 56 57 58 59 60 61 62 63 第6层最大值 63\n",
      "64 65 66 67 68 69 70 71 72 73 74 75 76 77 78 79 80 81 82 83 84 85 86 87 88 89 90 91 92 93 94 95 96 97 98 99 100 第7层最大值 100\n",
      "花费了5.3967ms\n"
     ]
    }
   ],
   "source": [
    "start = time.perf_counter()\n",
    "tree = insertor.tree\n",
    "queue1 = treequeue()\n",
    "queue2 = treequeue()\n",
    "queue1.enqueue(tree)\n",
    "max_p = 0\n",
    "k = 0\n",
    "while queue1.is_not_empty():\n",
    "    tree = queue1.l[0]\n",
    "    left = tree.left\n",
    "    right = tree.right\n",
    "    if left is not None:\n",
    "        queue2.enqueue(left)\n",
    "    if right is not None:\n",
    "        queue2.enqueue(right)\n",
    "    queue1.dequeue()\n",
    "    max_p = max(tree.root,max_p)\n",
    "    if not queue1.is_not_empty():\n",
    "        k += 1\n",
    "        print('第'+str(k)+'层最大值',max_p)\n",
    "        max_p = 0\n",
    "        queue1,queue2 = queue2,queue1\n",
    "print('花费了'+'%.4fms'%((time.perf_counter()-start)*1000))"
   ]
  },
  {
   "cell_type": "markdown",
   "id": "f074c68c",
   "metadata": {},
   "source": [
    "#### 二叉树最低层最左边的值"
   ]
  },
  {
   "cell_type": "code",
   "execution_count": 127,
   "id": "7c828303",
   "metadata": {},
   "outputs": [
    {
     "name": "stdout",
     "output_type": "stream",
     "text": [
      "1 第1层最左侧值 1\n",
      "2 3 第2层最左侧值 2\n",
      "4 5 6 7 第3层最左侧值 4\n",
      "8 9 10 11 12 13 14 15 第4层最左侧值 8\n",
      "16 17 18 19 20 21 22 23 24 25 26 27 28 29 30 31 第5层最左侧值 16\n",
      "32 33 34 35 36 37 38 39 40 41 42 43 44 45 46 47 48 49 50 51 52 53 54 55 56 57 58 59 60 61 62 63 第6层最左侧值 32\n",
      "64 65 66 67 68 69 70 71 72 73 74 75 76 77 78 79 80 81 82 83 84 85 86 87 88 89 90 91 92 93 94 95 96 97 98 99 100 第7层最左侧值 100\n",
      "花费了5.0943ms\n"
     ]
    }
   ],
   "source": [
    "start = time.perf_counter()\n",
    "tree = insertor.tree\n",
    "q = treequeue()\n",
    "q.enqueue(tree)\n",
    "current = 1\n",
    "next = 0\n",
    "k = 0\n",
    "while q.is_not_empty():\n",
    "    tree = q.l[0]\n",
    "    left = tree.left\n",
    "    right = tree.right\n",
    "    if next == 0:\n",
    "        leftbottom = tree.root\n",
    "    if left is not None:\n",
    "        q.enqueue(left)\n",
    "        next += 1\n",
    "    if right is not None:\n",
    "        q.enqueue(right)\n",
    "        next += 1\n",
    "    q.dequeue()\n",
    "    current -= 1\n",
    "    if current == 0:\n",
    "        k += 1\n",
    "        print('第'+str(k)+'层最左侧值',leftbottom)\n",
    "        current = next\n",
    "        next = 0  \n",
    "print('花费了'+'%.4fms'%((time.perf_counter()-start)*1000))"
   ]
  },
  {
   "cell_type": "markdown",
   "id": "8674af46",
   "metadata": {},
   "source": [
    "#### 二叉树右视图"
   ]
  },
  {
   "cell_type": "code",
   "execution_count": null,
   "id": "b7567697",
   "metadata": {},
   "outputs": [],
   "source": [
    "start = time.perf_counter()\n",
    "tree = insertor.tree\n",
    "q = treequeue()\n",
    "q.enqueue(tree)\n",
    "current = 1\n",
    "next = 0\n",
    "k = 0\n",
    "while q.is_not_empty():\n",
    "    tree = q.l[0]\n",
    "    left = tree.left\n",
    "    right = tree.right\n",
    "    if left is not None:\n",
    "        q.enqueue(left)\n",
    "        next += 1\n",
    "    if right is not None:\n",
    "        q.enqueue(right)\n",
    "        next += 1\n",
    "    q.dequeue()\n",
    "    current -= 1\n",
    "    if current == 0:\n",
    "        k += 1\n",
    "        \n",
    "        print('第'+str(k)+'层最左侧值',leftbottom)\n",
    "        current = next\n",
    "        next = 0  \n",
    "print('花费了'+'%.4fms'%((time.perf_counter()-start)*1000))"
   ]
  }
 ],
 "metadata": {
  "kernelspec": {
   "display_name": "Python 3 (ipykernel)",
   "language": "python",
   "name": "python3"
  },
  "language_info": {
   "codemirror_mode": {
    "name": "ipython",
    "version": 3
   },
   "file_extension": ".py",
   "mimetype": "text/x-python",
   "name": "python",
   "nbconvert_exporter": "python",
   "pygments_lexer": "ipython3",
   "version": "3.9.7"
  }
 },
 "nbformat": 4,
 "nbformat_minor": 5
}
