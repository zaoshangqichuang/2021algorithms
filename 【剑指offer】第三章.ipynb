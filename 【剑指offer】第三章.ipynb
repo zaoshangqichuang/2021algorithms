{
 "cells": [
  {
   "cell_type": "markdown",
   "id": "7ed18090",
   "metadata": {},
   "source": [
    "# 第三章 字符串操作\n",
    "## 双指针\n",
    "### Q14：一个字符串是否包含另一个字符串的变位词"
   ]
  },
  {
   "cell_type": "code",
   "execution_count": 3,
   "id": "579e5860",
   "metadata": {},
   "outputs": [],
   "source": [
    "import numpy as np\n",
    "import pandas as pd\n",
    "import time"
   ]
  },
  {
   "cell_type": "code",
   "execution_count": 58,
   "id": "a3fe2840",
   "metadata": {},
   "outputs": [
    {
     "data": {
      "text/plain": [
       "'lzpnwdprlgsmeklwlybgsdazhwcpgyznunyttweahdycqiaoiejocsioykftdbldrtxllnrzqfvubgnnpvzdfutmsjudgqqieqsjzydqpliymtlpjhakoksbzskdlqjfkunjipknfehlknzzztrgsoddqetaazzumubahcccwxffrosxvplknckaylxztpkxlpbwrzsyxlluwmqyoihcmzyavvtkfumasrlkftqllpstclgqrkjtzbiiiskwtrafxiadttifhsujgddywmtufqwhvddjdbaiyirtoixkngnljofteqdigtrzbezuhuqjrbcuhgnimqlruwfbtzifhapvffkywakciwhfggjfdoneueogjruvkejxvbtrdhlhgtjdcabkhmqqjvpamrskjkcucvyhhyzadjowbwnffhudiflqhksksidcayyecfvluccjlkapqfjkfswtdmhzhhpgsbpbhtacnikfsrqlyujiqwhwoyhibbkhsllchklarajrrbsjumeckbdttndnqhwjncpdbeqrytyfzpqqtthcvghixprtcjfviwlcoucbqnrfwsnvtiftlwvmpagknnsdpvkgqlfbznubaqfxpifsjrctzfoumzmzgpqizwekvhtuzftwqytukvldvxhsozyncoteawslozhyndruaemmkbeaadlalegbesdballkantxmewysdwizrwzdfypdzqocxikjjuhocafixkbjqkxiwfyyeafiyypmmyadawbxlqghbsfnaeokolxgcvftorqnscxdfjjdjfatqunzhxumzlspldivnudtdjovbtotmkuseyteqbngbwwyftafalekjgomlccqzyapbngiclrxeulguqhvvuenfeobjcqarcwtmoamyeufiklyheygsojgbmpgyktioauvmrhrfbbjfydcdttbuxxiagqqexbkxjsnxrfmnftraulppggekxcsnkkhqwgehrlnwhqdwlh'"
      ]
     },
     "execution_count": 58,
     "metadata": {},
     "output_type": "execute_result"
    }
   ],
   "source": [
    "#测试用例\n",
    "s1 = 'bhbk'\n",
    "s2 = ''\n",
    "for i in range(500):\n",
    "    s2 += chr(np.random.randint(97,123,1)[0])\n",
    "s2 += 'bbkh'\n",
    "for i in range(500):\n",
    "    s2 += chr(np.random.randint(97,123,1)[0])\n",
    "s2"
   ]
  },
  {
   "cell_type": "code",
   "execution_count": 60,
   "id": "e6b92926",
   "metadata": {},
   "outputs": [
    {
     "name": "stdout",
     "output_type": "stream",
     "text": [
      "500 503 bbkh\n",
      "Time used:1.5526ms\n"
     ]
    }
   ],
   "source": [
    "start = time.perf_counter()\n",
    "def dictiszero(words_dict):\n",
    "    flag = 0\n",
    "    for value in words_dict.values():\n",
    "        if value != 0:\n",
    "            flag = 1\n",
    "            break\n",
    "        else:\n",
    "            continue\n",
    "    if flag == 0:\n",
    "        return True\n",
    "    else:\n",
    "        return False\n",
    "s1_len = len(s1)\n",
    "s2_len = len(s2)\n",
    "left = 0\n",
    "right = left + s1_len-1\n",
    "#初始化s1字母的哈希表\n",
    "words_dict = {}\n",
    "for i in range(97,123):\n",
    "    words_dict[chr(i)] = 0\n",
    "for a in s1:\n",
    "    words_dict[a]+= 1\n",
    "for ind in range(left,right):\n",
    "    words_dict[s2[ind]] -= 1\n",
    "while left >= 0 and right < s2_len:\n",
    "    words_dict[s2[right]] -= 1\n",
    "    if dictiszero(words_dict):\n",
    "        print(left,right,s2[left:right+1])\n",
    "        break\n",
    "    else:\n",
    "        words_dict[s2[left]] += 1\n",
    "        left += 1\n",
    "        right += 1\n",
    "eclapsed = time.perf_counter()-start\n",
    "print(\"Time used:\"+\"%.4fms\"%(1000*eclapsed))"
   ]
  },
  {
   "cell_type": "markdown",
   "id": "ea7220a3",
   "metadata": {},
   "source": [
    "### Q16:不含重复字符的最长子字符串  \n",
    "**避免重复遍历哈希表，加入变量countDup来监测哈希表中的元素是否大于2**"
   ]
  },
  {
   "cell_type": "code",
   "execution_count": 62,
   "id": "dbb6cb72",
   "metadata": {},
   "outputs": [
    {
     "data": {
      "text/plain": [
       "'yytecgruqvcmrzyvnsyncluirnlqdkwkxwwqkzoorcgthnlpetbvdfsnvkntjiiwteqrirahzbwwmlggdnhtldcyuhjfnlltyziuslibjqfdofdoiotebqtidfqzhtvldbhmkdsrdtmgulhjbkjzhspsryjrdxkxelijthfbpljhdamvcxizmzcibnzfdubmqlhchpwkhwjhqggjxxohxowxzujdiczljquqotykwhvpwpoqeiwsuywcfutlxfkulmvavqwzauszbzgpsiotkilgvdwdzevbyebvtmmuzuazbmwshtpipgzxphyfckimhslbwmrsrholbhtpqfqsilcgucyyyrjaplrkoqvjkrtrozkstjeusimkhvlidixmbvhruvghyrkkhxbdgwpvwihthtofvrcubgnzlrckvfbeocbalvwbkzvhmehczmwlhnvgcrnvdkvpnuustibeuwzhavyjewoajpvhkdfyblxshzpvohvv'"
      ]
     },
     "execution_count": 62,
     "metadata": {},
     "output_type": "execute_result"
    }
   ],
   "source": [
    "s2 = ''\n",
    "for i in range(500):\n",
    "    s2 += chr(np.random.randint(97,123,1)[0])\n",
    "s2\n",
    "#s2 = 'babcca'"
   ]
  },
  {
   "cell_type": "code",
   "execution_count": 63,
   "id": "6b5618de",
   "metadata": {
    "scrolled": true
   },
   "outputs": [
    {
     "name": "stdout",
     "output_type": "stream",
     "text": [
      "16 ewoajpvhkdfyblxs\n",
      "Time used:1.3853ms\n"
     ]
    }
   ],
   "source": [
    "start = time.perf_counter()\n",
    "words_dict = {}\n",
    "for i in range(1,257):\n",
    "    words_dict[chr(i)] = 0\n",
    "s2_len = len(s2)\n",
    "max_len = 0\n",
    "countDup = 0\n",
    "if s2_len >=2:\n",
    "    left = 0\n",
    "    right = left + 1\n",
    "    words_dict[s2[left]] += 1\n",
    "    while left >= 0 and left <= right and right < s2_len:\n",
    "        if countDup == 0:\n",
    "            if words_dict[s2[right]] == 2:\n",
    "            #次数大于2的字母加1\n",
    "                countDup += 1\n",
    "            else:\n",
    "                #向右移动右指针\n",
    "                max_len = max(max_len,right-left+1)\n",
    "                if right-left+1 == max_len:\n",
    "                    max_s = s2[left:right+1]\n",
    "                right += 1 \n",
    "                if right >= s2_len:\n",
    "                    break\n",
    "                else:\n",
    "                    words_dict[s2[right]] += 1\n",
    "        else:\n",
    "            #向右移动左指针\n",
    "            m1 = words_dict.get(s2[left])\n",
    "            words_dict[s2[left]] -= 1\n",
    "            #print('turn left',left,countDup,m1)\n",
    "            if m1 == 2:\n",
    "                countDup -= 1\n",
    "                #print(countDup)\n",
    "            left += 1\n",
    "else:\n",
    "    max_len = s2_len\n",
    "print(max_len,max_s)\n",
    "eclapsed = time.perf_counter()-start\n",
    "print(\"Time used:\"+\"%.4fms\"%(1000*eclapsed))"
   ]
  },
  {
   "cell_type": "code",
   "execution_count": 64,
   "id": "baf43037",
   "metadata": {},
   "outputs": [
    {
     "name": "stdout",
     "output_type": "stream",
     "text": [
      "16 ewoajpvhkdfyblxs\n",
      "Time used:325.5715ms\n"
     ]
    }
   ],
   "source": [
    "#暴力遍历法\n",
    "start = time.perf_counter()\n",
    "left = 0\n",
    "right = left+1\n",
    "max_len = 0\n",
    "for left in range(0,s2_len-1):\n",
    "    for right in range(left+1,s2_len):\n",
    "        if len(set(s2[left:right+1]))==len(s2[left:right+1]):\n",
    "            max_len=max(max_len,right-left+1)\n",
    "            if right-left+1 == max_len:\n",
    "                max_s = s2[left:right+1]\n",
    "print(max_len,max_s)\n",
    "eclapsed = time.perf_counter()-start\n",
    "print(\"Time used:\"+\"%.4fms\"%(1000*eclapsed))    "
   ]
  },
  {
   "cell_type": "markdown",
   "id": "e984dbee",
   "metadata": {},
   "source": [
    "## 回文字符串"
   ]
  },
  {
   "cell_type": "markdown",
   "id": "65fba1eb",
   "metadata": {},
   "source": [
    "### Q20:回文字符串的个数\n",
    "**从中心出发开始遍历，注意边界条件**"
   ]
  },
  {
   "cell_type": "code",
   "execution_count": 77,
   "id": "61059029",
   "metadata": {},
   "outputs": [],
   "source": [
    "s2 = ''\n",
    "for i in range(1000):\n",
    "    s2 += chr(np.random.randint(97,123,1)[0])\n",
    "#s2 = 'aaa'"
   ]
  },
  {
   "cell_type": "code",
   "execution_count": 79,
   "id": "4be58152",
   "metadata": {},
   "outputs": [
    {
     "name": "stdout",
     "output_type": "stream",
     "text": [
      "1077\n",
      "Time used:2.1303ms\n"
     ]
    }
   ],
   "source": [
    "start0 = time.perf_counter()\n",
    "s2_len = len(s2)\n",
    "global count\n",
    "def countfromcentral(s2,start,end):\n",
    "    count1 = 0\n",
    "    while start>= 0 and start<= end and end< len(s2):\n",
    "        if s2[start] == s2[end]:\n",
    "            count1 += 1\n",
    "            #print(s2[start:end+1],count)\n",
    "            start -= 1\n",
    "            end += 1\n",
    "        else:\n",
    "            break\n",
    "    return count1\n",
    "count = 0\n",
    "for i in range(s2_len):\n",
    "    count += countfromcentral(s2,i,i)\n",
    "    count += countfromcentral(s2,i,i+1)\n",
    "print(count)\n",
    "eclapsed = time.perf_counter()-start0\n",
    "print(\"Time used:\"+\"%.4fms\"%(1000*eclapsed)) "
   ]
  },
  {
   "cell_type": "code",
   "execution_count": null,
   "id": "df4393fc",
   "metadata": {},
   "outputs": [],
   "source": []
  }
 ],
 "metadata": {
  "kernelspec": {
   "display_name": "Python 3 (ipykernel)",
   "language": "python",
   "name": "python3"
  },
  "language_info": {
   "codemirror_mode": {
    "name": "ipython",
    "version": 3
   },
   "file_extension": ".py",
   "mimetype": "text/x-python",
   "name": "python",
   "nbconvert_exporter": "python",
   "pygments_lexer": "ipython3",
   "version": "3.9.7"
  }
 },
 "nbformat": 4,
 "nbformat_minor": 5
}
