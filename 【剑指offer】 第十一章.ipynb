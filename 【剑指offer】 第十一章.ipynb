{
 "cells": [
  {
   "cell_type": "code",
   "execution_count": 2,
   "id": "f0216e87",
   "metadata": {},
   "outputs": [],
   "source": [
    "import numpy as np\n",
    "import random\n",
    "import time"
   ]
  },
  {
   "cell_type": "markdown",
   "id": "3d664ba9",
   "metadata": {},
   "source": [
    "# 第十一章 二分查找\n",
    "**一般用于在整体排序或者局部排序的数组中查找**"
   ]
  },
  {
   "cell_type": "markdown",
   "id": "fc031cc7",
   "metadata": {},
   "source": [
    "### Q68:查找插入位置"
   ]
  },
  {
   "cell_type": "markdown",
   "id": "a3e721ab",
   "metadata": {},
   "source": [
    "#### 查找对应位置"
   ]
  },
  {
   "cell_type": "code",
   "execution_count": 36,
   "id": "e8355bf6",
   "metadata": {},
   "outputs": [],
   "source": [
    "l = [1,3,5,7,9]\n",
    "def search(l,num,left=0,right=None):\n",
    "    if right == None:\n",
    "        right = len(l)\n",
    "    mid = (left+right-1)//2\n",
    "    if l[mid] == num:\n",
    "        return mid\n",
    "    elif l[mid] > num:\n",
    "        if l[mid-1] >= num and l[left] <= num :    \n",
    "            return search(l,num,left=left,right=mid)\n",
    "        else:\n",
    "            return None\n",
    "    else:\n",
    "        if l[mid+1] <= num and l[right-1] >= num:\n",
    "            return search(l,num,left=mid+1,right=right)\n",
    "        else:\n",
    "            return None"
   ]
  },
  {
   "cell_type": "code",
   "execution_count": 37,
   "id": "42b4b3d1",
   "metadata": {},
   "outputs": [],
   "source": [
    "search(l,10)"
   ]
  },
  {
   "cell_type": "markdown",
   "id": "5ae1653c",
   "metadata": {},
   "source": [
    "#### 查找插入位置"
   ]
  },
  {
   "cell_type": "code",
   "execution_count": 32,
   "id": "710b70b4",
   "metadata": {},
   "outputs": [],
   "source": [
    "def find_ind(l,num,left=0,right=None):\n",
    "    if right == None:\n",
    "        right = len(l)\n",
    "    mid = (left+right-1)//2\n",
    "    if l[mid] == num:\n",
    "        return mid\n",
    "    elif l[mid] > num:\n",
    "        if l[mid-1] < num:\n",
    "            return mid\n",
    "        elif l[left] > num:\n",
    "            return left\n",
    "        else:\n",
    "            return find_ind(l,num,left=left,right=mid)\n",
    "    else:\n",
    "        if l[mid+1] > num:\n",
    "            return mid+1\n",
    "        elif l[right-1] < num:\n",
    "            return right\n",
    "        else:\n",
    "            return find_ind(l,num,left=mid+1,right=right)"
   ]
  },
  {
   "cell_type": "code",
   "execution_count": 33,
   "id": "07e3634f",
   "metadata": {},
   "outputs": [
    {
     "name": "stdout",
     "output_type": "stream",
     "text": [
      "0\n",
      "0\n",
      "1\n",
      "1\n",
      "2\n",
      "2\n",
      "3\n",
      "3\n",
      "4\n",
      "4\n",
      "5\n"
     ]
    }
   ],
   "source": [
    "for i in range(11):\n",
    "    print(find_ind(l,i))"
   ]
  },
  {
   "cell_type": "markdown",
   "id": "199206c8",
   "metadata": {},
   "source": [
    "### Q69:查找山峰值"
   ]
  },
  {
   "cell_type": "code",
   "execution_count": 40,
   "id": "3ecaff38",
   "metadata": {},
   "outputs": [
    {
     "data": {
      "text/plain": [
       "2"
      ]
     },
     "execution_count": 40,
     "metadata": {},
     "output_type": "execute_result"
    }
   ],
   "source": [
    "l = [1,3,5,4,2]\n",
    "def find_peak(l):\n",
    "    left = 0\n",
    "    right = len(l)-1\n",
    "    while right >= left+2:\n",
    "        mid = (left+right)//2\n",
    "        if l[left] <= l[mid] and l[right]<=l[mid]:\n",
    "            left = (mid+left)//2\n",
    "            right = (mid+right)//2\n",
    "        elif l[left] > l[mid]:\n",
    "            right = mid\n",
    "            mid = left\n",
    "            left =2*mid-right\n",
    "        else:\n",
    "            left = mid\n",
    "            mid = right\n",
    "            right = 2*mid-left\n",
    "    return mid\n",
    "find_peak(l)       "
   ]
  },
  {
   "cell_type": "markdown",
   "id": "88273280",
   "metadata": {},
   "source": [
    "### Q70:排序数组中只出现过一次的数字\n",
    "**非排序数组直接用异或运算**"
   ]
  },
  {
   "cell_type": "code",
   "execution_count": 18,
   "id": "782af026",
   "metadata": {},
   "outputs": [],
   "source": [
    "import numpy as np\n",
    "l1 = np.arange(0,1000,1)\n",
    "l2 = np.arange(1000,3000,1)\n",
    "l0 = []\n",
    "for i in l1:\n",
    "    l0 += [i]*2\n",
    "l0 += [600]\n",
    "for i in l2:\n",
    "    l0 += [i]*2"
   ]
  },
  {
   "cell_type": "code",
   "execution_count": 20,
   "id": "522c4197",
   "metadata": {},
   "outputs": [
    {
     "data": {
      "text/plain": [
       "2000"
      ]
     },
     "execution_count": 20,
     "metadata": {},
     "output_type": "execute_result"
    }
   ],
   "source": [
    "def find_ind(l,left=0,right=None):\n",
    "    if right == None:\n",
    "        right = len(l)-1\n",
    "    #print(left,right)\n",
    "    if right>left+1:\n",
    "        if (right+left)//2%2 == 0:\n",
    "            mid1 = (right+left)//2\n",
    "            mid2 = mid1+1\n",
    "        else:\n",
    "            mid1 = (right+left)//2-1\n",
    "            mid2 = (right+left)//2\n",
    "        if l[mid1]==l[mid2]:\n",
    "            #数字在右边\n",
    "            ind = find_ind(l,left=mid2+1,right=right)\n",
    "            return ind\n",
    "        elif l[left] != l[left+1]:\n",
    "            return left\n",
    "        else:\n",
    "            ind = find_ind(l,left=left,right=mid2)\n",
    "            return ind\n",
    "    else:\n",
    "        return left        "
   ]
  },
  {
   "cell_type": "code",
   "execution_count": 22,
   "id": "72320352",
   "metadata": {},
   "outputs": [
    {
     "name": "stdout",
     "output_type": "stream",
     "text": [
      "600 1000\n",
      "999 999\n"
     ]
    }
   ],
   "source": [
    "ind = find_ind(l0)\n",
    "print(l0[ind],l0[ind+1])\n",
    "print(l0[ind-2],l0[ind-1])"
   ]
  }
 ],
 "metadata": {
  "kernelspec": {
   "display_name": "Python 3 (ipykernel)",
   "language": "python",
   "name": "python3"
  },
  "language_info": {
   "codemirror_mode": {
    "name": "ipython",
    "version": 3
   },
   "file_extension": ".py",
   "mimetype": "text/x-python",
   "name": "python",
   "nbconvert_exporter": "python",
   "pygments_lexer": "ipython3",
   "version": "3.9.7"
  }
 },
 "nbformat": 4,
 "nbformat_minor": 5
}
