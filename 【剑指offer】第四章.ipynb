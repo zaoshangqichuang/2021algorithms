{
 "cells": [
  {
   "cell_type": "markdown",
   "id": "38d80e19",
   "metadata": {},
   "source": [
    "# 第四章 链表  \n",
    "## 哨兵节点：头结点为固定的无意义的节点  \n",
    "可以简化插入和删除的操作"
   ]
  },
  {
   "cell_type": "code",
   "execution_count": 1,
   "id": "821aea65",
   "metadata": {},
   "outputs": [],
   "source": [
    "import numpy as np\n",
    "import time "
   ]
  },
  {
   "cell_type": "markdown",
   "id": "7ccf7360",
   "metadata": {},
   "source": [
    "### 普通的单向循环链表：基本结构"
   ]
  },
  {
   "cell_type": "code",
   "execution_count": 37,
   "id": "31b26585",
   "metadata": {},
   "outputs": [],
   "source": [
    "#链表节点\n",
    "class ListNode(object):\n",
    "    def __init__(self,val=0,next=None):\n",
    "        self.val = val\n",
    "        self.next = next\n",
    "#链表结构\n",
    "class LinkedList(object):\n",
    "    def __init__(self,Node=None):\n",
    "        self.head = Node\n",
    "    def is_empty(self):\n",
    "        return self.head == None\n",
    "    def length(self):\n",
    "        if self.is_empty():\n",
    "            return 0\n",
    "        else:\n",
    "            cur = self.head\n",
    "            cnt = 1\n",
    "            while cur.next != self.head:\n",
    "                cnt += 1\n",
    "                cur = cur.next\n",
    "            return cnt\n",
    "    #遍历节点\n",
    "    def travel(self):\n",
    "        cur = self.head\n",
    "        while cur.next != self.head:\n",
    "            print(cur.val,end=' ')\n",
    "            cur = cur.next\n",
    "        print(cur.val)\n",
    "    #插入头结点\n",
    "    def add(self,item):\n",
    "        node = ListNode(item)\n",
    "        if self.is_empty():\n",
    "            node.next = node\n",
    "            self.head = node\n",
    "        else:\n",
    "            node.next = self.head\n",
    "            cur = self.head\n",
    "            while cur.next != self.head:\n",
    "                cur = cur.next\n",
    "            cur.next = node\n",
    "            self.head = node\n",
    "    def append(self,item):\n",
    "        if self.is_empty():\n",
    "            self.add(item)\n",
    "        else:\n",
    "            node = ListNode(item)\n",
    "            cur = self.head\n",
    "            while cur.next != self.head:\n",
    "                cur = cur.next\n",
    "            cur.next = node\n",
    "            node.next = self.head\n",
    "    def insert(self,pos,item):\n",
    "        if pos == 0:\n",
    "            self.add(item)\n",
    "        else:\n",
    "            cur = self.head\n",
    "            count = 0\n",
    "            while count < pos-1:\n",
    "                cur = cur.next\n",
    "                count += 1\n",
    "            node = ListNode(item)\n",
    "            node.next = cur.next\n",
    "            cur.next = node\n",
    "    def remove(self,item):\n",
    "        if self.is_empty():\n",
    "            return \n",
    "        #当对应的元素为头结点时\n",
    "        elif self.head.val == item:\n",
    "            cur = self.head\n",
    "            #元素个数大于1\n",
    "            if cur.next != None:\n",
    "                while cur.next != self.head:\n",
    "                    cur = cur.next\n",
    "                cur.next = self.head.next\n",
    "                self.head = self.head.next\n",
    "            #只有一个头结点\n",
    "            else:\n",
    "                cur.head = None\n",
    "        else:\n",
    "            cur = self.head\n",
    "            pre = self.head\n",
    "            while cur.next != self.head:\n",
    "                if cur.val == item:\n",
    "                    pre.next = cur.next\n",
    "                    break\n",
    "                else:\n",
    "                    pre = cur\n",
    "                    cur = cur.next\n",
    "            if cur.val == item:\n",
    "                pre.next = cur.next"
   ]
  },
  {
   "cell_type": "code",
   "execution_count": 38,
   "id": "cd7234c4",
   "metadata": {},
   "outputs": [
    {
     "name": "stdout",
     "output_type": "stream",
     "text": [
      "85\n",
      "90\n",
      "9\n",
      "25\n",
      "36\n",
      "65\n",
      "41\n",
      "30\n",
      "1\n",
      "72\n"
     ]
    }
   ],
   "source": [
    "l0 = LinkedList()\n",
    "for i in range(10):\n",
    "    val = np.random.randint(1,101,1)[0]\n",
    "    l0.append(val)\n",
    "    print(val)"
   ]
  },
  {
   "cell_type": "code",
   "execution_count": 39,
   "id": "25306748",
   "metadata": {},
   "outputs": [
    {
     "data": {
      "text/plain": [
       "10"
      ]
     },
     "execution_count": 39,
     "metadata": {},
     "output_type": "execute_result"
    }
   ],
   "source": [
    "l0.length()"
   ]
  },
  {
   "cell_type": "code",
   "execution_count": 40,
   "id": "d31dca1d",
   "metadata": {},
   "outputs": [
    {
     "name": "stdout",
     "output_type": "stream",
     "text": [
      "85 90 9 25 36 65 41 30 1 72\n"
     ]
    }
   ],
   "source": [
    "l0.travel()"
   ]
  },
  {
   "cell_type": "code",
   "execution_count": 41,
   "id": "a71bb05a",
   "metadata": {},
   "outputs": [
    {
     "name": "stdout",
     "output_type": "stream",
     "text": [
      "1 85 90 9 25 36 65 41 30 1 72\n"
     ]
    }
   ],
   "source": [
    "l0.add(1)\n",
    "l0.travel()"
   ]
  },
  {
   "cell_type": "code",
   "execution_count": 42,
   "id": "5a28c923",
   "metadata": {},
   "outputs": [
    {
     "name": "stdout",
     "output_type": "stream",
     "text": [
      "85 90 9 25 36 65 41 30 1 72\n"
     ]
    }
   ],
   "source": [
    "l0.remove(1)\n",
    "l0.travel()"
   ]
  },
  {
   "cell_type": "code",
   "execution_count": 43,
   "id": "c864cf96",
   "metadata": {},
   "outputs": [
    {
     "name": "stdout",
     "output_type": "stream",
     "text": [
      "85 90 3 9 25 36 65 41 30 1 72\n"
     ]
    }
   ],
   "source": [
    "l0.insert(2,3)\n",
    "l0.travel()"
   ]
  },
  {
   "cell_type": "markdown",
   "id": "ce2cbaaa",
   "metadata": {},
   "source": [
    "### 加入哨兵节点后的单向链表"
   ]
  },
  {
   "cell_type": "code",
   "execution_count": 2,
   "id": "fbeda3be",
   "metadata": {},
   "outputs": [],
   "source": [
    "class ListNode(object):\n",
    "    def __init__(self,val=0,next=None):\n",
    "        self.val = val\n",
    "        self.next = next\n",
    "#链表结构\n",
    "class LinkedList(object):\n",
    "    def __init__(self,Node=None):\n",
    "        #哨兵节点\n",
    "        dummy = ListNode(0)\n",
    "        self.head = dummy\n",
    "        self.head.next = Node\n",
    "    def is_empty(self):\n",
    "        return self.head.next == None\n",
    "    def length(self):\n",
    "        if self.is_empty():\n",
    "            return 0\n",
    "        else:\n",
    "            cur = self.head.next\n",
    "            cnt = 0\n",
    "            while cur != None:\n",
    "                cnt += 1\n",
    "                cur = cur.next\n",
    "            return cnt\n",
    "    #遍历节点\n",
    "    def travel(self):\n",
    "        cur = self.head.next\n",
    "        while cur != None:\n",
    "            print(cur.val,end=' ')\n",
    "            cur = cur.next\n",
    "    #插入头结点\n",
    "    def add(self,item):\n",
    "        node = ListNode(item)\n",
    "        if self.is_empty():\n",
    "            self.head.next = node\n",
    "        else:\n",
    "            node.next = self.head.next\n",
    "            self.head.next = node\n",
    "            \n",
    "    def append(self,item): \n",
    "        node = ListNode(item)\n",
    "        cur = self.head\n",
    "        while cur.next != None:\n",
    "            cur = cur.next\n",
    "        cur.next = node\n",
    "    def insert(self,pos,item):\n",
    "        if pos == 0:\n",
    "            self.add(item)\n",
    "        else:\n",
    "            cur = self.head.next\n",
    "            count = 0\n",
    "            while count < pos-1:\n",
    "                cur = cur.next\n",
    "                count += 1\n",
    "            node = ListNode(item)\n",
    "            node.next = cur.next\n",
    "            cur.next = node\n",
    "    def remove(self,item):\n",
    "        if self.is_empty():\n",
    "            return \n",
    "        #当对应的元素为头结点时\n",
    "        else:\n",
    "            cur = self.head.next\n",
    "            pre = self.head\n",
    "            while cur.next != None:\n",
    "                if cur.val == item:\n",
    "                    pre.next = cur.next\n",
    "                    break\n",
    "                else:\n",
    "                    pre = cur\n",
    "                    cur = cur.next\n",
    "            if cur.next == None:\n",
    "                if cur.val == item:\n",
    "                    pre.next = None"
   ]
  },
  {
   "cell_type": "code",
   "execution_count": 93,
   "id": "74cff23c",
   "metadata": {},
   "outputs": [
    {
     "name": "stdout",
     "output_type": "stream",
     "text": [
      "26\n",
      "74\n",
      "70\n",
      "39\n",
      "27\n",
      "31\n",
      "16\n",
      "83\n",
      "45\n",
      "6\n"
     ]
    }
   ],
   "source": [
    "l0 = LinkedList()\n",
    "for i in range(10):\n",
    "    val = np.random.randint(1,101,1)[0]\n",
    "    l0.append(val)\n",
    "    print(val)"
   ]
  },
  {
   "cell_type": "code",
   "execution_count": 94,
   "id": "949ac54a",
   "metadata": {},
   "outputs": [
    {
     "name": "stdout",
     "output_type": "stream",
     "text": [
      "26 74 70 39 27 31 16 83 45 6 "
     ]
    },
    {
     "data": {
      "text/plain": [
       "10"
      ]
     },
     "execution_count": 94,
     "metadata": {},
     "output_type": "execute_result"
    }
   ],
   "source": [
    "l0.travel()\n",
    "l0.length()"
   ]
  },
  {
   "cell_type": "code",
   "execution_count": 95,
   "id": "26076afa",
   "metadata": {},
   "outputs": [
    {
     "name": "stdout",
     "output_type": "stream",
     "text": [
      "1 26 74 70 39 27 31 16 83 45 6 "
     ]
    },
    {
     "data": {
      "text/plain": [
       "1"
      ]
     },
     "execution_count": 95,
     "metadata": {},
     "output_type": "execute_result"
    }
   ],
   "source": [
    "l0.add(1)\n",
    "l0.travel()\n",
    "l0.head.next.val"
   ]
  },
  {
   "cell_type": "code",
   "execution_count": 98,
   "id": "a8630d4b",
   "metadata": {},
   "outputs": [
    {
     "name": "stdout",
     "output_type": "stream",
     "text": [
      "26 74 70 27 31 16 83 45 "
     ]
    }
   ],
   "source": [
    "l0.remove(39)\n",
    "l0.travel()"
   ]
  },
  {
   "cell_type": "markdown",
   "id": "bcb6f8fd",
   "metadata": {},
   "source": [
    "### 寻找链表环的起点"
   ]
  },
  {
   "cell_type": "code",
   "execution_count": 113,
   "id": "ca3e45df",
   "metadata": {},
   "outputs": [
    {
     "name": "stdout",
     "output_type": "stream",
     "text": [
      "0 1 2 3 4 5 6 7 8 9 10 11 12 13 14 15 16 17 18 19 20 21 22 23 24 25 26 27 28 29 30 31 32 33 34 35 36 37 38 39 40 41 42 43 44 45 46 47 48 49 50 51 52 53 54 55 56 57 58 59 60 61 62 63 64 65 66 67 68 69 70 71 72 73 74 75 76 77 78 79 80 81 82 83 84 85 86 87 88 89 90 91 92 93 94 95 96 97 98 99 \n",
      " 76\n",
      "0 1 2 3 4 5 6 7 8 9 10 11 12 13 14 15 16 17 18 19 20 21 22 23 24 25 26 27 28 29 30 31 32 33 34 35 36 37 38 39 40 41 42 43 44 45 46 47 48 49 50 51 52 53 54 55 56 57 58 59 60 61 62 63 64 65 66 67 68 69 70 71 72 73 74 75 76 77 78 79 80 81 82 83 84 85 86 87 88 89 90 91 92 93 94 95 96 97 98 99 76 77 78 79 80 81 82 83 84 85 86 87 88 89 90 91 92 93 94 95 96 97 98 99 76 77 78 79 80 81 82 83 84 85 86 87 88 89 90 91 92 93 94 95 96 97 98 99 76 77 78 79 80 81 82 83 84 85 86 87 88 89 90 91 92 93 94 95 96 97 98 99 76 77 78 79 80 81 82 83 84 85 86 87 88 89 90 91 92 93 94 95 96 97 98 99 76 77 78 79 80 81 82 83 84 85 86 87 88 89 90 91 92 93 94 95 96 97 98 99 76 77 78 79 80 81 82 83 84 85 86 87 88 89 90 91 92 93 94 95 96 97 98 99 76 77 78 79 80 81 82 83 84 85 86 87 88 89 90 91 92 93 94 95 96 97 98 99 76 77 78 79 80 81 82 83 84 85 86 87 88 89 90 91 92 93 94 95 96 97 98 99 76 77 78 79 80 81 82 83 84 85 86 87 88 89 90 91 92 93 94 95 96 97 98 99 76 77 78 79 80 81 82 83 84 85 86 87 88 89 90 91 92 93 94 95 96 97 98 99 76 77 78 79 80 81 82 83 84 85 86 87 88 89 90 91 92 93 94 95 96 97 98 99 76 77 78 79 80 81 82 83 84 85 86 87 88 89 90 91 92 93 94 95 96 97 98 99 76 77 78 79 80 81 82 83 84 85 86 87 88 89 90 91 92 93 94 95 96 97 98 99 76 77 78 79 80 81 82 83 84 85 86 87 88 89 90 91 92 93 94 95 96 97 98 99 76 77 78 79 80 81 82 83 84 85 86 87 88 89 90 91 92 93 94 95 96 97 98 99 76 77 78 79 80 81 82 83 84 85 86 87 88 89 90 91 92 93 94 95 96 97 98 99 76 77 78 79 80 81 82 83 84 85 86 87 88 89 90 91 92 93 94 95 96 97 98 99 76 77 78 79 80 81 82 83 84 85 86 87 88 89 90 91 92 93 94 95 96 97 98 99 76 77 78 79 80 81 82 83 84 85 86 87 88 89 90 91 92 93 94 95 96 97 98 99 76 77 78 79 80 81 82 83 84 85 86 87 88 89 90 91 92 93 94 95 96 97 98 99 76 77 78 79 80 81 82 83 84 85 86 87 88 89 90 91 92 93 94 95 96 97 98 99 76 77 78 79 80 81 82 83 84 85 86 87 88 89 90 91 92 93 94 95 96 97 98 99 76 77 78 79 80 81 82 83 84 85 86 87 88 89 90 91 92 93 94 95 96 97 98 99 76 77 78 79 80 81 82 83 84 85 86 87 88 89 90 91 92 93 94 95 96 97 98 99 76 77 78 79 80 81 82 83 84 85 86 87 88 89 90 91 92 93 94 95 96 97 98 99 76 77 78 79 80 81 82 83 84 85 86 87 88 89 90 91 92 93 94 95 96 97 98 99 76 77 78 79 80 81 82 83 84 85 86 87 88 89 90 91 92 93 94 95 96 97 98 99 76 77 78 79 80 81 82 83 84 85 86 87 88 89 90 91 92 93 94 95 96 97 98 99 76 77 78 79 80 81 82 83 84 85 86 87 88 89 90 91 92 93 94 95 96 97 98 99 76 77 78 79 80 81 82 83 84 85 86 87 88 89 90 91 92 93 94 95 96 97 98 99 76 77 78 79 80 81 82 83 84 85 86 87 88 89 90 91 92 93 94 95 96 97 98 99 76 77 78 79 80 81 82 83 84 85 86 87 88 89 90 91 92 93 94 95 96 97 98 99 76 77 78 79 80 81 82 83 84 85 86 87 88 89 90 91 92 93 94 95 96 97 98 99 76 77 78 79 80 81 82 83 84 85 86 87 88 89 90 91 92 93 94 95 96 97 98 99 76 77 78 79 80 81 82 83 84 85 86 87 88 89 90 91 92 93 94 95 96 97 98 99 76 77 78 79 80 81 82 83 84 85 86 87 88 89 90 91 92 93 94 95 96 97 98 99 76 77 78 79 80 81 82 83 84 85 86 87 88 89 90 91 92 93 94 95 96 97 98 99 76 77 78 79 80 81 82 83 84 85 86 87 "
     ]
    }
   ],
   "source": [
    "#测试用例，初始化一个有环的链表\n",
    "l1 = LinkedList()\n",
    "n = 100\n",
    "for i in range(n):\n",
    "    #val = np.random.randint(1,101,1)[0]\n",
    "    l1.append(i)\n",
    "l1.travel()\n",
    "cur = l1.head.next\n",
    "count = 0\n",
    "ind = np.random.randint(0,n-1,1)[0]\n",
    "#print(ind)\n",
    "while cur.next != None:\n",
    "    if count == ind:\n",
    "        entrance = cur\n",
    "    cur = cur.next\n",
    "    count += 1\n",
    "cur.next = entrance\n",
    "print('\\n',ind)\n",
    "cur = l1.head.next\n",
    "for i in range(1000):\n",
    "    print(cur.val,end = ' ')\n",
    "    cur = cur.next"
   ]
  },
  {
   "cell_type": "code",
   "execution_count": 114,
   "id": "db32245d",
   "metadata": {},
   "outputs": [
    {
     "name": "stdout",
     "output_type": "stream",
     "text": [
      "有环！\n",
      "在第76步找到了入口！，入口的值为76\n"
     ]
    }
   ],
   "source": [
    "p1 = l1.head.next\n",
    "#快指针\n",
    "p2 = l1.head.next\n",
    "#慢指针\n",
    "#记录两个指针第一次相遇的地点\n",
    "count = 0\n",
    "#记录在第k步相遇\n",
    "while 1:\n",
    "    p1 = p1.next.next\n",
    "    p2 = p2.next\n",
    "    count += 1\n",
    "    if p1 == p2:\n",
    "        flag = 1\n",
    "        break\n",
    "if flag == 1:\n",
    "    print(\"有环！\")\n",
    "p3 = l1.head.next\n",
    "count1 = 0\n",
    "while 1:\n",
    "    p2 = p2.next\n",
    "    p3 = p3.next\n",
    "    count1 += 1\n",
    "    if p2 == p3:\n",
    "        flag = 2\n",
    "        break\n",
    "if flag == 2:\n",
    "    print(\"在第{0}步找到了入口！，入口的值为{1}\".format(count1,p3.val))\n",
    "        "
   ]
  },
  {
   "cell_type": "markdown",
   "id": "5938577d",
   "metadata": {},
   "source": [
    "### Q23: 找到两个单向链表的重合节点\n",
    "三种解决思路  \n",
    "- 1 将两个重合的单向链表变为环，找环的入口  \n",
    "- 2 将两个单向链表装在两个栈，从尾结点开始遍历，最后一个相同的节点为入口节点  \n",
    "- 3 已知两个链表的长度，长链表先出发，然后第一个相遇的点为入口"
   ]
  },
  {
   "cell_type": "markdown",
   "id": "761b0c71",
   "metadata": {},
   "source": [
    "### Q24:反转链表"
   ]
  },
  {
   "cell_type": "code",
   "execution_count": 4,
   "id": "18585efe",
   "metadata": {},
   "outputs": [
    {
     "name": "stdout",
     "output_type": "stream",
     "text": [
      "0 1 2 3 4 5 6 7 8 9 10 11 12 13 14 15 16 17 18 19 20 21 22 23 24 25 26 27 28 29 30 31 32 33 34 35 36 37 38 39 40 41 42 43 44 45 46 47 48 49 50 51 52 53 54 55 56 57 58 59 60 61 62 63 64 65 66 67 68 69 70 71 72 73 74 75 76 77 78 79 80 81 82 83 84 85 86 87 88 89 90 91 92 93 94 95 96 97 98 99 "
     ]
    }
   ],
   "source": [
    "#测试用例\n",
    "l2 = LinkedList()\n",
    "for i in range(100):\n",
    "    l2.append(i)\n",
    "l2.travel()"
   ]
  },
  {
   "cell_type": "code",
   "execution_count": 5,
   "id": "5eee5da5",
   "metadata": {},
   "outputs": [
    {
     "name": "stdout",
     "output_type": "stream",
     "text": [
      "99 98 97 96 95 94 93 92 91 90 89 88 87 86 85 84 83 82 81 80 79 78 77 76 75 74 73 72 71 70 69 68 67 66 65 64 63 62 61 60 59 58 57 56 55 54 53 52 51 50 49 48 47 46 45 44 43 42 41 40 39 38 37 36 35 34 33 32 31 30 29 28 27 26 25 24 23 22 21 20 19 18 17 16 15 14 13 12 11 10 9 8 7 6 5 4 3 2 1 0 "
     ]
    }
   ],
   "source": [
    "def reverseLink(LinkedList):\n",
    "    pre = LinkedList.head\n",
    "    cur = LinkedList.head.next\n",
    "    while cur.next != None:\n",
    "        #保留下一个遍历节点的原始next的元素\n",
    "        nxt = cur.next\n",
    "        if pre == LinkedList.head:\n",
    "            cur.next = None\n",
    "        else:\n",
    "            cur.next = pre\n",
    "        pre = cur\n",
    "        cur = nxt\n",
    "    cur.next = pre\n",
    "    LinkedList.head.next = cur\n",
    "    return LinkedList\n",
    "l3 = reverseLink(l2)\n",
    "l3.travel()"
   ]
  },
  {
   "cell_type": "markdown",
   "id": "4b7d2475",
   "metadata": {},
   "source": [
    "### Q26:重排链表"
   ]
  },
  {
   "cell_type": "code",
   "execution_count": 10,
   "id": "c14e4f42",
   "metadata": {},
   "outputs": [
    {
     "name": "stdout",
     "output_type": "stream",
     "text": [
      "1 2 3 4 5 6 7 8 9 10 11 12 13 14 15 16 17 18 19 20 21 22 23 24 25 26 27 28 29 30 31 32 33 34 35 36 37 38 39 40 41 42 43 44 45 46 47 48 49 50 51 52 53 54 55 56 57 58 59 60 61 62 63 64 65 66 67 68 69 70 71 72 73 74 75 76 77 78 79 80 81 82 83 84 85 86 87 88 89 90 91 92 93 94 95 96 97 98 99 100 "
     ]
    }
   ],
   "source": [
    "#测试用例\n",
    "l3 = LinkedList()\n",
    "for i in range(1,101):\n",
    "    l3.append(i)\n",
    "l3.travel()"
   ]
  },
  {
   "cell_type": "code",
   "execution_count": 12,
   "id": "0280f406",
   "metadata": {},
   "outputs": [
    {
     "name": "stdout",
     "output_type": "stream",
     "text": [
      "中间节点 50 51\n",
      "1 2 3 4 5 6 7 8 9 10 11 12 13 14 15 16 17 18 19 20 21 22 23 24 25 26 27 28 29 30 31 32 33 34 35 36 37 38 39 40 41 42 43 44 45 46 47 48 49 50 \n",
      "\n",
      "100 99 98 97 96 95 94 93 92 91 90 89 88 87 86 85 84 83 82 81 80 79 78 77 76 75 74 73 72 71 70 69 68 67 66 65 64 63 62 61 60 59 58 57 56 55 54 53 52 51 "
     ]
    }
   ],
   "source": [
    "#利用快指针和慢指针寻找中间节点\n",
    "p1 = l3.head.next\n",
    "p2 = l3.head.next\n",
    "while p2 != None and p2.next != None:\n",
    "    pre = p1\n",
    "    p1 = p1.next\n",
    "    if p2.next != None:\n",
    "        p2 = p2.next.next\n",
    "#偶数链表\n",
    "if p2 == None:\n",
    "    median_l3 = pre\n",
    "    median_l4 = p1\n",
    "#奇数链表情况\n",
    "elif p2.next == None:\n",
    "    median_l3 = p1\n",
    "    median_l4 = p1.next\n",
    "\n",
    "\n",
    "print(\"中间节点\",median_l3.val,median_l4.val)\n",
    "l4 = LinkedList()\n",
    "l4.head.next = median_l4\n",
    "median_l3.next = None\n",
    "l3.travel()\n",
    "print(\"\\n\")\n",
    "l4 = reverseLink(l4)\n",
    "l4.travel()"
   ]
  },
  {
   "cell_type": "code",
   "execution_count": 13,
   "id": "15b4118c",
   "metadata": {},
   "outputs": [
    {
     "name": "stdout",
     "output_type": "stream",
     "text": [
      "1 100 2 99 3 98 4 97 5 96 6 95 7 94 8 93 9 92 10 91 11 90 12 89 13 88 14 87 15 86 16 85 17 84 18 83 19 82 20 81 21 80 22 79 23 78 24 77 25 76 26 75 27 74 28 73 29 72 30 71 31 70 32 69 33 68 34 67 35 66 36 65 37 64 38 63 39 62 40 61 41 60 42 59 43 58 44 57 45 56 46 55 47 54 48 53 49 52 50 "
     ]
    }
   ],
   "source": [
    "pre = l3.head.next\n",
    "cur = l4.head.next\n",
    "while cur.next != None and cur.next != None:\n",
    "    nxt = cur.next\n",
    "    cur.next = pre.next\n",
    "    pre.next = cur\n",
    "    pre = cur.next\n",
    "    cur = nxt\n",
    "l3.travel()"
   ]
  },
  {
   "cell_type": "code",
   "execution_count": null,
   "id": "41c6cf04",
   "metadata": {},
   "outputs": [],
   "source": []
  }
 ],
 "metadata": {
  "kernelspec": {
   "display_name": "Python 3 (ipykernel)",
   "language": "python",
   "name": "python3"
  },
  "language_info": {
   "codemirror_mode": {
    "name": "ipython",
    "version": 3
   },
   "file_extension": ".py",
   "mimetype": "text/x-python",
   "name": "python",
   "nbconvert_exporter": "python",
   "pygments_lexer": "ipython3",
   "version": "3.9.7"
  }
 },
 "nbformat": 4,
 "nbformat_minor": 5
}
