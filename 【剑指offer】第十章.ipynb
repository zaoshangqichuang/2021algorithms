{
 "cells": [
  {
   "cell_type": "code",
   "execution_count": 1,
   "id": "f3902651",
   "metadata": {},
   "outputs": [],
   "source": [
    "import numpy as np\n",
    "import time\n",
    "import random\n",
    "import copy"
   ]
  },
  {
   "cell_type": "markdown",
   "id": "39893188",
   "metadata": {},
   "source": [
    "# 第十章 前缀树"
   ]
  },
  {
   "cell_type": "code",
   "execution_count": 46,
   "id": "dbc3350f",
   "metadata": {},
   "outputs": [],
   "source": [
    "class trie(object):\n",
    "    def __init__(self,isroot=False):\n",
    "        self.children = [None for i in range(26)]\n",
    "        self.isword = False\n",
    "    def trie_travel(self,s='',s_list=[]):\n",
    "        #输出子节点后面的字符串\n",
    "        node = self\n",
    "        #如果有子节点，遍历子节点\n",
    "        if any(node.children):\n",
    "            for i in range(26):\n",
    "                if node.children[i] is not None:\n",
    "                    if node.children[i].isword == True:\n",
    "                        s = s+chr(97+i)+'#'\n",
    "                    else:\n",
    "                        s = s+chr(97+i)\n",
    "                    if s[-1]=='#':\n",
    "                        s = s[:-1]\n",
    "                        s_list.append(s)\n",
    "                    s_list= node.children[i].trie_travel(s=s,s_list=s_list)\n",
    "                    #回归父节点，删除子节点字符\n",
    "                    s = s[:-1]\n",
    "            return s_list\n",
    "        else:\n",
    "            return s_list\n",
    "    def search(self,word):\n",
    "        node = self\n",
    "        flag = 0\n",
    "        for w in word:\n",
    "            if any(node.children):\n",
    "                if node.children[ord(w)-ord('a')] is None:\n",
    "                    flag = 1\n",
    "                    break\n",
    "                else:\n",
    "                    node = node.children[ord(w)-ord('a')]\n",
    "            else:\n",
    "                flag = 1\n",
    "                break\n",
    "        if flag == 0 and node.isword == True:\n",
    "            return True\n",
    "        else:\n",
    "            return False\n",
    "    def startWith(self,word):\n",
    "        node = self\n",
    "        flag = 0\n",
    "        for w in word:\n",
    "            if any(node.children):\n",
    "                if node.children[ord(w)-ord('a')] is None:\n",
    "                    flag = 1\n",
    "                    break\n",
    "                else:\n",
    "                    node = node.children[ord(w)-ord('a')]\n",
    "            else:\n",
    "                flag = 1\n",
    "                break\n",
    "        if flag == 0 :\n",
    "            return True\n",
    "        else:\n",
    "            return False\n",
    "    def findPrex(self,word):\n",
    "        node = self\n",
    "        s = ''\n",
    "        flag = 0\n",
    "        for w in word:\n",
    "            if any(node.children):\n",
    "                if node.children[ord(w)-ord('a')] is None:\n",
    "                    break\n",
    "                elif node.children[ord(w)-ord('a')].isword is True:\n",
    "                    node = node.children[ord(w)-ord('a')]\n",
    "                    s = s+w\n",
    "                    flag = 1\n",
    "                    break\n",
    "                elif node.children[ord(w)-ord('a')].isword is False:\n",
    "                    node = node.children[ord(w)-ord('a')]\n",
    "                    s = s+w\n",
    "        if flag == 1:\n",
    "            return s\n",
    "        else:\n",
    "            return None\n",
    "class insert_words(object):\n",
    "    def __init__(self):\n",
    "        self.trie = trie(isroot=True)\n",
    "    def insert(self,word):\n",
    "        node = self.trie\n",
    "        for w in word:\n",
    "            if node.children[ord(w)-ord('a')]==None:\n",
    "                node.children[ord(w)-ord('a')] = trie()\n",
    "            node = node.children[ord(w)-ord('a')]\n",
    "        node.isword = True     "
   ]
  },
  {
   "cell_type": "code",
   "execution_count": 33,
   "id": "89f8f88e",
   "metadata": {},
   "outputs": [],
   "source": [
    "t = insert_words()\n",
    "for word in ['world','word','wealth','attention']:\n",
    "    t.insert(word)\n",
    "t0 = t.trie"
   ]
  },
  {
   "cell_type": "code",
   "execution_count": 34,
   "id": "b0d67d95",
   "metadata": {},
   "outputs": [
    {
     "data": {
      "text/plain": [
       "['attention', 'wealth', 'word', 'world']"
      ]
     },
     "execution_count": 34,
     "metadata": {},
     "output_type": "execute_result"
    }
   ],
   "source": [
    "t0.trie_travel(s_list=[])"
   ]
  },
  {
   "cell_type": "code",
   "execution_count": 35,
   "id": "0041e37f",
   "metadata": {},
   "outputs": [
    {
     "data": {
      "text/plain": [
       "True"
      ]
     },
     "execution_count": 35,
     "metadata": {},
     "output_type": "execute_result"
    }
   ],
   "source": [
    "t0.startWith('wor')"
   ]
  },
  {
   "cell_type": "code",
   "execution_count": 20,
   "id": "0129b47f",
   "metadata": {},
   "outputs": [
    {
     "data": {
      "text/plain": [
       "False"
      ]
     },
     "execution_count": 20,
     "metadata": {},
     "output_type": "execute_result"
    }
   ],
   "source": [
    "t0.search('wor')"
   ]
  },
  {
   "cell_type": "code",
   "execution_count": 21,
   "id": "cea1fa0b",
   "metadata": {},
   "outputs": [
    {
     "data": {
      "text/plain": [
       "True"
      ]
     },
     "execution_count": 21,
     "metadata": {},
     "output_type": "execute_result"
    }
   ],
   "source": [
    "t0.search('world')"
   ]
  },
  {
   "cell_type": "markdown",
   "id": "1ab11633",
   "metadata": {},
   "source": [
    "### Q63:替换单词：用词根替换单词"
   ]
  },
  {
   "cell_type": "code",
   "execution_count": 47,
   "id": "af133d53",
   "metadata": {},
   "outputs": [
    {
     "data": {
      "text/plain": [
       "['bat', 'cat', 'rat']"
      ]
     },
     "execution_count": 47,
     "metadata": {},
     "output_type": "execute_result"
    }
   ],
   "source": [
    "#词根字典\n",
    "t = insert_words()\n",
    "for word in ['cat','bat','rat']:\n",
    "    t.insert(word)\n",
    "t0 = t.trie\n",
    "t0.trie_travel(s_list=[])"
   ]
  },
  {
   "cell_type": "code",
   "execution_count": 48,
   "id": "e3eefbba",
   "metadata": {},
   "outputs": [],
   "source": [
    "t0.findPrex('by')"
   ]
  },
  {
   "cell_type": "code",
   "execution_count": 50,
   "id": "6e447fb6",
   "metadata": {},
   "outputs": [
    {
     "data": {
      "text/plain": [
       "'the cat was rat by the bat'"
      ]
     },
     "execution_count": 50,
     "metadata": {},
     "output_type": "execute_result"
    }
   ],
   "source": [
    "sentence = 'the cattle was rattled by the battery'\n",
    "def transform(t0,sentence):\n",
    "    new_sentence = ''\n",
    "    for word in sentence.split(' '):\n",
    "        s = t0.findPrex(word)\n",
    "        if s is not None:\n",
    "            new_sentence += s+' '\n",
    "        else:\n",
    "            new_sentence += word+' '\n",
    "    return new_sentence.strip(' ')\n",
    "transform(t0,sentence)"
   ]
  },
  {
   "cell_type": "markdown",
   "id": "ae8aec2f",
   "metadata": {},
   "source": [
    "### Q66:单词之和"
   ]
  },
  {
   "cell_type": "code",
   "execution_count": 55,
   "id": "0974822b",
   "metadata": {},
   "outputs": [],
   "source": [
    "class trie(object):\n",
    "    def __init__(self,isroot=False,num=None):\n",
    "        self.children = [None for i in range(26)]\n",
    "        self.isword = False\n",
    "        self.num = num\n",
    "    def trie_travel(self,s='',s_list=[]):\n",
    "        #输出子节点后面的字符串\n",
    "        node = self\n",
    "        #如果有子节点，遍历子节点\n",
    "        if any(node.children):\n",
    "            for i in range(26):\n",
    "                if node.children[i] is not None:\n",
    "                    if node.children[i].isword == True:\n",
    "                        s = s+chr(97+i)+'#'\n",
    "                    else:\n",
    "                        s = s+chr(97+i)\n",
    "                    if s[-1]=='#':\n",
    "                        s = s[:-1]\n",
    "                        s_list.append(s)\n",
    "                    s_list= node.children[i].trie_travel(s=s,s_list=s_list)\n",
    "                    #回归父节点，删除子节点字符\n",
    "                    s = s[:-1]\n",
    "            return s_list\n",
    "        else:\n",
    "            return s_list\n",
    "    def search(self,word):\n",
    "        node = self\n",
    "        flag = 0\n",
    "        for w in word:\n",
    "            if any(node.children):\n",
    "                if node.children[ord(w)-ord('a')] is None:\n",
    "                    flag = 1\n",
    "                    break\n",
    "                else:\n",
    "                    node = node.children[ord(w)-ord('a')]\n",
    "            else:\n",
    "                flag = 1\n",
    "                break\n",
    "        if flag == 0 and node.isword == True:\n",
    "            return True\n",
    "        else:\n",
    "            return False\n",
    "    def startWith(self,word):\n",
    "        node = self\n",
    "        flag = 0\n",
    "        for w in word:\n",
    "            if any(node.children):\n",
    "                if node.children[ord(w)-ord('a')] is None:\n",
    "                    flag = 1\n",
    "                    break\n",
    "                else:\n",
    "                    node = node.children[ord(w)-ord('a')]\n",
    "            else:\n",
    "                flag = 1\n",
    "                break\n",
    "        if flag == 0 :\n",
    "            return True\n",
    "        else:\n",
    "            return False\n",
    "    def findPrex(self,word):\n",
    "        node = self\n",
    "        s = ''\n",
    "        flag = 0\n",
    "        for w in word:\n",
    "            if any(node.children):\n",
    "                if node.children[ord(w)-ord('a')] is None:\n",
    "                    break\n",
    "                elif node.children[ord(w)-ord('a')].isword is True:\n",
    "                    node = node.children[ord(w)-ord('a')]\n",
    "                    s = s+w\n",
    "                    flag = 1\n",
    "                    break\n",
    "                elif node.children[ord(w)-ord('a')].isword is False:\n",
    "                    node = node.children[ord(w)-ord('a')]\n",
    "                    s = s+w\n",
    "        if flag == 1:\n",
    "            return s,node\n",
    "        else:\n",
    "            return None,node\n",
    "class insert_words(object):\n",
    "    def __init__(self):\n",
    "        self.trie = trie(isroot=True)\n",
    "    def insert(self,word,num):\n",
    "        node = self.trie\n",
    "        for w in word:\n",
    "            if node.children[ord(w)-ord('a')]==None:\n",
    "                node.children[ord(w)-ord('a')] = trie()\n",
    "            node = node.children[ord(w)-ord('a')]\n",
    "        node.isword = True \n",
    "        node.num = num"
   ]
  },
  {
   "cell_type": "code",
   "execution_count": 68,
   "id": "bafd4041",
   "metadata": {},
   "outputs": [
    {
     "data": {
      "text/plain": [
       "['happen', 'happy', 'happyness']"
      ]
     },
     "execution_count": 68,
     "metadata": {},
     "output_type": "execute_result"
    }
   ],
   "source": [
    "t = insert_words()\n",
    "for word,num in zip(['happy','happen','happyness'],[2,3,1]):\n",
    "    t.insert(word,num)\n",
    "t0 = t.trie\n",
    "t0.trie_travel(s_list=[])"
   ]
  },
  {
   "cell_type": "code",
   "execution_count": 69,
   "id": "13f82859",
   "metadata": {},
   "outputs": [],
   "source": [
    "def find_num(t0,sum_=0):\n",
    "    node = t0\n",
    "    for child in node.children:\n",
    "        if child is not None:\n",
    "            if child.isword == True:\n",
    "                sum_ += child.num\n",
    "                sum_ = find_num(child,sum_=sum_)\n",
    "            else:\n",
    "                 sum_ = find_num(child,sum_=sum_)\n",
    "    return sum_  \n",
    "def get_sum(t0,word,sum_=0):\n",
    "    _,node = t0.findPrex(word)\n",
    "    return find_num(node)\n",
    "   "
   ]
  },
  {
   "cell_type": "code",
   "execution_count": 70,
   "id": "b6865b34",
   "metadata": {},
   "outputs": [
    {
     "data": {
      "text/plain": [
       "6"
      ]
     },
     "execution_count": 70,
     "metadata": {},
     "output_type": "execute_result"
    }
   ],
   "source": [
    "get_sum(t0,word='happ')"
   ]
  },
  {
   "cell_type": "markdown",
   "id": "3706b765",
   "metadata": {},
   "source": [
    "### Q67:最大的异或：将整数存储为前缀树，从高位开始扫描，优先选择不同路径"
   ]
  },
  {
   "cell_type": "code",
   "execution_count": null,
   "id": "6cf11825",
   "metadata": {},
   "outputs": [],
   "source": []
  }
 ],
 "metadata": {
  "kernelspec": {
   "display_name": "Python 3 (ipykernel)",
   "language": "python",
   "name": "python3"
  },
  "language_info": {
   "codemirror_mode": {
    "name": "ipython",
    "version": 3
   },
   "file_extension": ".py",
   "mimetype": "text/x-python",
   "name": "python",
   "nbconvert_exporter": "python",
   "pygments_lexer": "ipython3",
   "version": "3.9.7"
  }
 },
 "nbformat": 4,
 "nbformat_minor": 5
}
