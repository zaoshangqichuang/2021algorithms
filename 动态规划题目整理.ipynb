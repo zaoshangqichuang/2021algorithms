{
 "cells": [
  {
   "cell_type": "markdown",
   "metadata": {},
   "source": [
    "题目  \n",
    "小明闯关，每一关可选择可放弃，且有一定的分数，但是除了第一关外，选择闯关的分数值必须要大于之前闯过的关数。"
   ]
  },
  {
   "cell_type": "code",
   "execution_count": 27,
   "metadata": {},
   "outputs": [
    {
     "name": "stdout",
     "output_type": "stream",
     "text": [
      "[8, 9, 10, 1, 2, 3, 4, 5, 6]\n",
      "27\n"
     ]
    },
    {
     "data": {
      "text/plain": [
       "{'0': [0, 8, 17, 27, 27, 27, 27, 27, 27],\n",
       " '1': [8, 17, 27, 1, 3, 6, 10, 15, 21]}"
      ]
     },
     "execution_count": 27,
     "metadata": {},
     "output_type": "execute_result"
    }
   ],
   "source": [
    "#动态规划\n",
    "import numpy as np\n",
    "n = 9#需要闯的关数\n",
    "l = [8,9,10,1,2,3,4,5,6]#闯关的分数值\n",
    "dp={\"0\":[0]*n,\"1\":[0]*n} \n",
    "#记录到第几关选择1闯关能得到的最大分数和放弃能得到的最大分数。\n",
    "dp[\"0\"][0]=0\n",
    "dp[\"1\"][0]=l[0]\n",
    "for i in range(1,n):\n",
    "    maxp_1 = l[i]\n",
    "    for j in range(i,-1,-1):\n",
    "        if l[j] < l[i]:\n",
    "            a = dp[\"1\"][j]+l[i]\n",
    "            if a > maxp_1:\n",
    "                maxp_1 = a\n",
    "    dp[\"1\"][i] = maxp_1\n",
    "    dp[\"0\"][i] = max(dp[\"1\"][i-1],dp[\"0\"][i-1])\n",
    "\n",
    "print(l)\n",
    "print(max(dp[\"1\"][n-1],dp[\"0\"][n-1]))\n",
    "dp"
   ]
  }
 ],
 "metadata": {
  "kernelspec": {
   "display_name": "Python 3",
   "language": "python",
   "name": "python3"
  },
  "language_info": {
   "codemirror_mode": {
    "name": "ipython",
    "version": 3
   },
   "file_extension": ".py",
   "mimetype": "text/x-python",
   "name": "python",
   "nbconvert_exporter": "python",
   "pygments_lexer": "ipython3",
   "version": "3.7.0"
  }
 },
 "nbformat": 4,
 "nbformat_minor": 2
}
