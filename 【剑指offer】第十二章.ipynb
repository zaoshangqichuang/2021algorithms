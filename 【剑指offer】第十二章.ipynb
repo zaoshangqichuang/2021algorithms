{
 "cells": [
  {
   "cell_type": "markdown",
   "id": "780e4b20",
   "metadata": {},
   "source": [
    "# 第十二章 排序"
   ]
  },
  {
   "cell_type": "code",
   "execution_count": 1,
   "id": "618defb4",
   "metadata": {},
   "outputs": [],
   "source": [
    "import numpy as np\n",
    "import random\n",
    "import time"
   ]
  },
  {
   "cell_type": "markdown",
   "id": "66e4fe43",
   "metadata": {},
   "source": [
    "### Q74:合并区间"
   ]
  },
  {
   "cell_type": "code",
   "execution_count": 14,
   "id": "c22a2430",
   "metadata": {},
   "outputs": [
    {
     "name": "stdout",
     "output_type": "stream",
     "text": [
      "[1, 6]\n",
      "[8, 12]\n",
      "[15, 18]\n"
     ]
    }
   ],
   "source": [
    "#测试用例\n",
    "l0 = [[1,3],[4,5],[8,10],[2,6],[9,12],[15,18]]\n",
    "num_list = []\n",
    "sign_list = ''\n",
    "for item in l0:\n",
    "    num_list.append(item[0])\n",
    "    num_list.append(item[1])\n",
    "    sign_list += '[]'\n",
    "ind_list = np.argsort(num)   \n",
    "stack=[]\n",
    "for i in ind_list:\n",
    "    s = sign_list[i]\n",
    "    if s == '[':\n",
    "        stack.append(i)\n",
    "    elif s == ']':\n",
    "        ind = stack.pop(-1)\n",
    "    if len(stack)==0:\n",
    "        print([num_list[ind],num_list[i]])"
   ]
  },
  {
   "cell_type": "markdown",
   "id": "02eefa98",
   "metadata": {},
   "source": [
    "## 计数排序  \n",
    "**对于数组中最大值与最小值相差比较少情况，用哈希表存储每个数字出现的次数，然后对于键进行排序**"
   ]
  },
  {
   "cell_type": "markdown",
   "id": "2d2fe1c9",
   "metadata": {},
   "source": [
    "### Q75:数组相对排序"
   ]
  },
  {
   "cell_type": "code",
   "execution_count": 17,
   "id": "ff762da8",
   "metadata": {},
   "outputs": [
    {
     "name": "stdout",
     "output_type": "stream",
     "text": [
      "3,3,3,2,2,2,1,7,7,9,\n"
     ]
    }
   ],
   "source": [
    "arr1 = [2,3,3,7,3,9,2,1,7,2]\n",
    "arr2 = [3,2,1]\n",
    "counts = {}\n",
    "for i in arr1:\n",
    "    counts[i] = counts.get(i,0)+1\n",
    "print_str = ''\n",
    "for k in arr2:\n",
    "    if counts.get(k,0) > 0:\n",
    "        print_str += (str(k)+',')*counts[k]\n",
    "        del counts[k]\n",
    "for key in sorted(counts.keys()):\n",
    "    print_str += (str(key)+',')*counts[key]\n",
    "print_str.strip(',')\n",
    "print(print_str)"
   ]
  },
  {
   "cell_type": "markdown",
   "id": "a2630760",
   "metadata": {},
   "source": [
    "## 快速排序  \n",
    "**将数组进行分区，随机选取一个元素作为中间值pivot，然后进行分区**"
   ]
  },
  {
   "cell_type": "markdown",
   "id": "ce24e6c5",
   "metadata": {},
   "source": [
    "#### 不考虑空间复杂度"
   ]
  },
  {
   "cell_type": "code",
   "execution_count": 194,
   "id": "39881a2d",
   "metadata": {},
   "outputs": [],
   "source": [
    "def quicksort(l):\n",
    "    length = len(l)\n",
    "    if length <= 1:\n",
    "        return l\n",
    "    else:\n",
    "        left = []\n",
    "        right = []\n",
    "        mid = np.random.choice(l,1)[0]    \n",
    "        for item in l:\n",
    "            if item < mid:\n",
    "                left.append(item)\n",
    "            elif item > mid:\n",
    "                right.append(item)\n",
    "        return quicksort(left)+[mid]+quicksort(right)\n",
    "      "
   ]
  },
  {
   "cell_type": "markdown",
   "id": "74b640d5",
   "metadata": {},
   "source": [
    "#### 考虑空间复杂度"
   ]
  },
  {
   "cell_type": "code",
   "execution_count": 271,
   "id": "09803172",
   "metadata": {},
   "outputs": [],
   "source": [
    "def swap(l,p1,p2):\n",
    "    l[p1],l[p2] = l[p2],l[p1]\n",
    "def quicksort1(l,left=0,right=None):\n",
    "    if right == None:\n",
    "        right = len(l)-1\n",
    "    if right - left > 0:\n",
    "        p1 = left-1\n",
    "        p2 = left\n",
    "        mid = np.random.choice(range(left,right+1),1)[0]\n",
    "        swap(l,mid,right)\n",
    "        while p2 <= right-1:\n",
    "            if l[p2] < l[right]:\n",
    "                p1 += 1\n",
    "                swap(l,p1,p2)\n",
    "            p2 += 1\n",
    "        p1 += 1\n",
    "        swap(l,p1,right)\n",
    "        quicksort1(l,left=left,right=p1-1)\n",
    "        quicksort1(l,left=p1+1,right=right)\n",
    "    return l"
   ]
  },
  {
   "cell_type": "code",
   "execution_count": 273,
   "id": "0ae8e6a3",
   "metadata": {},
   "outputs": [],
   "source": [
    "l = np.random.randint(1,10000,100)"
   ]
  },
  {
   "cell_type": "code",
   "execution_count": 274,
   "id": "8376ea92",
   "metadata": {
    "scrolled": false
   },
   "outputs": [
    {
     "name": "stdout",
     "output_type": "stream",
     "text": [
      "[89, 310, 631, 633, 852, 871, 1030, 1078, 1235, 1360, 1546, 1557, 1558, 1674, 1950, 1965, 2066, 2077, 2149, 2262, 2582, 2721, 2724, 2850, 2944, 3109, 3111, 3131, 3271, 3309, 3414, 3733, 4063, 4121, 4177, 4190, 4205, 4623, 4792, 4860, 5002, 5024, 5216, 5263, 5322, 5330, 5448, 5524, 5621, 5782, 5804, 5831, 5856, 5864, 5935, 6024, 6072, 6184, 6194, 6287, 6402, 6663, 6906, 7152, 7163, 7197, 7260, 7266, 7305, 7439, 7466, 7532, 7540, 7701, 7711, 7755, 7773, 7799, 7837, 7955, 8021, 8034, 8160, 8447, 8555, 8632, 8696, 8759, 8851, 8890, 9186, 9198, 9446, 9500, 9619, 9623, 9768, 9803, 9812, 9839]\n",
      "cost4.4711s\n"
     ]
    }
   ],
   "source": [
    "start = time.perf_counter()\n",
    "l0 = quicksort(l)\n",
    "print(l0)\n",
    "print('cost'+'%.4fs'%((time.perf_counter()-start)*1000))"
   ]
  },
  {
   "cell_type": "code",
   "execution_count": 275,
   "id": "dac1bedb",
   "metadata": {},
   "outputs": [
    {
     "name": "stdout",
     "output_type": "stream",
     "text": [
      "[  89  310  631  633  852  871 1030 1078 1235 1360 1546 1557 1558 1674\n",
      " 1950 1965 2066 2077 2149 2262 2582 2721 2724 2850 2944 3109 3111 3131\n",
      " 3271 3309 3414 3733 4063 4121 4177 4190 4205 4623 4792 4860 5002 5024\n",
      " 5216 5263 5322 5330 5448 5524 5621 5782 5804 5831 5856 5864 5935 6024\n",
      " 6072 6184 6194 6287 6402 6663 6906 7152 7163 7197 7260 7266 7305 7439\n",
      " 7466 7532 7540 7701 7711 7755 7773 7799 7837 7955 8021 8034 8160 8447\n",
      " 8555 8632 8696 8759 8851 8890 9186 9198 9446 9500 9619 9623 9768 9803\n",
      " 9812 9839]\n",
      "cost4.9932s\n"
     ]
    }
   ],
   "source": [
    "start = time.perf_counter()\n",
    "l0 = quicksort1(l)\n",
    "print(l0)\n",
    "print('cost'+'%.4fs'%((time.perf_counter()-start)*1000))"
   ]
  },
  {
   "cell_type": "markdown",
   "id": "173e6c5f",
   "metadata": {},
   "source": [
    "### Q76:数组中第k大的数字"
   ]
  },
  {
   "cell_type": "markdown",
   "id": "af11fa34",
   "metadata": {},
   "source": [
    "#### 当读入数据流时用最小堆，当读入数组时，用快速排序法"
   ]
  },
  {
   "cell_type": "code",
   "execution_count": 268,
   "id": "caaceb3c",
   "metadata": {},
   "outputs": [],
   "source": [
    "def swap(l,p1,p2):\n",
    "    l[p1],l[p2] = l[p2],l[p1]\n",
    "def find_k_largest(l,k,left=0,right=None):\n",
    "    if right == None:\n",
    "        right = len(l)-1\n",
    "    if right - left > 0:\n",
    "        p1 = left-1\n",
    "        p2 = left\n",
    "        mid = np.random.choice(range(left,right+1),1)[0]\n",
    "        swap(l,mid,right)\n",
    "        while p2 <= right-1:\n",
    "            if l[p2] < l[right]:\n",
    "                p1 += 1\n",
    "                swap(l,p1,p2)\n",
    "            p2 += 1\n",
    "        p1 += 1\n",
    "        swap(l,p1,right)\n",
    "        if p1 == len(l)-k:\n",
    "            return l[p1]\n",
    "        elif p1 > len(l) - k:\n",
    "            return find_k_largest(l,k,left=left,right=p1-1)\n",
    "        else:\n",
    "            return find_k_largest(l,k,left=p1+1,right=right)\n",
    "    else:\n",
    "        return l[len(l)-k]"
   ]
  },
  {
   "cell_type": "code",
   "execution_count": 270,
   "id": "25bb3be0",
   "metadata": {},
   "outputs": [
    {
     "data": {
      "text/plain": [
       "6"
      ]
     },
     "execution_count": 270,
     "metadata": {},
     "output_type": "execute_result"
    }
   ],
   "source": [
    "l = [6,5,4,3,2,1]\n",
    "find_k_largest(l,1,left=0,right=None)"
   ]
  },
  {
   "cell_type": "code",
   "execution_count": 278,
   "id": "571abdbd",
   "metadata": {},
   "outputs": [
    {
     "data": {
      "text/plain": [
       "array([ 486, 7205, 1180, 8413, 8175, 2772, 1887, 9758, 5801, 4677])"
      ]
     },
     "execution_count": 278,
     "metadata": {},
     "output_type": "execute_result"
    }
   ],
   "source": [
    "l = np.random.randint(1,10000,10)\n",
    "l"
   ]
  },
  {
   "cell_type": "markdown",
   "id": "56080bc1",
   "metadata": {},
   "source": [
    "## 归并排序"
   ]
  },
  {
   "cell_type": "code",
   "execution_count": 47,
   "id": "67a2aac9",
   "metadata": {},
   "outputs": [],
   "source": [
    "def merge_sort(l,start=0,end=None,seg=1):\n",
    "    if end == None:\n",
    "        end = len(l)-1\n",
    "    i = start     #第一个数组的起始位置\n",
    "    j = start+seg #第二个数组起始位置\n",
    "    dst = []\n",
    "    while j <= end:\n",
    "        while i < start+seg and j< start+2*seg and j<=end:\n",
    "            if l[i]<l[j]:\n",
    "                dst.append(l[i])\n",
    "                i += 1\n",
    "            elif l[i]==l[j]:\n",
    "                dst.append(l[i])\n",
    "                dst.append(l[j])\n",
    "                i += 1\n",
    "                j += 1\n",
    "            else:\n",
    "                dst.append(l[j])\n",
    "                j += 1\n",
    "        if i < start + seg:\n",
    "            dst += l[i:start+seg]\n",
    "        if j < start + 2*seg:\n",
    "            dst += l[j:start+2*seg]\n",
    "        start = start+2*seg\n",
    "        i = start\n",
    "        j = start+seg\n",
    "        if j > end and i<=end:\n",
    "            dst += l[i:]\n",
    "    return dst        \n",
    "def mergeSort(l):\n",
    "    seg = 1\n",
    "    while seg*2 <= len(l):\n",
    "        l = merge_sort(l,seg=seg)\n",
    "        seg = seg*2\n",
    "    if seg*2 != len(l):\n",
    "        l = merge_sort(l,seg=seg)\n",
    "    return l"
   ]
  },
  {
   "cell_type": "code",
   "execution_count": 48,
   "id": "3c846155",
   "metadata": {},
   "outputs": [
    {
     "name": "stdout",
     "output_type": "stream",
     "text": [
      "[6527, 7604, 3755, 3496, 8404, 594, 3911, 9669, 4942, 1705]\n",
      "[594, 1705, 3496, 3755, 3911, 4942, 6527, 7604, 8404, 9669]\n"
     ]
    }
   ],
   "source": [
    "import numpy as np\n",
    "l = list(np.random.randint(1,10000,10))\n",
    "print(l)\n",
    "print(mergeSort(l))"
   ]
  },
  {
   "cell_type": "markdown",
   "id": "c496e270",
   "metadata": {},
   "source": [
    "### 链表排序\n",
    "**快速排序和堆排序都是记录下标进行排序**\n",
    "**归并排序适用于链表排序**"
   ]
  },
  {
   "cell_type": "code",
   "execution_count": 41,
   "id": "78d95514",
   "metadata": {},
   "outputs": [],
   "source": [
    "def split(head):\n",
    "    p1 = head\n",
    "    p2 = head\n",
    "    while p2.next != None:\n",
    "        p1 = p1.next\n",
    "        p2 = p2.next.next\n",
    "        if p2 == None:\n",
    "            break\n",
    "    mid = p1.next\n",
    "    p1.next = None\n",
    "    return head,mid\n",
    "def merge(head1,head2):\n",
    "    p1 = head1.next\n",
    "    p2 = head2.next\n",
    "    dummy = ListNode()\n",
    "    cur = dummy\n",
    "    while p1 != None and p2 != None:\n",
    "        if p1.val < p2.val:\n",
    "            cur.next = p1\n",
    "            cur = cur.next\n",
    "            p1 = p1.next\n",
    "        elif p1.val == p2.val:\n",
    "            cur.next = p1\n",
    "            cur = cur.next\n",
    "            cur.next = p2\n",
    "            cur = cur.next\n",
    "            p1 = p1.next\n",
    "            p2 = p2.next\n",
    "        else:\n",
    "            cur.next = p2\n",
    "            p2 = p2.next\n",
    "            cur = cur.next\n",
    "    while p1 != None and  p2 == None:\n",
    "        cur.next = p1\n",
    "        p1 = p1.next\n",
    "        cur = cur.next\n",
    "    while p2 != None and p1 == None:\n",
    "        cur.next = p2\n",
    "        p2 = p2.next\n",
    "        cur = cur.next\n",
    "    return dummy\n",
    "def merge_sort_list(l):\n",
    "    if l.next.next == None:\n",
    "        return l\n",
    "    else:\n",
    "        head,mid = split(l)\n",
    "        head1 = head\n",
    "        dummy = ListNode()\n",
    "        dummy.next = mid\n",
    "        head2 = dummy\n",
    "        head1 = merge_sort_list(head1)\n",
    "        head2 = merge_sort_list(head2)\n",
    "        cur = merge(head1,head2)\n",
    "        return cur  "
   ]
  },
  {
   "cell_type": "code",
   "execution_count": 42,
   "id": "cc887f1a",
   "metadata": {},
   "outputs": [],
   "source": [
    "class ListNode(object):\n",
    "    def __init__(self,val=None):\n",
    "        self.val = val\n",
    "        self.next = None\n",
    "    def travel(self):\n",
    "        cur = self\n",
    "        while cur.next is not None:\n",
    "            cur = cur.next\n",
    "            print(cur.val,end=' ')\n"
   ]
  },
  {
   "cell_type": "code",
   "execution_count": 45,
   "id": "584ffcaa",
   "metadata": {},
   "outputs": [
    {
     "name": "stdout",
     "output_type": "stream",
     "text": [
      "1974 9180 5315 5644 7401 6745 6916 2257 8812 8713 "
     ]
    }
   ],
   "source": [
    "import numpy as np\n",
    "l = list(np.random.randint(1,10000,10))\n",
    "dummy = ListNode()\n",
    "cur = dummy\n",
    "for i in l:\n",
    "    cur.next = ListNode(i)\n",
    "    cur = cur.next\n",
    "dummy.travel()"
   ]
  },
  {
   "cell_type": "code",
   "execution_count": 46,
   "id": "a474cbe5",
   "metadata": {},
   "outputs": [
    {
     "name": "stdout",
     "output_type": "stream",
     "text": [
      "1974 2257 5315 5644 6745 6916 7401 8713 8812 9180 "
     ]
    }
   ],
   "source": [
    "dummy1 = merge_sort_list(dummy)\n",
    "dummy1.travel()"
   ]
  },
  {
   "cell_type": "code",
   "execution_count": null,
   "id": "d8d40144",
   "metadata": {},
   "outputs": [],
   "source": []
  }
 ],
 "metadata": {
  "kernelspec": {
   "display_name": "Python 3 (ipykernel)",
   "language": "python",
   "name": "python3"
  },
  "language_info": {
   "codemirror_mode": {
    "name": "ipython",
    "version": 3
   },
   "file_extension": ".py",
   "mimetype": "text/x-python",
   "name": "python",
   "nbconvert_exporter": "python",
   "pygments_lexer": "ipython3",
   "version": "3.9.7"
  }
 },
 "nbformat": 4,
 "nbformat_minor": 5
}
