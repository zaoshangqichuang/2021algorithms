{
 "cells": [
  {
   "cell_type": "markdown",
   "id": "4d1ecb62",
   "metadata": {},
   "source": [
    "# 第八章 二叉树"
   ]
  },
  {
   "cell_type": "markdown",
   "id": "cd841314",
   "metadata": {},
   "source": [
    "## 广度优先遍历：队列法  \n",
    "## 深度优先遍历：中序遍历（左 中 右）、前序遍历（中 左 右）、后序遍历（左 右 中）"
   ]
  },
  {
   "cell_type": "code",
   "execution_count": 1,
   "id": "c1138609",
   "metadata": {},
   "outputs": [],
   "source": [
    "import numpy as np\n",
    "import time\n",
    "import random"
   ]
  },
  {
   "cell_type": "markdown",
   "id": "942d5fa5",
   "metadata": {},
   "source": [
    "### 利用栈进行递归调用"
   ]
  },
  {
   "cell_type": "code",
   "execution_count": 78,
   "id": "5ecc9b8f",
   "metadata": {},
   "outputs": [],
   "source": [
    "class stacknode(object):\n",
    "    def __init__(self,val=None):\n",
    "        self.val = val\n",
    "        self.next = None\n",
    "class treestack(object):\n",
    "    def __init__(self):\n",
    "        self.dummy = stacknode()\n",
    "        self.l = [self.dummy]\n",
    "    def is_empty(self):\n",
    "        if self.l[0].next == None:\n",
    "            return True\n",
    "        else:\n",
    "            return False\n",
    "    def push(self,val):\n",
    "        newnode = stacknode(val)\n",
    "        oldnode = self.l[0]\n",
    "        newnode.next = oldnode\n",
    "        self.l.append(newnode)\n",
    "        self.l.pop(0)\n",
    "    def pop(self):\n",
    "        if self.l[0].next == None:\n",
    "            print(\"空栈！\")\n",
    "            return None\n",
    "        else:\n",
    "            a = self.l[0]\n",
    "            self.l.append(self.l[0].next)\n",
    "            self.l.pop(0)\n",
    "            return a\n",
    "    def travel(self):\n",
    "        while self.l[0].next is not None:\n",
    "            self.pop()"
   ]
  },
  {
   "cell_type": "code",
   "execution_count": 260,
   "id": "7dd627cd",
   "metadata": {},
   "outputs": [],
   "source": [
    "class treequeue(object):\n",
    "    def __init__(self):\n",
    "        self.l = []\n",
    "    def is_not_empty(self):\n",
    "        if len(self.l) == 0:\n",
    "            return False\n",
    "        else:\n",
    "            return True\n",
    "    def enqueue(self,val):\n",
    "        self.l.append(val)\n",
    "    def dequeue(self):\n",
    "        x = self.l.pop(0)\n",
    "        return x\n",
    "class bfs(object):\n",
    "    def __init__(self,root=None):\n",
    "        self.root = root\n",
    "        self.left = None\n",
    "        self.right = None\n",
    "    def inorder_travel(self):\n",
    "        #左\n",
    "        if self.left is not None:\n",
    "            self.left.inorder_travel()\n",
    "        #中\n",
    "        print(self.root)\n",
    "        #右\n",
    "        if self.right is not None:\n",
    "            self.right.inorder_travel()\n",
    "class CBTInsert(object):\n",
    "    def __init__(self,root=None):\n",
    "        self.tree = bfs(root)\n",
    "        self.queue = treequeue()\n",
    "        self.queue.enqueue(self.tree)\n",
    "    def insertor(self,val):\n",
    "        #按照广度优先添加节点\n",
    "        while self.queue.is_not_empty():\n",
    "            tree = self.queue.l[0]\n",
    "            left = tree.left\n",
    "            right = tree.right\n",
    "            if left is not None and right is not None:\n",
    "                self.queue.dequeue()\n",
    "                continue\n",
    "            elif left is not None and right is None:\n",
    "                tree.right = bfs(val)\n",
    "                self.queue.enqueue(tree.right)\n",
    "                self.queue.dequeue()\n",
    "                break\n",
    "            elif left is None and right is None:\n",
    "                tree.left = bfs(val)\n",
    "                self.queue.enqueue(tree.left)\n",
    "                break\n",
    "class Treetravel(object):\n",
    "    def __init__(self,tree):\n",
    "        self.tree = tree\n",
    "        #中序遍历\n",
    "        self.stack = treestack()\n",
    "        self.stack.push(self.tree)\n",
    "        self.cur = self.tree\n",
    "        self.flag = 1\n",
    "        #前序遍历\n",
    "        self.stack_pre = treestack()\n",
    "        self.stack_pre.push(self.tree)\n",
    "        self.cur_pre = self.tree\n",
    "        #后序遍历\n",
    "        self.stack_post = treestack()\n",
    "        self.stack_post.push(self.tree)\n",
    "        self.cur_post = self.tree\n",
    "        self.pre_post = None\n",
    "        self.flag_post = 1\n",
    "    def bfs_travel(self):\n",
    "        q = treequeue()\n",
    "        q.enqueue(self.tree)\n",
    "        cur = 1\n",
    "        next = 0\n",
    "        while q.is_not_empty():\n",
    "            x = q.dequeue()\n",
    "            print(x.root,end=' ')\n",
    "            cur -= 1\n",
    "            if x.left is not None:\n",
    "                q.enqueue(x.left)\n",
    "                next += 1\n",
    "            if x.right is not None:\n",
    "                q.enqueue(x.right)\n",
    "                next += 1\n",
    "            if cur == 0:\n",
    "                print('\\n')\n",
    "                cur,next = next,cur\n",
    "        \n",
    "    def inorder_travel(self):\n",
    "        if self.stack.is_empty():\n",
    "            return\n",
    "        else:\n",
    "            while self.cur.left != None and self.flag == 1:\n",
    "                self.cur = self.cur.left\n",
    "                self.stack.push(self.cur)\n",
    "            x = self.stack.pop().val\n",
    "            if x.right is not None:\n",
    "                self.stack.push(x.right)\n",
    "                #下一个循环遍历右子树的左指针\n",
    "                self.flag = 1\n",
    "            else:\n",
    "                self.flag = 0\n",
    "            print(x.root)\n",
    "            self.cur = self.stack.l[0].val\n",
    "            return x\n",
    "    def preorder_travel(self):\n",
    "        if self.stack_pre.is_empty():\n",
    "            return \n",
    "        else:\n",
    "            self.cur_pre = self.stack_pre.pop().val\n",
    "            x = self.cur_pre\n",
    "            if x.right is not None:\n",
    "                self.stack_pre.push(x.right)\n",
    "            if self.cur_pre.left is not None:\n",
    "                self.stack_pre.push(x.left)\n",
    "            print(x.root)\n",
    "            return x\n",
    "    def postorder_travel(self):\n",
    "        if self.stack_post.is_empty():\n",
    "            return\n",
    "        else:\n",
    "            while self.cur_post.left != None and self.flag_post == 1 and self.pre_post != self.cur_post.right:\n",
    "                #遍历左子树\n",
    "                self.cur_post = self.cur_post.left\n",
    "                self.stack_post.push(self.cur_post)    \n",
    "            x = self.stack_post.pop().val\n",
    "            print(x.root)\n",
    "            self.pre_post = x\n",
    "            self.cur_post = self.stack_post.l[0].val\n",
    "            if self.cur_post != None:\n",
    "                if self.cur_post.right is not None and self.pre_post != self.cur_post.right:\n",
    "                    #如果右子树没有被遍历过，开始遍历右子树\n",
    "                    self.stack_post.push(self.cur_post.right)\n",
    "                    #下一个循环遍历右子树的左指针\n",
    "                    self.flag_post = 1\n",
    "                else:\n",
    "                    #没有右节点或已经遍历过右节点，直接出栈\n",
    "                    self.flag_post = 0\n",
    "                self.cur_post = self.stack_post.l[0].val\n",
    "            return x"
   ]
  },
  {
   "cell_type": "code",
   "execution_count": 232,
   "id": "8d2ae900",
   "metadata": {},
   "outputs": [],
   "source": [
    "cbt = CBTInsert(0)"
   ]
  },
  {
   "cell_type": "code",
   "execution_count": 233,
   "id": "57b9c4be",
   "metadata": {},
   "outputs": [],
   "source": [
    "for i in range(1,9):\n",
    "    cbt.insertor(i)"
   ]
  },
  {
   "cell_type": "markdown",
   "id": "4b9e7d0d",
   "metadata": {},
   "source": [
    "#### 迭代器"
   ]
  },
  {
   "cell_type": "code",
   "execution_count": 241,
   "id": "660ef1fe",
   "metadata": {},
   "outputs": [],
   "source": [
    "t = Treetravel(cbt.tree)"
   ]
  },
  {
   "cell_type": "markdown",
   "id": "f5e72e7b",
   "metadata": {},
   "source": [
    "#### 中序遍历"
   ]
  },
  {
   "cell_type": "code",
   "execution_count": 242,
   "id": "b695fcdc",
   "metadata": {},
   "outputs": [
    {
     "name": "stdout",
     "output_type": "stream",
     "text": [
      "7\n",
      "3\n",
      "8\n",
      "1\n",
      "4\n",
      "0\n",
      "5\n",
      "2\n",
      "6\n"
     ]
    }
   ],
   "source": [
    "for i in range(9):\n",
    "    t.inorder_travel()"
   ]
  },
  {
   "cell_type": "markdown",
   "id": "30b47ba0",
   "metadata": {},
   "source": [
    "#### 前序遍历"
   ]
  },
  {
   "cell_type": "code",
   "execution_count": 243,
   "id": "b61c86d0",
   "metadata": {},
   "outputs": [
    {
     "name": "stdout",
     "output_type": "stream",
     "text": [
      "0\n",
      "1\n",
      "3\n",
      "7\n",
      "8\n",
      "4\n",
      "2\n",
      "5\n",
      "6\n"
     ]
    }
   ],
   "source": [
    "for i in range(9):\n",
    "    t.preorder_travel()"
   ]
  },
  {
   "cell_type": "markdown",
   "id": "cbe4e343",
   "metadata": {},
   "source": [
    "#### 后序遍历"
   ]
  },
  {
   "cell_type": "code",
   "execution_count": 244,
   "id": "d115adff",
   "metadata": {},
   "outputs": [
    {
     "name": "stdout",
     "output_type": "stream",
     "text": [
      "7\n",
      "8\n",
      "3\n",
      "4\n",
      "1\n",
      "5\n",
      "6\n",
      "2\n",
      "0\n"
     ]
    }
   ],
   "source": [
    "for i in range(9):\n",
    "    t.postorder_travel()"
   ]
  },
  {
   "cell_type": "markdown",
   "id": "e4ae3136",
   "metadata": {},
   "source": [
    "### Q47:二叉树剪枝  \n",
    "**删除子树全部为0的枝叶,利用后序遍历**"
   ]
  },
  {
   "cell_type": "code",
   "execution_count": 262,
   "id": "32ea1236",
   "metadata": {},
   "outputs": [
    {
     "name": "stdout",
     "output_type": "stream",
     "text": [
      "0 \n",
      "\n",
      "0 0 \n",
      "\n",
      "0 0 0 0 \n",
      "\n",
      "0 1 1 1 1 0 0 0 "
     ]
    }
   ],
   "source": [
    "#测试用例：生成节点为0或1的二叉树\n",
    "cbt = CBTInsert(0)\n",
    "print(0,end=' ')\n",
    "k = 1\n",
    "ind = [1,3,7,15,31,63]\n",
    "for i in range(1,15):\n",
    "    if k in ind:\n",
    "        print('\\n')\n",
    "    rand = np.random.randint(0,2,1)[0]\n",
    "    print(rand,end=' ')\n",
    "    cbt.insertor(rand)\n",
    "    k += 1"
   ]
  },
  {
   "cell_type": "code",
   "execution_count": 269,
   "id": "5ffd341a",
   "metadata": {},
   "outputs": [],
   "source": [
    "def cut_tree(tree):\n",
    "    if tree.left is not None:\n",
    "        tree.left = cut_tree(tree.left)\n",
    "    if tree.right is not None:\n",
    "        tree.right = cut_tree(tree.right)\n",
    "    if tree.left == None and tree.right == None and tree.root == 0:\n",
    "        tree = None   \n",
    "    return tree"
   ]
  },
  {
   "cell_type": "code",
   "execution_count": 270,
   "id": "652fccc8",
   "metadata": {},
   "outputs": [],
   "source": [
    "import copy\n",
    "tree0 = copy.deepcopy(cbt.tree)\n",
    "tree0 = cut_tree(tree0)"
   ]
  },
  {
   "cell_type": "code",
   "execution_count": 271,
   "id": "27f75278",
   "metadata": {},
   "outputs": [
    {
     "name": "stdout",
     "output_type": "stream",
     "text": [
      "0 \n",
      "\n",
      "0 0 \n",
      "\n",
      "0 0 0 \n",
      "\n",
      "1 1 1 1 \n",
      "\n"
     ]
    }
   ],
   "source": [
    "t = Treetravel(tree0)\n",
    "t.bfs_travel()"
   ]
  },
  {
   "cell_type": "markdown",
   "id": "1e8fd151",
   "metadata": {},
   "source": [
    "### Q48:序列化和反序列化二叉树"
   ]
  },
  {
   "cell_type": "code",
   "execution_count": 274,
   "id": "12fb260a",
   "metadata": {},
   "outputs": [
    {
     "name": "stdout",
     "output_type": "stream",
     "text": [
      "0 \n",
      "\n",
      "1 2 \n",
      "\n",
      "3 4 5 6 \n",
      "\n",
      "7 8 9 10 "
     ]
    }
   ],
   "source": [
    "#测试用例\n",
    "cbt = CBTInsert(0)\n",
    "print(0,end=' ')\n",
    "k = 1\n",
    "ind = [1,3,7,15,31,63]\n",
    "for i in range(1,11):\n",
    "    if k in ind:\n",
    "        print('\\n')\n",
    "    #rand = np.random.randint(0,2,1)[0]\n",
    "    rand = i\n",
    "    print(rand,end=' ')\n",
    "    cbt.insertor(rand)\n",
    "    k += 1"
   ]
  },
  {
   "cell_type": "code",
   "execution_count": 275,
   "id": "9b18ce3a",
   "metadata": {},
   "outputs": [
    {
     "name": "stdout",
     "output_type": "stream",
     "text": [
      "0 \n",
      "\n",
      "1 2 \n",
      "\n",
      "3 4 5 6 \n",
      "\n",
      "7 8 9 10 \n",
      "\n"
     ]
    }
   ],
   "source": [
    "tree0 = copy.deepcopy(cbt.tree)\n",
    "tree0 = cut_tree(tree0)\n",
    "t = Treetravel(tree0)\n",
    "t.bfs_travel()"
   ]
  },
  {
   "cell_type": "markdown",
   "id": "e55114af",
   "metadata": {},
   "source": [
    "#### 序列化"
   ]
  },
  {
   "cell_type": "code",
   "execution_count": 278,
   "id": "3fe37b74",
   "metadata": {},
   "outputs": [
    {
     "data": {
      "text/plain": [
       "'0,1,3,7,#,#,8,#,#,4,9,#,#,10,#,#,2,5,#,#,6,#,#'"
      ]
     },
     "execution_count": 278,
     "metadata": {},
     "output_type": "execute_result"
    }
   ],
   "source": [
    "def serialize(tree):\n",
    "    s = str(tree.root)\n",
    "    if tree.left == None:\n",
    "        s1 = '#'\n",
    "    else:\n",
    "        s1 = serialize(tree.left)\n",
    "    if tree.right == None:\n",
    "        s2 = '#'\n",
    "    else:\n",
    "        s2 = serialize(tree.right)\n",
    "    return s+','+s1+','+s2\n",
    "s0 = serialize(tree0)  \n",
    "s0"
   ]
  },
  {
   "cell_type": "markdown",
   "id": "d2446893",
   "metadata": {},
   "source": [
    "#### 反序列化  \n",
    "**将##作为序列化右子树的标志**"
   ]
  },
  {
   "cell_type": "code",
   "execution_count": 350,
   "id": "91a70338",
   "metadata": {},
   "outputs": [],
   "source": [
    "def tree_from_s(cur):\n",
    "    if cur == '#':\n",
    "        return None\n",
    "    else:\n",
    "        return bfs(int(cur))    \n",
    "def deserialize(s0):\n",
    "    stack = treestack()\n",
    "    pre = None\n",
    "    k = 0\n",
    "    right = 0\n",
    "    s0 = list(s0.split(','))\n",
    "    while len(s0) > 0:\n",
    "        cur = s0[0]\n",
    "        if k == 0:\n",
    "            tree = tree_from_s(cur)\n",
    "            stack.push(tree)\n",
    "            tree_base = tree\n",
    "        else:\n",
    "            if pre == '#' and cur == '#':\n",
    "                x = stack.pop().val\n",
    "                x.right = tree_from_s(cur)\n",
    "                right = 1\n",
    "            elif right == 0:\n",
    "                tree.left = tree_from_s(cur)\n",
    "                if tree.left is not None:\n",
    "                    stack.push(tree.left)\n",
    "                    tree = tree.left\n",
    "            elif right == 1 and ~stack.is_empty():\n",
    "                x = stack.pop().val\n",
    "                x.right = tree_from_s(cur)\n",
    "                if x.right is not None:\n",
    "                    stack.push(x.right)\n",
    "                    tree = x.right\n",
    "                    right = 0\n",
    "        s0 = s0[1:]\n",
    "        pre = cur\n",
    "        k += 1\n",
    "    return tree_base"
   ]
  },
  {
   "cell_type": "code",
   "execution_count": 351,
   "id": "de1d897b",
   "metadata": {},
   "outputs": [],
   "source": [
    "tree2 = deserialize(s0)"
   ]
  },
  {
   "cell_type": "code",
   "execution_count": 352,
   "id": "e3fd3fe7",
   "metadata": {},
   "outputs": [
    {
     "name": "stdout",
     "output_type": "stream",
     "text": [
      "0 \n",
      "\n",
      "1 2 \n",
      "\n",
      "3 4 5 6 \n",
      "\n",
      "7 8 9 10 \n",
      "\n"
     ]
    }
   ],
   "source": [
    "t = Treetravel(tree2)\n",
    "t.bfs_travel()"
   ]
  },
  {
   "cell_type": "markdown",
   "id": "8f874684",
   "metadata": {},
   "source": [
    "#### 迭代法"
   ]
  },
  {
   "cell_type": "code",
   "execution_count": 353,
   "id": "8a8bea6c",
   "metadata": {},
   "outputs": [],
   "source": [
    "def deserialize(s0,i=0):\n",
    "    if s0[i]=='#':\n",
    "        tree = None\n",
    "    else:\n",
    "        tree = bfs(int(s0[i]))\n",
    "    i += 1\n",
    "    if tree is not None:\n",
    "        i,tree.left = deserialize(s0,i)\n",
    "        i,tree.right = deserialize(s0,i)\n",
    "    return i,tree"
   ]
  },
  {
   "cell_type": "code",
   "execution_count": 357,
   "id": "b1308030",
   "metadata": {},
   "outputs": [
    {
     "name": "stdout",
     "output_type": "stream",
     "text": [
      "0 \n",
      "\n",
      "1 2 \n",
      "\n",
      "3 4 5 6 \n",
      "\n",
      "7 8 9 10 \n",
      "\n"
     ]
    }
   ],
   "source": [
    "_,tree2 = deserialize(list(s0.split(',')))\n",
    "t = Treetravel(tree2)\n",
    "t.bfs_travel()"
   ]
  },
  {
   "cell_type": "markdown",
   "id": "08f4e278",
   "metadata": {},
   "source": [
    "### Q49:从根节点到叶节点的路径之和：前序遍历"
   ]
  },
  {
   "cell_type": "code",
   "execution_count": 358,
   "id": "73964c7d",
   "metadata": {},
   "outputs": [],
   "source": [
    "def cal_num_list(tree,path=0,num_list=[]):\n",
    "    path = path*10+tree.root\n",
    "    if tree.left is not None:\n",
    "        num_list = cal_num_list(tree.left,path=path,num_list=num_list)\n",
    "    if tree.right is not None:\n",
    "        num_list = cal_num_list(tree.right,path=path,num_list=num_list)\n",
    "    if tree.left is None and tree.right is None:\n",
    "        num_list.append(path)\n",
    "    return num_list"
   ]
  },
  {
   "cell_type": "code",
   "execution_count": 359,
   "id": "2a675909",
   "metadata": {},
   "outputs": [
    {
     "data": {
      "text/plain": [
       "[137, 138, 149, 150, 25, 26]"
      ]
     },
     "execution_count": 359,
     "metadata": {},
     "output_type": "execute_result"
    }
   ],
   "source": [
    "num_list = cal_num_list(tree2)\n",
    "num_list"
   ]
  },
  {
   "cell_type": "markdown",
   "id": "d6936005",
   "metadata": {},
   "source": [
    "### Q50:向下路径的节点值之和"
   ]
  },
  {
   "cell_type": "code",
   "execution_count": 405,
   "id": "32c7be7d",
   "metadata": {},
   "outputs": [],
   "source": [
    "def cal_sum_list(ind,tree,path=0,sum_dict={0:1},times=0):\n",
    "    path = path+tree.root\n",
    "    sum_dict[path] = sum_dict.get(path,0)+1\n",
    "    if sum_dict.get(path-ind,-1)>0:\n",
    "        times += sum_dict.get(path-ind)\n",
    "    if tree.left is not None:\n",
    "        times += cal_sum_list(ind,tree.left,path=path,sum_dict=sum_dict.copy(),times=0)\n",
    "    if tree.right is not None:\n",
    "        times += cal_sum_list(ind,tree.right,path=path,sum_dict=sum_dict.copy(),times=0)\n",
    "    #sum_dict[path] -= 1\n",
    "    return times"
   ]
  },
  {
   "cell_type": "code",
   "execution_count": 406,
   "id": "b9203c03",
   "metadata": {},
   "outputs": [],
   "source": [
    "def deserialize(s0,i=0):\n",
    "    if s0[i]=='#':\n",
    "        tree = None\n",
    "    else:\n",
    "        tree = bfs(int(s0[i]))\n",
    "    i += 1\n",
    "    if tree is not None:\n",
    "        i,tree.left = deserialize(s0,i)\n",
    "        i,tree.right = deserialize(s0,i)\n",
    "    return i,tree"
   ]
  },
  {
   "cell_type": "code",
   "execution_count": 407,
   "id": "ecc2d9c2",
   "metadata": {},
   "outputs": [
    {
     "name": "stdout",
     "output_type": "stream",
     "text": [
      "5 \n",
      "\n",
      "2 4 \n",
      "\n",
      "1 6 3 7 \n",
      "\n"
     ]
    }
   ],
   "source": [
    "s1 = '5,2,1,#,#,6,#,#,4,3,#,#,7,#,#'\n",
    "_,tree2 = deserialize(list(s1.split(',')))\n",
    "t = Treetravel(tree2)\n",
    "t.bfs_travel()"
   ]
  },
  {
   "cell_type": "code",
   "execution_count": 408,
   "id": "138aa6e2",
   "metadata": {},
   "outputs": [
    {
     "name": "stdout",
     "output_type": "stream",
     "text": [
      "{0: 1, 5: 1}\n",
      "{0: 1, 5: 1, 7: 1}\n",
      "8 {0: 1, 5: 1, 7: 1, 8: 1}\n",
      "{0: 1, 5: 1, 7: 1}\n",
      "13 {0: 1, 5: 1, 7: 1, 13: 1}\n",
      "{0: 1, 5: 1}\n",
      "{0: 1, 5: 1, 9: 1}\n",
      "{0: 1, 5: 1, 9: 1}\n"
     ]
    },
    {
     "data": {
      "text/plain": [
       "2"
      ]
     },
     "execution_count": 408,
     "metadata": {},
     "output_type": "execute_result"
    }
   ],
   "source": [
    "times = cal_sum_list(8,tree2)\n",
    "times"
   ]
  },
  {
   "cell_type": "markdown",
   "id": "9b6523a5",
   "metadata": {},
   "source": [
    "### Q51: 节点值之和最大的路径：后序遍历"
   ]
  },
  {
   "cell_type": "code",
   "execution_count": 410,
   "id": "4e0f2f7b",
   "metadata": {},
   "outputs": [
    {
     "name": "stdout",
     "output_type": "stream",
     "text": [
      "-9 \n",
      "\n",
      "4 20 \n",
      "\n",
      "15 7 \n",
      "\n",
      "-3 \n",
      "\n"
     ]
    }
   ],
   "source": [
    "s2 = '-9,4,#,#,20,15,-3,#,#,#,7,#,#'\n",
    "_,tree2 = deserialize(list(s2.split(',')))\n",
    "t = Treetravel(tree2)\n",
    "t.bfs_travel()"
   ]
  },
  {
   "cell_type": "code",
   "execution_count": 432,
   "id": "42adb17c",
   "metadata": {},
   "outputs": [],
   "source": [
    "def search_max_path(tree,max_path=0):\n",
    "    if tree.left is not None:\n",
    "        left_max_path,max_path = search_max_path(tree.left,max_path=max_path)\n",
    "    else:\n",
    "        left_max_path = 0\n",
    "    if tree.right is not None:\n",
    "        right_max_path,max_path = search_max_path(tree.right,max_path=max_path)\n",
    "    else:\n",
    "        right_max_path = 0\n",
    "    max_side = max(left_max_path+tree.root,right_max_path+tree.root,tree.root)\n",
    "    max_path = max(max_path,max_side,left_max_path+right_max_path+tree.root)\n",
    "    print(max_side,max_path)\n",
    "    return  max_side,max_path"
   ]
  },
  {
   "cell_type": "code",
   "execution_count": 434,
   "id": "58b5fa86",
   "metadata": {},
   "outputs": [
    {
     "name": "stdout",
     "output_type": "stream",
     "text": [
      "4 4\n",
      "-3 4\n",
      "15 15\n",
      "7 15\n",
      "35 42\n",
      "26 42\n"
     ]
    }
   ],
   "source": [
    "_,max_path = search_max_path(tree2)"
   ]
  },
  {
   "cell_type": "code",
   "execution_count": null,
   "id": "e691eb45",
   "metadata": {},
   "outputs": [],
   "source": []
  }
 ],
 "metadata": {
  "kernelspec": {
   "display_name": "Python 3 (ipykernel)",
   "language": "python",
   "name": "python3"
  },
  "language_info": {
   "codemirror_mode": {
    "name": "ipython",
    "version": 3
   },
   "file_extension": ".py",
   "mimetype": "text/x-python",
   "name": "python",
   "nbconvert_exporter": "python",
   "pygments_lexer": "ipython3",
   "version": "3.9.7"
  }
 },
 "nbformat": 4,
 "nbformat_minor": 5
}
