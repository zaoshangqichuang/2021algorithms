{
 "cells": [
  {
   "cell_type": "markdown",
   "id": "6a08b151",
   "metadata": {},
   "source": [
    "# 第二章 数组  \n",
    "## 双指针"
   ]
  },
  {
   "cell_type": "markdown",
   "id": "f5dbb168",
   "metadata": {},
   "source": [
    "### Q8:求和大于或等于k的最短连续子数组（子数组的数均为正整数）"
   ]
  },
  {
   "cell_type": "code",
   "execution_count": 17,
   "id": "f12e69e3",
   "metadata": {},
   "outputs": [
    {
     "data": {
      "text/plain": [
       "array([5, 6, 0, 6, 1, 5, 1, 2, 6, 0, 2, 7, 2, 1, 6, 2, 0, 4, 4, 7, 4, 7,\n",
       "       6, 0, 0, 2, 1, 1, 3, 2, 5, 1, 2, 1, 1, 2, 7, 1, 6, 2, 5, 2, 7, 0,\n",
       "       4, 5, 4, 4, 1, 0, 6, 7, 6, 3, 2, 7, 4, 4, 6, 0, 0, 4, 4, 6, 4, 6,\n",
       "       4, 0, 4, 5, 7, 0, 3, 6, 0, 3, 3, 0, 3, 0, 5, 5, 6, 3, 7, 3, 2, 0,\n",
       "       0, 0, 3, 1, 1, 4, 2, 3, 7, 7, 5, 6])"
      ]
     },
     "execution_count": 17,
     "metadata": {},
     "output_type": "execute_result"
    }
   ],
   "source": [
    "import numpy as np\n",
    "import time\n",
    "array = np.random.randint(0,8,100)\n",
    "k = 12 \n",
    "array"
   ]
  },
  {
   "cell_type": "code",
   "execution_count": 18,
   "id": "52eadb70",
   "metadata": {},
   "outputs": [
    {
     "name": "stdout",
     "output_type": "stream",
     "text": [
      "[7 5] 2\n",
      "Time used: 1.536200 ms\n"
     ]
    }
   ],
   "source": [
    "start = time.perf_counter()\n",
    "n = len(array)\n",
    "min_len = n\n",
    "right = 0\n",
    "left = 0\n",
    "best_array = array\n",
    "while right < n and right>=0 and left >= 0 and left <= right:\n",
    "    if array[left:right+1].sum() >= k:\n",
    "        min_len = min(min_len,right+1-left)\n",
    "        if min_len == right+1-left:\n",
    "            best_array = array[left:right+1]\n",
    "        left += 1\n",
    "    elif array[left:right+1].sum() < k:\n",
    "        right += 1\n",
    "print(best_array,min_len)\n",
    "elapsed = time.perf_counter() - start\n",
    "print('Time used:','%.6f ms'%(1000*elapsed))"
   ]
  },
  {
   "cell_type": "markdown",
   "id": "ec05bece",
   "metadata": {},
   "source": [
    "## 累加和求解\n",
    "### Q10:求和为k的子数组的个数（数字不全为正整数）"
   ]
  },
  {
   "cell_type": "code",
   "execution_count": 34,
   "id": "aabe434b",
   "metadata": {},
   "outputs": [
    {
     "data": {
      "text/plain": [
       "array([ 6,  7,  0, -4, -4,  4, -7,  2,  4, -1, -5, -1, -2,  3, -2, -1,  5,\n",
       "        6,  0,  6,  4, -6, -8,  6, -8, -6,  5,  6,  7,  5,  3, -2,  1, -6,\n",
       "        6,  7, -4,  3, -8, -3, -5, -3,  4,  1,  6,  1, -1,  2,  7,  6,  4,\n",
       "       -4, -6, -7, -3, -8,  3,  0, -4,  0,  2,  4, -3, -1,  1, -8,  0, -4,\n",
       "       -6,  3, -2, -5, -5,  1, -5, -1,  0,  1, -8,  0,  0, -1, -7,  5, -5,\n",
       "        2, -3,  1, -1,  4, -1, -2,  6, -6,  7,  0,  5, -6, -2,  4])"
      ]
     },
     "execution_count": 34,
     "metadata": {},
     "output_type": "execute_result"
    }
   ],
   "source": [
    "array = np.random.randint(-8,8,100)\n",
    "k = 0\n",
    "#k = 12 \n",
    "#k = 2\n",
    "#array = [1,1,1,1]\n",
    "array"
   ]
  },
  {
   "cell_type": "code",
   "execution_count": 37,
   "id": "f5194eb8",
   "metadata": {},
   "outputs": [
    {
     "name": "stdout",
     "output_type": "stream",
     "text": [
      "190\n",
      "Time used: 0.889000 ms\n"
     ]
    }
   ],
   "source": [
    "#不初始化键值对0:1\n",
    "start = time.perf_counter()\n",
    "n = len(array)\n",
    "right = 0\n",
    "sum_cum = 0\n",
    "sum_dict = {}\n",
    "count = 0\n",
    "#k = 13\n",
    "for right in range(n):\n",
    "    sum_cum += array[right]\n",
    "    sum_dict[sum_cum] = sum_dict.get(sum_cum,0)+1\n",
    "    count += sum_dict.get(sum_cum-k,0)+(sum_cum==k)\n",
    "print(count)\n",
    "elapsed = time.perf_counter() - start\n",
    "print('Time used:','%.6f ms'%(1000*elapsed))"
   ]
  },
  {
   "cell_type": "code",
   "execution_count": 38,
   "id": "355976cf",
   "metadata": {},
   "outputs": [
    {
     "name": "stdout",
     "output_type": "stream",
     "text": [
      "190\n",
      "Time used: 0.416800 ms\n"
     ]
    }
   ],
   "source": [
    "#初始化键值对0:1\n",
    "start = time.perf_counter()\n",
    "n = len(array)\n",
    "right = 0\n",
    "sum_cum = 0\n",
    "sum_dict = {0:1}\n",
    "count = 0\n",
    "#k = 13\n",
    "for right in range(n):\n",
    "    sum_cum += array[right]\n",
    "    sum_dict[sum_cum] = sum_dict.get(sum_cum,0)+1\n",
    "    count += sum_dict.get(sum_cum-k,0)\n",
    "print(count)\n",
    "elapsed = time.perf_counter() - start\n",
    "print('Time used:','%.6f ms'%(1000*elapsed))"
   ]
  },
  {
   "cell_type": "markdown",
   "id": "4fe44ad1",
   "metadata": {},
   "source": [
    "### Q11:0和1个数相同的最长子数组  \n",
    "思路：用累加求解，将0变为-1"
   ]
  },
  {
   "cell_type": "code",
   "execution_count": 40,
   "id": "d1464c8a",
   "metadata": {},
   "outputs": [
    {
     "data": {
      "text/plain": [
       "array([1, 1, 0, 0, 1, 0, 1, 0, 1, 0, 1, 1, 0, 0, 1, 0, 0, 1, 0, 1, 0, 1,\n",
       "       0, 0, 1, 1, 0, 0, 0, 1, 0, 0, 0, 1, 1, 1, 0, 0, 0, 0, 0, 1, 0, 0,\n",
       "       1, 0, 0, 0, 1, 1, 0, 0, 0, 1, 0, 1, 0, 1, 1, 1, 0, 0, 1, 1, 0, 1,\n",
       "       0, 0, 1, 1, 0, 0, 0, 1, 1, 0, 1, 0, 0, 0, 1, 1, 0, 0, 1, 1, 0, 1,\n",
       "       0, 0, 0, 1, 1, 1, 1, 0, 1, 0, 0, 1])"
      ]
     },
     "execution_count": 40,
     "metadata": {},
     "output_type": "execute_result"
    }
   ],
   "source": [
    "array = np.random.randint(0,2,100)"
   ]
  },
  {
   "cell_type": "code",
   "execution_count": 51,
   "id": "46e0f1c5",
   "metadata": {},
   "outputs": [
    {
     "name": "stdout",
     "output_type": "stream",
     "text": [
      "52\n"
     ]
    }
   ],
   "source": [
    "start = time.perf_counter()\n",
    "n = len(array)\n",
    "right = 0\n",
    "sum_cum = 0\n",
    "k =0\n",
    "sum_dict = {0:0}\n",
    "max_len = 0\n",
    "for right in range(n):\n",
    "    sum_cum += 2*array[right]-1\n",
    "    max_len = max(max_len,right-sum_dict.get(sum_cum-k,right+1)+1)\n",
    "    #print(max_len,right)\n",
    "    sum_dict[sum_cum] = min(sum_dict.get(sum_cum,n),right+1)\n",
    "print(max_len)"
   ]
  }
 ],
 "metadata": {
  "kernelspec": {
   "display_name": "Python 3 (ipykernel)",
   "language": "python",
   "name": "python3"
  },
  "language_info": {
   "codemirror_mode": {
    "name": "ipython",
    "version": 3
   },
   "file_extension": ".py",
   "mimetype": "text/x-python",
   "name": "python",
   "nbconvert_exporter": "python",
   "pygments_lexer": "ipython3",
   "version": "3.9.7"
  }
 },
 "nbformat": 4,
 "nbformat_minor": 5
}
