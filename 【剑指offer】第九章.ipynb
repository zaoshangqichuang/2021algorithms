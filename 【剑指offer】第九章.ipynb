{
 "cells": [
  {
   "cell_type": "code",
   "execution_count": 23,
   "id": "6851d5bd",
   "metadata": {},
   "outputs": [],
   "source": [
    "import numpy as np\n",
    "import random\n",
    "import time"
   ]
  },
  {
   "cell_type": "markdown",
   "id": "8fef9130",
   "metadata": {},
   "source": [
    "# 第九章 堆\n",
    "## 大根堆：根节点>子节点；小根堆：根节点<子节点"
   ]
  },
  {
   "cell_type": "code",
   "execution_count": 43,
   "id": "94dac1f2",
   "metadata": {},
   "outputs": [],
   "source": [
    "class heapqueue(object):\n",
    "    def __init__(self):\n",
    "        self.l = []\n",
    "    def enqueue(self,val):\n",
    "        self.l.append(val)\n",
    "    def is_not_empty(self):\n",
    "        if len(self.l) == 0:\n",
    "            return False\n",
    "        else:\n",
    "            return True\n",
    "    def dequeue(self):\n",
    "        if self.is_not_empty():\n",
    "            x = self.l.pop(0)\n",
    "            return x\n",
    "class heap(object):\n",
    "    def __init__(self,root):\n",
    "        self.root = root\n",
    "        self.left = None\n",
    "        self.right = None\n",
    "        self.parent = None\n",
    "    def bfs_travel(self):\n",
    "        self.queue = heapqueue()\n",
    "        self.queue.enqueue(self)\n",
    "        cur = 1\n",
    "        next = 0\n",
    "        while self.queue.is_not_empty():\n",
    "            x = self.queue.dequeue()\n",
    "            cur -= 1\n",
    "            print(x.root,end = ' ')\n",
    "            if x.left is not None:\n",
    "                self.queue.enqueue(x.left)\n",
    "                next += 1\n",
    "            if x.right is not None:\n",
    "                self.queue.enqueue(x.right)\n",
    "                next += 1\n",
    "            if cur == 0:\n",
    "                print('\\n')\n",
    "                cur,next = next,cur\n",
    "def transform(heap):\n",
    "    if heap.parent == None:\n",
    "        return None\n",
    "    else:\n",
    "        if heap.root > heap.parent.root:\n",
    "            heap.parent.root,heap.root = heap.root,heap.parent.root\n",
    "        return 1\n",
    "class max_heap_insertor(object):\n",
    "    def __init__(self,root):\n",
    "        self.tree = heap(root)\n",
    "        self.queue = heapqueue()\n",
    "        self.queue.enqueue(self.tree)      \n",
    "    def insert(self,val):\n",
    "        while self.queue.is_not_empty():\n",
    "            x = self.queue.l[0]\n",
    "            if x.left is not None and x.right is not None:\n",
    "                #左右节点都遍历完后出队列\n",
    "                x = self.queue.dequeue()\n",
    "                self.queue.enqueue(x.left)\n",
    "                self.queue.enqueue(x.right)\n",
    "                continue\n",
    "            elif x.left is not None and x.right is None:\n",
    "                self.queue.enqueue(x.left)\n",
    "                x.right = heap(val)\n",
    "                x.right.parent = x\n",
    "                heap0 = x.right\n",
    "                while 1:\n",
    "                    if transform(heap0) is None:\n",
    "                        break\n",
    "                    else:\n",
    "                        heap0 = heap0.parent\n",
    "                self.queue.enqueue(x.right)\n",
    "                x = self.queue.dequeue()\n",
    "                break\n",
    "            elif x.left is None and x.right is None:\n",
    "                x.left = heap(val)\n",
    "                x.left.parent = x\n",
    "                heap0 = x.left\n",
    "                while 1:\n",
    "                    if transform(heap0) is None:\n",
    "                        break\n",
    "                    else:\n",
    "                        heap0 = heap0.parent\n",
    "                self.queue.enqueue(x.left)\n",
    "                break"
   ]
  },
  {
   "cell_type": "code",
   "execution_count": 44,
   "id": "34d140f0",
   "metadata": {},
   "outputs": [
    {
     "name": "stdout",
     "output_type": "stream",
     "text": [
      "6 \n",
      "\n",
      "5 4 \n",
      "\n",
      "3 2 1 \n",
      "\n"
     ]
    }
   ],
   "source": [
    "h = max_heap_insertor(6)\n",
    "for i in [5,4,3,2,1]:\n",
    "    h.insert(i)\n",
    "h.tree.bfs_travel()"
   ]
  },
  {
   "cell_type": "code",
   "execution_count": 45,
   "id": "66f24204",
   "metadata": {},
   "outputs": [
    {
     "name": "stdout",
     "output_type": "stream",
     "text": [
      "7 \n",
      "\n",
      "5 6 \n",
      "\n",
      "3 2 1 4 \n",
      "\n"
     ]
    }
   ],
   "source": [
    "h.insert(7)\n",
    "h.tree.bfs_travel()"
   ]
  },
  {
   "cell_type": "markdown",
   "id": "9cc0e243",
   "metadata": {},
   "source": [
    "### Q59:数据流的第k大的数字\n",
    "#### 用小根堆实现"
   ]
  },
  {
   "cell_type": "markdown",
   "id": "9a95910c",
   "metadata": {},
   "source": [
    "## 小根堆+删除堆顶"
   ]
  },
  {
   "cell_type": "code",
   "execution_count": 73,
   "id": "603efeff",
   "metadata": {},
   "outputs": [],
   "source": [
    "def transform(heap):\n",
    "    if heap.parent == None:\n",
    "        return None\n",
    "    else:\n",
    "        if heap.root < heap.parent.root:\n",
    "            heap.parent.root,heap.root = heap.root,heap.parent.root\n",
    "        return 1\n",
    "def exchange(heap):\n",
    "    #小根堆，保证根节点是最小值\n",
    "    if heap.left is None and heap.right is None:\n",
    "        return None\n",
    "    elif heap.left is not None and heap.right is not None:\n",
    "        if heap.left.root < heap.right.root and heap.left.root < heap.root:\n",
    "            heap.root,heap.left.root = heap.left.root,heap.root\n",
    "            return heap.left\n",
    "        if heap.right.root < heap.left.root and heap.right.root < heap.root:\n",
    "            heap.root,heap.right.root = heap.right.root,heap.root\n",
    "            return heap.right\n",
    "        else:\n",
    "            return None\n",
    "    elif heap.left is not None and heap.right is None:\n",
    "        if heap.left.root < heap.root:\n",
    "            heap.root,heap.left.root = heap.left.root,heap.root\n",
    "            return heap.left\n",
    "        else:\n",
    "            return None\n",
    "    elif heap.left is None and heap.right is not None:\n",
    "        if heap.right.root < heap.root:\n",
    "            heap.root,heap.right.root = heap.right.root,heap.root\n",
    "            return heap.left\n",
    "        else:\n",
    "            return None\n",
    "    else:\n",
    "        return None\n",
    "            \n",
    "class min_heap_insertor(object):\n",
    "    def __init__(self,root):\n",
    "        self.tree = heap(root)\n",
    "        self.queue = heapqueue()\n",
    "        self.queue.enqueue(self.tree)\n",
    "        self.cur = self.tree\n",
    "    def insert(self,val):\n",
    "        while self.queue.is_not_empty():\n",
    "            x = self.queue.l[0]\n",
    "            if x.left is not None and x.right is not None:\n",
    "                #左右节点都遍历完后出队列\n",
    "                x = self.queue.dequeue()\n",
    "                self.queue.enqueue(x.left)\n",
    "                self.queue.enqueue(x.right)\n",
    "                continue\n",
    "            elif x.left is not None and x.right is None:\n",
    "                self.queue.enqueue(x.left)\n",
    "                x.right = heap(val)\n",
    "                x.right.parent = x\n",
    "                heap0 = x.right\n",
    "                while 1:\n",
    "                    if transform(heap0) is None:\n",
    "                        break\n",
    "                    else:\n",
    "                        heap0 = heap0.parent\n",
    "                self.queue.enqueue(x.right)\n",
    "                self.cur = x.right\n",
    "                x = self.queue.dequeue()\n",
    "                break\n",
    "            elif x.left is None and x.right is None:\n",
    "                x.left = heap(val)\n",
    "                x.left.parent = x\n",
    "                heap0 = x.left\n",
    "                while 1:\n",
    "                    if transform(heap0) is None:\n",
    "                        break\n",
    "                    else:\n",
    "                        heap0 = heap0.parent\n",
    "                self.queue.enqueue(x.left)\n",
    "                self.cur = x.left\n",
    "                break\n",
    "    def delete_heap_peak(self):\n",
    "        self.tree.root = self.cur.root\n",
    "        if self.cur.parent.left == self.cur:\n",
    "            self.cur.parent.left = None\n",
    "        elif self.cur.parent.right == self.cur:\n",
    "            self.cur.parent.right = None\n",
    "        cur = self.tree\n",
    "        while cur is not None:\n",
    "            cur = exchange(cur)\n",
    "        return 1\n",
    "\n"
   ]
  },
  {
   "cell_type": "code",
   "execution_count": 74,
   "id": "ed2edb68",
   "metadata": {},
   "outputs": [
    {
     "name": "stdout",
     "output_type": "stream",
     "text": [
      "1 \n",
      "\n",
      "3 2 \n",
      "\n",
      "6 4 5 \n",
      "\n"
     ]
    },
    {
     "data": {
      "text/plain": [
       "5"
      ]
     },
     "execution_count": 74,
     "metadata": {},
     "output_type": "execute_result"
    }
   ],
   "source": [
    "h = min_heap_insertor(6)\n",
    "for i in [5,4,3,2,1]:\n",
    "    h.insert(i)\n",
    "h.tree.bfs_travel()\n",
    "h.cur.root"
   ]
  },
  {
   "cell_type": "code",
   "execution_count": 75,
   "id": "6065f771",
   "metadata": {},
   "outputs": [
    {
     "name": "stdout",
     "output_type": "stream",
     "text": [
      "2 \n",
      "\n",
      "3 5 \n",
      "\n",
      "6 4 \n",
      "\n"
     ]
    }
   ],
   "source": [
    "#删除根节点\n",
    "h.delete_heap_peak()\n",
    "h.tree.bfs_travel()"
   ]
  },
  {
   "cell_type": "code",
   "execution_count": 84,
   "id": "3fa79168",
   "metadata": {},
   "outputs": [],
   "source": [
    "#l = np.random.randint(1,100000,10000)\n",
    "#len(l)\n",
    "l = [1,2,3,4,5,6,7,8,9,10]"
   ]
  },
  {
   "cell_type": "code",
   "execution_count": 85,
   "id": "6c47afe4",
   "metadata": {},
   "outputs": [],
   "source": [
    "min_h = min_heap_insertor(l[0])\n",
    "k = 5\n",
    "for i in l[1:k+1]:\n",
    "    min_h.insert(i)\n",
    "for i in l[k+1:]:\n",
    "    if i > min_h.tree.root:\n",
    "        #删除根节点\n",
    "        min_h.delete_heap_peak()\n",
    "        min_h.insert(i)\n",
    "    else:\n",
    "        continue     "
   ]
  },
  {
   "cell_type": "code",
   "execution_count": 86,
   "id": "bda7fd52",
   "metadata": {},
   "outputs": [
    {
     "name": "stdout",
     "output_type": "stream",
     "text": [
      "5 \n",
      "\n",
      "6 7 \n",
      "\n",
      "9 8 10 \n",
      "\n"
     ]
    }
   ],
   "source": [
    "min_h.tree.bfs_travel()"
   ]
  },
  {
   "cell_type": "code",
   "execution_count": 87,
   "id": "20c24c5a",
   "metadata": {},
   "outputs": [],
   "source": [
    "l = np.random.randint(1,100000,10000)\n",
    "k = 10"
   ]
  },
  {
   "cell_type": "code",
   "execution_count": 94,
   "id": "bd965998",
   "metadata": {},
   "outputs": [
    {
     "name": "stdout",
     "output_type": "stream",
     "text": [
      "花费1.9473s\n"
     ]
    }
   ],
   "source": [
    "start = time.perf_counter()\n",
    "min_h = min_heap_insertor(l[0])\n",
    "k = 5\n",
    "for i in l[1:k]:\n",
    "    min_h.insert(i)\n",
    "for i in l[k+1:]:\n",
    "    if i > min_h.tree.root:\n",
    "        #删除根节点\n",
    "        min_h.delete_heap_peak()\n",
    "        min_h.insert(i)\n",
    "    else:\n",
    "        continue \n",
    "print('花费'+'%.4fs'%(1000*(time.perf_counter()-start)))"
   ]
  },
  {
   "cell_type": "code",
   "execution_count": 95,
   "id": "7aba5c46",
   "metadata": {},
   "outputs": [
    {
     "name": "stdout",
     "output_type": "stream",
     "text": [
      "99948 \n",
      "\n",
      "99963 99960 \n",
      "\n",
      "99996 99961 \n",
      "\n"
     ]
    }
   ],
   "source": [
    "min_h.tree.bfs_travel()"
   ]
  },
  {
   "cell_type": "code",
   "execution_count": 96,
   "id": "0d3f3c85",
   "metadata": {},
   "outputs": [
    {
     "name": "stdout",
     "output_type": "stream",
     "text": [
      "花费3.0617s\n"
     ]
    }
   ],
   "source": [
    "start = time.perf_counter()\n",
    "l0=sorted(l,reverse=True)[:k]\n",
    "print('花费'+'%.4fs'%(1000*(time.perf_counter()-start)))"
   ]
  },
  {
   "cell_type": "code",
   "execution_count": 97,
   "id": "5ed7524d",
   "metadata": {},
   "outputs": [
    {
     "data": {
      "text/plain": [
       "[99996, 99963, 99961, 99960, 99948]"
      ]
     },
     "execution_count": 97,
     "metadata": {},
     "output_type": "execute_result"
    }
   ],
   "source": [
    "l0"
   ]
  }
 ],
 "metadata": {
  "kernelspec": {
   "display_name": "Python 3 (ipykernel)",
   "language": "python",
   "name": "python3"
  },
  "language_info": {
   "codemirror_mode": {
    "name": "ipython",
    "version": 3
   },
   "file_extension": ".py",
   "mimetype": "text/x-python",
   "name": "python",
   "nbconvert_exporter": "python",
   "pygments_lexer": "ipython3",
   "version": "3.9.7"
  }
 },
 "nbformat": 4,
 "nbformat_minor": 5
}
